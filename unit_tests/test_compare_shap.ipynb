{
 "cells": [
  {
   "cell_type": "code",
   "execution_count": 1,
   "metadata": {},
   "outputs": [],
   "source": [
    "%load_ext autoreload\n",
    "%autoreload 2"
   ]
  },
  {
   "cell_type": "code",
   "execution_count": 2,
   "metadata": {},
   "outputs": [
    {
     "ename": "ModuleNotFoundError",
     "evalue": "No module named 'utils'",
     "output_type": "error",
     "traceback": [
      "\u001b[0;31m---------------------------------------------------------------------------\u001b[0m",
      "\u001b[0;31mModuleNotFoundError\u001b[0m                       Traceback (most recent call last)",
      "\u001b[0;32m<ipython-input-2-50ff88f66368>\u001b[0m in \u001b[0;36m<module>\u001b[0;34m\u001b[0m\n\u001b[1;32m      4\u001b[0m \u001b[0;32mimport\u001b[0m \u001b[0maltair\u001b[0m \u001b[0;32mas\u001b[0m \u001b[0malt\u001b[0m\u001b[0;34m\u001b[0m\u001b[0;34m\u001b[0m\u001b[0m\n\u001b[1;32m      5\u001b[0m \u001b[0;32mfrom\u001b[0m \u001b[0mattributionpriors\u001b[0m \u001b[0;32mimport\u001b[0m \u001b[0meager_ops\u001b[0m\u001b[0;34m\u001b[0m\u001b[0;34m\u001b[0m\u001b[0m\n\u001b[0;32m----> 6\u001b[0;31m \u001b[0;32mfrom\u001b[0m \u001b[0mpath_explain\u001b[0m \u001b[0;32mimport\u001b[0m \u001b[0mPathExplainerTF\u001b[0m\u001b[0;34m\u001b[0m\u001b[0;34m\u001b[0m\u001b[0m\n\u001b[0m\u001b[1;32m      7\u001b[0m \u001b[0;32mimport\u001b[0m \u001b[0mshap\u001b[0m\u001b[0;34m\u001b[0m\u001b[0;34m\u001b[0m\u001b[0m\n",
      "\u001b[0;32m~/expected_hessians/path_explain/__init__.py\u001b[0m in \u001b[0;36m<module>\u001b[0;34m\u001b[0m\n\u001b[1;32m      6\u001b[0m \u001b[0;34m\u001b[0m\u001b[0m\n\u001b[1;32m      7\u001b[0m \u001b[0;32mfrom\u001b[0m \u001b[0;34m.\u001b[0m\u001b[0mexplainers\u001b[0m\u001b[0;34m.\u001b[0m\u001b[0mpath_explainer_tf\u001b[0m \u001b[0;32mimport\u001b[0m \u001b[0mPathExplainerTF\u001b[0m\u001b[0;34m\u001b[0m\u001b[0;34m\u001b[0m\u001b[0m\n\u001b[0;32m----> 8\u001b[0;31m \u001b[0;32mfrom\u001b[0m \u001b[0mutils\u001b[0m \u001b[0;32mimport\u001b[0m \u001b[0mset_up_environment\u001b[0m\u001b[0;34m,\u001b[0m \u001b[0msoftplus_activation\u001b[0m\u001b[0;34m\u001b[0m\u001b[0;34m\u001b[0m\u001b[0m\n\u001b[0m\u001b[1;32m      9\u001b[0m \u001b[0;32mfrom\u001b[0m \u001b[0;34m.\u001b[0m\u001b[0mplot\u001b[0m\u001b[0;34m.\u001b[0m\u001b[0mscatter\u001b[0m \u001b[0;32mimport\u001b[0m \u001b[0mscatter_plot\u001b[0m\u001b[0;34m\u001b[0m\u001b[0;34m\u001b[0m\u001b[0m\n\u001b[1;32m     10\u001b[0m \u001b[0;32mfrom\u001b[0m \u001b[0;34m.\u001b[0m\u001b[0mplot\u001b[0m\u001b[0;34m.\u001b[0m\u001b[0msummary\u001b[0m \u001b[0;32mimport\u001b[0m \u001b[0msummary_plot\u001b[0m\u001b[0;34m\u001b[0m\u001b[0;34m\u001b[0m\u001b[0m\n",
      "\u001b[0;31mModuleNotFoundError\u001b[0m: No module named 'utils'"
     ]
    }
   ],
   "source": [
    "import tensorflow as tf\n",
    "import numpy as np\n",
    "import pandas as pd\n",
    "import altair as alt\n",
    "from attributionpriors import eager_ops\n",
    "from path_explain import PathExplainerTF\n",
    "import shap"
   ]
  },
  {
   "cell_type": "code",
   "execution_count": null,
   "metadata": {},
   "outputs": [],
   "source": [
    "PathExplainerTF"
   ]
  },
  {
   "cell_type": "code",
   "execution_count": 3,
   "metadata": {},
   "outputs": [],
   "source": [
    "(x_train, y_train), (x_test, y_test) = tf.keras.datasets.boston_housing.load_data()"
   ]
  },
  {
   "cell_type": "code",
   "execution_count": 4,
   "metadata": {},
   "outputs": [],
   "source": [
    "column_names = ['CRIM', 'ZN', 'INDUS', 'CHAS', 'NOX', 'RM', 'AGE', 'DIS', 'RAD',\n",
    "                'TAX', 'PTRATIO', 'B', 'LSTAT']"
   ]
  },
  {
   "cell_type": "code",
   "execution_count": 5,
   "metadata": {},
   "outputs": [],
   "source": [
    "mean = x_train.mean(axis = 0)\n",
    "std  = x_train.std(axis  = 0)\n",
    "x_train = (x_train - mean) / std\n",
    "x_test  = (x_test  - mean) / std"
   ]
  },
  {
   "cell_type": "code",
   "execution_count": 6,
   "metadata": {},
   "outputs": [
    {
     "name": "stdout",
     "output_type": "stream",
     "text": [
      "Model: \"sequential\"\n",
      "_________________________________________________________________\n",
      "Layer (type)                 Output Shape              Param #   \n",
      "=================================================================\n",
      "dense (Dense)                (None, 64)                896       \n",
      "_________________________________________________________________\n",
      "dense_1 (Dense)              (None, 64)                4160      \n",
      "_________________________________________________________________\n",
      "dense_2 (Dense)              (None, 1)                 65        \n",
      "=================================================================\n",
      "Total params: 5,121\n",
      "Trainable params: 5,121\n",
      "Non-trainable params: 0\n",
      "_________________________________________________________________\n"
     ]
    }
   ],
   "source": [
    "def build_model():\n",
    "    model = tf.keras.Sequential([\n",
    "        tf.keras.layers.Dense(64, activation=tf.keras.activations.relu,\n",
    "                           input_shape=(x_train.shape[1],)),\n",
    "        tf.keras.layers.Dense(64, activation=tf.keras.activations.relu),\n",
    "        tf.keras.layers.Dense(1)\n",
    "    ])\n",
    "\n",
    "    optimizer = tf.keras.optimizers.SGD(0.0001)\n",
    "\n",
    "    model.compile(loss='mse',\n",
    "                optimizer=optimizer,\n",
    "                metrics=['mae'])\n",
    "    return model\n",
    "\n",
    "model = build_model()\n",
    "model.summary()"
   ]
  },
  {
   "cell_type": "code",
   "execution_count": 7,
   "metadata": {},
   "outputs": [],
   "source": [
    "history = model.fit(x_train, y_train, epochs=500,\n",
    "                    validation_split=0.2, verbose=0)"
   ]
  },
  {
   "cell_type": "code",
   "execution_count": 8,
   "metadata": {},
   "outputs": [
    {
     "data": {
      "application/vnd.vegalite.v3+json": {
       "$schema": "https://vega.github.io/schema/vega-lite/v3.4.0.json",
       "config": {
        "mark": {
         "tooltip": null
        },
        "view": {
         "height": 300,
         "width": 400
        }
       },
       "data": {
        "name": "data-0a5ee361c4efc5aa9d80123e31317ed4"
       },
       "datasets": {
        "data-0a5ee361c4efc5aa9d80123e31317ed4": [
         {
          "epoch": 0,
          "loss": 559.0667227635812,
          "split": "loss"
         },
         {
          "epoch": 1,
          "loss": 537.8831292970261,
          "split": "loss"
         },
         {
          "epoch": 2,
          "loss": 516.0214747378701,
          "split": "loss"
         },
         {
          "epoch": 3,
          "loss": 491.2359234127836,
          "split": "loss"
         },
         {
          "epoch": 4,
          "loss": 463.82668283184984,
          "split": "loss"
         },
         {
          "epoch": 5,
          "loss": 431.4820654901558,
          "split": "loss"
         },
         {
          "epoch": 6,
          "loss": 396.51837668404124,
          "split": "loss"
         },
         {
          "epoch": 7,
          "loss": 354.95302976248064,
          "split": "loss"
         },
         {
          "epoch": 8,
          "loss": 307.20747569175694,
          "split": "loss"
         },
         {
          "epoch": 9,
          "loss": 258.77623689728256,
          "split": "loss"
         },
         {
          "epoch": 10,
          "loss": 211.4235072888826,
          "split": "loss"
         },
         {
          "epoch": 11,
          "loss": 170.6698332984381,
          "split": "loss"
         },
         {
          "epoch": 12,
          "loss": 137.52896266972687,
          "split": "loss"
         },
         {
          "epoch": 13,
          "loss": 113.17593355444562,
          "split": "loss"
         },
         {
          "epoch": 14,
          "loss": 93.57932120875309,
          "split": "loss"
         },
         {
          "epoch": 15,
          "loss": 81.17106233661758,
          "split": "loss"
         },
         {
          "epoch": 16,
          "loss": 72.09665216380967,
          "split": "loss"
         },
         {
          "epoch": 17,
          "loss": 64.81911157897382,
          "split": "loss"
         },
         {
          "epoch": 18,
          "loss": 58.740795637431894,
          "split": "loss"
         },
         {
          "epoch": 19,
          "loss": 53.640842048007265,
          "split": "loss"
         },
         {
          "epoch": 20,
          "loss": 49.05077468942932,
          "split": "loss"
         },
         {
          "epoch": 21,
          "loss": 45.25368576522213,
          "split": "loss"
         },
         {
          "epoch": 22,
          "loss": 41.66636337362945,
          "split": "loss"
         },
         {
          "epoch": 23,
          "loss": 38.955502725607104,
          "split": "loss"
         },
         {
          "epoch": 24,
          "loss": 36.35242507036995,
          "split": "loss"
         },
         {
          "epoch": 25,
          "loss": 34.15657847141703,
          "split": "loss"
         },
         {
          "epoch": 26,
          "loss": 32.100623706545996,
          "split": "loss"
         },
         {
          "epoch": 27,
          "loss": 30.08922439167743,
          "split": "loss"
         },
         {
          "epoch": 28,
          "loss": 28.732454917010138,
          "split": "loss"
         },
         {
          "epoch": 29,
          "loss": 27.476271543709487,
          "split": "loss"
         },
         {
          "epoch": 30,
          "loss": 26.30017101358703,
          "split": "loss"
         },
         {
          "epoch": 31,
          "loss": 25.26862840091481,
          "split": "loss"
         },
         {
          "epoch": 32,
          "loss": 24.506824782389238,
          "split": "loss"
         },
         {
          "epoch": 33,
          "loss": 23.834869432006457,
          "split": "loss"
         },
         {
          "epoch": 34,
          "loss": 23.190533003201796,
          "split": "loss"
         },
         {
          "epoch": 35,
          "loss": 22.57083185243164,
          "split": "loss"
         },
         {
          "epoch": 36,
          "loss": 22.089694781938203,
          "split": "loss"
         },
         {
          "epoch": 37,
          "loss": 21.61917388549899,
          "split": "loss"
         },
         {
          "epoch": 38,
          "loss": 21.191743159810827,
          "split": "loss"
         },
         {
          "epoch": 39,
          "loss": 20.856827703422805,
          "split": "loss"
         },
         {
          "epoch": 40,
          "loss": 20.475867070649798,
          "split": "loss"
         },
         {
          "epoch": 41,
          "loss": 20.14659778104847,
          "split": "loss"
         },
         {
          "epoch": 42,
          "loss": 19.88629731452871,
          "split": "loss"
         },
         {
          "epoch": 43,
          "loss": 19.576880985738324,
          "split": "loss"
         },
         {
          "epoch": 44,
          "loss": 19.3316842129356,
          "split": "loss"
         },
         {
          "epoch": 45,
          "loss": 19.0610885858628,
          "split": "loss"
         },
         {
          "epoch": 46,
          "loss": 18.84899645693162,
          "split": "loss"
         },
         {
          "epoch": 47,
          "loss": 18.63488304799555,
          "split": "loss"
         },
         {
          "epoch": 48,
          "loss": 18.43301223970419,
          "split": "loss"
         },
         {
          "epoch": 49,
          "loss": 18.242117583567143,
          "split": "loss"
         },
         {
          "epoch": 50,
          "loss": 18.06472825708773,
          "split": "loss"
         },
         {
          "epoch": 51,
          "loss": 17.863119480410596,
          "split": "loss"
         },
         {
          "epoch": 52,
          "loss": 17.72169231261262,
          "split": "loss"
         },
         {
          "epoch": 53,
          "loss": 17.533045801215867,
          "split": "loss"
         },
         {
          "epoch": 54,
          "loss": 17.38056863719834,
          "split": "loss"
         },
         {
          "epoch": 55,
          "loss": 17.213332787386772,
          "split": "loss"
         },
         {
          "epoch": 56,
          "loss": 17.07393771723697,
          "split": "loss"
         },
         {
          "epoch": 57,
          "loss": 16.91955563748953,
          "split": "loss"
         },
         {
          "epoch": 58,
          "loss": 16.774676632216842,
          "split": "loss"
         },
         {
          "epoch": 59,
          "loss": 16.650106867031415,
          "split": "loss"
         },
         {
          "epoch": 60,
          "loss": 16.507704024713476,
          "split": "loss"
         },
         {
          "epoch": 61,
          "loss": 16.397483672150887,
          "split": "loss"
         },
         {
          "epoch": 62,
          "loss": 16.24318962348135,
          "split": "loss"
         },
         {
          "epoch": 63,
          "loss": 16.13439672428757,
          "split": "loss"
         },
         {
          "epoch": 64,
          "loss": 15.99104168540553,
          "split": "loss"
         },
         {
          "epoch": 65,
          "loss": 15.88342981958537,
          "split": "loss"
         },
         {
          "epoch": 66,
          "loss": 15.793242772666293,
          "split": "loss"
         },
         {
          "epoch": 67,
          "loss": 15.640782694329419,
          "split": "loss"
         },
         {
          "epoch": 68,
          "loss": 15.551488333073193,
          "split": "loss"
         },
         {
          "epoch": 69,
          "loss": 15.469846790420013,
          "split": "loss"
         },
         {
          "epoch": 70,
          "loss": 15.362701436683489,
          "split": "loss"
         },
         {
          "epoch": 71,
          "loss": 15.263877068510734,
          "split": "loss"
         },
         {
          "epoch": 72,
          "loss": 15.130635146386114,
          "split": "loss"
         },
         {
          "epoch": 73,
          "loss": 15.108297097055535,
          "split": "loss"
         },
         {
          "epoch": 74,
          "loss": 15.018547937965984,
          "split": "loss"
         },
         {
          "epoch": 75,
          "loss": 14.850170255076405,
          "split": "loss"
         },
         {
          "epoch": 76,
          "loss": 14.75717153637771,
          "split": "loss"
         },
         {
          "epoch": 77,
          "loss": 14.67255832093419,
          "split": "loss"
         },
         {
          "epoch": 78,
          "loss": 14.61257091026188,
          "split": "loss"
         },
         {
          "epoch": 79,
          "loss": 14.511811615143767,
          "split": "loss"
         },
         {
          "epoch": 80,
          "loss": 14.430661319579134,
          "split": "loss"
         },
         {
          "epoch": 81,
          "loss": 14.327723666979432,
          "split": "loss"
         },
         {
          "epoch": 82,
          "loss": 14.242788196717253,
          "split": "loss"
         },
         {
          "epoch": 83,
          "loss": 14.199288087732652,
          "split": "loss"
         },
         {
          "epoch": 84,
          "loss": 14.106230690014252,
          "split": "loss"
         },
         {
          "epoch": 85,
          "loss": 14.056512938933476,
          "split": "loss"
         },
         {
          "epoch": 86,
          "loss": 14.03085479057241,
          "split": "loss"
         },
         {
          "epoch": 87,
          "loss": 13.921726192852292,
          "split": "loss"
         },
         {
          "epoch": 88,
          "loss": 13.840910896797299,
          "split": "loss"
         },
         {
          "epoch": 89,
          "loss": 13.786772217174802,
          "split": "loss"
         },
         {
          "epoch": 90,
          "loss": 13.684209019037961,
          "split": "loss"
         },
         {
          "epoch": 91,
          "loss": 13.607047013084955,
          "split": "loss"
         },
         {
          "epoch": 92,
          "loss": 13.564568731253361,
          "split": "loss"
         },
         {
          "epoch": 93,
          "loss": 13.492838955516048,
          "split": "loss"
         },
         {
          "epoch": 94,
          "loss": 13.419260408856182,
          "split": "loss"
         },
         {
          "epoch": 95,
          "loss": 13.355394079958323,
          "split": "loss"
         },
         {
          "epoch": 96,
          "loss": 13.273615578748862,
          "split": "loss"
         },
         {
          "epoch": 97,
          "loss": 13.246391585736822,
          "split": "loss"
         },
         {
          "epoch": 98,
          "loss": 13.167425526184932,
          "split": "loss"
         },
         {
          "epoch": 99,
          "loss": 13.11452955948679,
          "split": "loss"
         },
         {
          "epoch": 100,
          "loss": 13.068972801645474,
          "split": "loss"
         },
         {
          "epoch": 101,
          "loss": 13.006922907873573,
          "split": "loss"
         },
         {
          "epoch": 102,
          "loss": 12.959401827478557,
          "split": "loss"
         },
         {
          "epoch": 103,
          "loss": 12.931905223858246,
          "split": "loss"
         },
         {
          "epoch": 104,
          "loss": 12.840438003510513,
          "split": "loss"
         },
         {
          "epoch": 105,
          "loss": 12.778187686075736,
          "split": "loss"
         },
         {
          "epoch": 106,
          "loss": 12.758137298442263,
          "split": "loss"
         },
         {
          "epoch": 107,
          "loss": 12.719955568343124,
          "split": "loss"
         },
         {
          "epoch": 108,
          "loss": 12.634545080063882,
          "split": "loss"
         },
         {
          "epoch": 109,
          "loss": 12.59185949124788,
          "split": "loss"
         },
         {
          "epoch": 110,
          "loss": 12.544054140616497,
          "split": "loss"
         },
         {
          "epoch": 111,
          "loss": 12.536010795333437,
          "split": "loss"
         },
         {
          "epoch": 112,
          "loss": 12.461482468773337,
          "split": "loss"
         },
         {
          "epoch": 113,
          "loss": 12.427527052699228,
          "split": "loss"
         },
         {
          "epoch": 114,
          "loss": 12.356903355188045,
          "split": "loss"
         },
         {
          "epoch": 115,
          "loss": 12.32696347192345,
          "split": "loss"
         },
         {
          "epoch": 116,
          "loss": 12.237120817320266,
          "split": "loss"
         },
         {
          "epoch": 117,
          "loss": 12.225300012358202,
          "split": "loss"
         },
         {
          "epoch": 118,
          "loss": 12.146155966324702,
          "split": "loss"
         },
         {
          "epoch": 119,
          "loss": 12.12330230618409,
          "split": "loss"
         },
         {
          "epoch": 120,
          "loss": 12.07203742889428,
          "split": "loss"
         },
         {
          "epoch": 121,
          "loss": 12.046030691164566,
          "split": "loss"
         },
         {
          "epoch": 122,
          "loss": 11.989230690356747,
          "split": "loss"
         },
         {
          "epoch": 123,
          "loss": 11.959110750133409,
          "split": "loss"
         },
         {
          "epoch": 124,
          "loss": 11.923951618442594,
          "split": "loss"
         },
         {
          "epoch": 125,
          "loss": 11.87095236113935,
          "split": "loss"
         },
         {
          "epoch": 126,
          "loss": 11.844045895541047,
          "split": "loss"
         },
         {
          "epoch": 127,
          "loss": 11.795822326612916,
          "split": "loss"
         },
         {
          "epoch": 128,
          "loss": 11.768455765933814,
          "split": "loss"
         },
         {
          "epoch": 129,
          "loss": 11.74292295414597,
          "split": "loss"
         },
         {
          "epoch": 130,
          "loss": 11.721852007296063,
          "split": "loss"
         },
         {
          "epoch": 131,
          "loss": 11.678746186542806,
          "split": "loss"
         },
         {
          "epoch": 132,
          "loss": 11.638783939113559,
          "split": "loss"
         },
         {
          "epoch": 133,
          "loss": 11.631674979862414,
          "split": "loss"
         },
         {
          "epoch": 134,
          "loss": 11.56456182172793,
          "split": "loss"
         },
         {
          "epoch": 135,
          "loss": 11.533956671277805,
          "split": "loss"
         },
         {
          "epoch": 136,
          "loss": 11.493872965821541,
          "split": "loss"
         },
         {
          "epoch": 137,
          "loss": 11.484037538061939,
          "split": "loss"
         },
         {
          "epoch": 138,
          "loss": 11.45033828983366,
          "split": "loss"
         },
         {
          "epoch": 139,
          "loss": 11.419859369472823,
          "split": "loss"
         },
         {
          "epoch": 140,
          "loss": 11.381358219743143,
          "split": "loss"
         },
         {
          "epoch": 141,
          "loss": 11.341726258812304,
          "split": "loss"
         },
         {
          "epoch": 142,
          "loss": 11.361961709087478,
          "split": "loss"
         },
         {
          "epoch": 143,
          "loss": 11.292655132872401,
          "split": "loss"
         },
         {
          "epoch": 144,
          "loss": 11.258502493701853,
          "split": "loss"
         },
         {
          "epoch": 145,
          "loss": 11.219474630090104,
          "split": "loss"
         },
         {
          "epoch": 146,
          "loss": 11.20654459855874,
          "split": "loss"
         },
         {
          "epoch": 147,
          "loss": 11.186833235501505,
          "split": "loss"
         },
         {
          "epoch": 148,
          "loss": 11.157172665138363,
          "split": "loss"
         },
         {
          "epoch": 149,
          "loss": 11.138687804941053,
          "split": "loss"
         },
         {
          "epoch": 150,
          "loss": 11.100277688112053,
          "split": "loss"
         },
         {
          "epoch": 151,
          "loss": 11.085431506390172,
          "split": "loss"
         },
         {
          "epoch": 152,
          "loss": 11.050288740695445,
          "split": "loss"
         },
         {
          "epoch": 153,
          "loss": 11.033354106702303,
          "split": "loss"
         },
         {
          "epoch": 154,
          "loss": 10.976106250987334,
          "split": "loss"
         },
         {
          "epoch": 155,
          "loss": 10.933159110715884,
          "split": "loss"
         },
         {
          "epoch": 156,
          "loss": 10.930839249224116,
          "split": "loss"
         },
         {
          "epoch": 157,
          "loss": 10.89797917239068,
          "split": "loss"
         },
         {
          "epoch": 158,
          "loss": 10.861616705962378,
          "split": "loss"
         },
         {
          "epoch": 159,
          "loss": 10.820151069215946,
          "split": "loss"
         },
         {
          "epoch": 160,
          "loss": 10.81361016843341,
          "split": "loss"
         },
         {
          "epoch": 161,
          "loss": 10.765761183511362,
          "split": "loss"
         },
         {
          "epoch": 162,
          "loss": 10.74447759976697,
          "split": "loss"
         },
         {
          "epoch": 163,
          "loss": 10.766072048860437,
          "split": "loss"
         },
         {
          "epoch": 164,
          "loss": 10.720446949772791,
          "split": "loss"
         },
         {
          "epoch": 165,
          "loss": 10.710058822720413,
          "split": "loss"
         },
         {
          "epoch": 166,
          "loss": 10.669687910345687,
          "split": "loss"
         },
         {
          "epoch": 167,
          "loss": 10.666550937451815,
          "split": "loss"
         },
         {
          "epoch": 168,
          "loss": 10.646772454766666,
          "split": "loss"
         },
         {
          "epoch": 169,
          "loss": 10.615768114848771,
          "split": "loss"
         },
         {
          "epoch": 170,
          "loss": 10.5893778376535,
          "split": "loss"
         },
         {
          "epoch": 171,
          "loss": 10.560185445720567,
          "split": "loss"
         },
         {
          "epoch": 172,
          "loss": 10.579127976030756,
          "split": "loss"
         },
         {
          "epoch": 173,
          "loss": 10.547552876428185,
          "split": "loss"
         },
         {
          "epoch": 174,
          "loss": 10.531999942688012,
          "split": "loss"
         },
         {
          "epoch": 175,
          "loss": 10.489308667256736,
          "split": "loss"
         },
         {
          "epoch": 176,
          "loss": 10.461062799481784,
          "split": "loss"
         },
         {
          "epoch": 177,
          "loss": 10.416998944415397,
          "split": "loss"
         },
         {
          "epoch": 178,
          "loss": 10.37631943351344,
          "split": "loss"
         },
         {
          "epoch": 179,
          "loss": 10.371852341820212,
          "split": "loss"
         },
         {
          "epoch": 180,
          "loss": 10.33475386026105,
          "split": "loss"
         },
         {
          "epoch": 181,
          "loss": 10.313853355384094,
          "split": "loss"
         },
         {
          "epoch": 182,
          "loss": 10.275748425592948,
          "split": "loss"
         },
         {
          "epoch": 183,
          "loss": 10.270100533039578,
          "split": "loss"
         },
         {
          "epoch": 184,
          "loss": 10.254702099336559,
          "split": "loss"
         },
         {
          "epoch": 185,
          "loss": 10.267247873194078,
          "split": "loss"
         },
         {
          "epoch": 186,
          "loss": 10.216904508809186,
          "split": "loss"
         },
         {
          "epoch": 187,
          "loss": 10.195291353822123,
          "split": "loss"
         },
         {
          "epoch": 188,
          "loss": 10.20006987554001,
          "split": "loss"
         },
         {
          "epoch": 189,
          "loss": 10.177976416360483,
          "split": "loss"
         },
         {
          "epoch": 190,
          "loss": 10.156775062667327,
          "split": "loss"
         },
         {
          "epoch": 191,
          "loss": 10.13628950650478,
          "split": "loss"
         },
         {
          "epoch": 192,
          "loss": 10.098306583546263,
          "split": "loss"
         },
         {
          "epoch": 193,
          "loss": 10.087246410248818,
          "split": "loss"
         },
         {
          "epoch": 194,
          "loss": 10.085486866741357,
          "split": "loss"
         },
         {
          "epoch": 195,
          "loss": 10.082781404533623,
          "split": "loss"
         },
         {
          "epoch": 196,
          "loss": 10.03165294659027,
          "split": "loss"
         },
         {
          "epoch": 197,
          "loss": 10.055592167857261,
          "split": "loss"
         },
         {
          "epoch": 198,
          "loss": 10.042127776072121,
          "split": "loss"
         },
         {
          "epoch": 199,
          "loss": 10.028298767727595,
          "split": "loss"
         },
         {
          "epoch": 200,
          "loss": 9.973345821486907,
          "split": "loss"
         },
         {
          "epoch": 201,
          "loss": 9.957645354256172,
          "split": "loss"
         },
         {
          "epoch": 202,
          "loss": 9.952497455726837,
          "split": "loss"
         },
         {
          "epoch": 203,
          "loss": 9.940432269506779,
          "split": "loss"
         },
         {
          "epoch": 204,
          "loss": 9.923195452143903,
          "split": "loss"
         },
         {
          "epoch": 205,
          "loss": 9.902954468417095,
          "split": "loss"
         },
         {
          "epoch": 206,
          "loss": 9.88955883197371,
          "split": "loss"
         },
         {
          "epoch": 207,
          "loss": 9.88059918946895,
          "split": "loss"
         },
         {
          "epoch": 208,
          "loss": 9.869397915553751,
          "split": "loss"
         },
         {
          "epoch": 209,
          "loss": 9.835264563191418,
          "split": "loss"
         },
         {
          "epoch": 210,
          "loss": 9.830965495331,
          "split": "loss"
         },
         {
          "epoch": 211,
          "loss": 9.816268074992271,
          "split": "loss"
         },
         {
          "epoch": 212,
          "loss": 9.818320683281488,
          "split": "loss"
         },
         {
          "epoch": 213,
          "loss": 9.777592317976818,
          "split": "loss"
         },
         {
          "epoch": 214,
          "loss": 9.758019166096076,
          "split": "loss"
         },
         {
          "epoch": 215,
          "loss": 9.746220603446842,
          "split": "loss"
         },
         {
          "epoch": 216,
          "loss": 9.733762137661039,
          "split": "loss"
         },
         {
          "epoch": 217,
          "loss": 9.725317091395612,
          "split": "loss"
         },
         {
          "epoch": 218,
          "loss": 9.698926007415489,
          "split": "loss"
         },
         {
          "epoch": 219,
          "loss": 9.725317780816518,
          "split": "loss"
         },
         {
          "epoch": 220,
          "loss": 9.691625840154595,
          "split": "loss"
         },
         {
          "epoch": 221,
          "loss": 9.688817295681213,
          "split": "loss"
         },
         {
          "epoch": 222,
          "loss": 9.645915388691906,
          "split": "loss"
         },
         {
          "epoch": 223,
          "loss": 9.643997929044552,
          "split": "loss"
         },
         {
          "epoch": 224,
          "loss": 9.646357947089724,
          "split": "loss"
         },
         {
          "epoch": 225,
          "loss": 9.621515576684438,
          "split": "loss"
         },
         {
          "epoch": 226,
          "loss": 9.598305843931971,
          "split": "loss"
         },
         {
          "epoch": 227,
          "loss": 9.585554116281562,
          "split": "loss"
         },
         {
          "epoch": 228,
          "loss": 9.56852263046123,
          "split": "loss"
         },
         {
          "epoch": 229,
          "loss": 9.576441363353663,
          "split": "loss"
         },
         {
          "epoch": 230,
          "loss": 9.551138100793857,
          "split": "loss"
         },
         {
          "epoch": 231,
          "loss": 9.53816605241675,
          "split": "loss"
         },
         {
          "epoch": 232,
          "loss": 9.535385840632967,
          "split": "loss"
         },
         {
          "epoch": 233,
          "loss": 9.502919306326946,
          "split": "loss"
         },
         {
          "epoch": 234,
          "loss": 9.540086046460981,
          "split": "loss"
         },
         {
          "epoch": 235,
          "loss": 9.521493273991918,
          "split": "loss"
         },
         {
          "epoch": 236,
          "loss": 9.48942931443914,
          "split": "loss"
         },
         {
          "epoch": 237,
          "loss": 9.472488344269271,
          "split": "loss"
         },
         {
          "epoch": 238,
          "loss": 9.454786861644072,
          "split": "loss"
         },
         {
          "epoch": 239,
          "loss": 9.447863676968742,
          "split": "loss"
         },
         {
          "epoch": 240,
          "loss": 9.433167770551085,
          "split": "loss"
         },
         {
          "epoch": 241,
          "loss": 9.438888248644377,
          "split": "loss"
         },
         {
          "epoch": 242,
          "loss": 9.460292272892529,
          "split": "loss"
         },
         {
          "epoch": 243,
          "loss": 9.473856737001023,
          "split": "loss"
         },
         {
          "epoch": 244,
          "loss": 9.436089437443405,
          "split": "loss"
         },
         {
          "epoch": 245,
          "loss": 9.403289031318097,
          "split": "loss"
         },
         {
          "epoch": 246,
          "loss": 9.407471326113486,
          "split": "loss"
         },
         {
          "epoch": 247,
          "loss": 9.36613658651848,
          "split": "loss"
         },
         {
          "epoch": 248,
          "loss": 9.358586067754787,
          "split": "loss"
         },
         {
          "epoch": 249,
          "loss": 9.35362459631527,
          "split": "loss"
         },
         {
          "epoch": 250,
          "loss": 9.367127866936912,
          "split": "loss"
         },
         {
          "epoch": 251,
          "loss": 9.308693461373863,
          "split": "loss"
         },
         {
          "epoch": 252,
          "loss": 9.305556071432013,
          "split": "loss"
         },
         {
          "epoch": 253,
          "loss": 9.317511425667872,
          "split": "loss"
         },
         {
          "epoch": 254,
          "loss": 9.269846126391053,
          "split": "loss"
         },
         {
          "epoch": 255,
          "loss": 9.258126746021189,
          "split": "loss"
         },
         {
          "epoch": 256,
          "loss": 9.267203187656476,
          "split": "loss"
         },
         {
          "epoch": 257,
          "loss": 9.249233693161248,
          "split": "loss"
         },
         {
          "epoch": 258,
          "loss": 9.22955730049972,
          "split": "loss"
         },
         {
          "epoch": 259,
          "loss": 9.236675871784104,
          "split": "loss"
         },
         {
          "epoch": 260,
          "loss": 9.198597370655545,
          "split": "loss"
         },
         {
          "epoch": 261,
          "loss": 9.218224797824588,
          "split": "loss"
         },
         {
          "epoch": 262,
          "loss": 9.204367364523211,
          "split": "loss"
         },
         {
          "epoch": 263,
          "loss": 9.179093646560291,
          "split": "loss"
         },
         {
          "epoch": 264,
          "loss": 9.17065422601375,
          "split": "loss"
         },
         {
          "epoch": 265,
          "loss": 9.171703174756408,
          "split": "loss"
         },
         {
          "epoch": 266,
          "loss": 9.152538326133515,
          "split": "loss"
         },
         {
          "epoch": 267,
          "loss": 9.131075256749204,
          "split": "loss"
         },
         {
          "epoch": 268,
          "loss": 9.119823791663345,
          "split": "loss"
         },
         {
          "epoch": 269,
          "loss": 9.115322155849114,
          "split": "loss"
         },
         {
          "epoch": 270,
          "loss": 9.09913394620913,
          "split": "loss"
         },
         {
          "epoch": 271,
          "loss": 9.094101973731451,
          "split": "loss"
         },
         {
          "epoch": 272,
          "loss": 9.104185629924384,
          "split": "loss"
         },
         {
          "epoch": 273,
          "loss": 9.08124819038084,
          "split": "loss"
         },
         {
          "epoch": 274,
          "loss": 9.083224036007104,
          "split": "loss"
         },
         {
          "epoch": 275,
          "loss": 9.0724456170026,
          "split": "loss"
         },
         {
          "epoch": 276,
          "loss": 9.032541316360144,
          "split": "loss"
         },
         {
          "epoch": 277,
          "loss": 9.023057599554859,
          "split": "loss"
         },
         {
          "epoch": 278,
          "loss": 9.020964153041781,
          "split": "loss"
         },
         {
          "epoch": 279,
          "loss": 9.061706861844373,
          "split": "loss"
         },
         {
          "epoch": 280,
          "loss": 9.064905912145372,
          "split": "loss"
         },
         {
          "epoch": 281,
          "loss": 8.998645566934403,
          "split": "loss"
         },
         {
          "epoch": 282,
          "loss": 8.989098996200799,
          "split": "loss"
         },
         {
          "epoch": 283,
          "loss": 8.970312103767514,
          "split": "loss"
         },
         {
          "epoch": 284,
          "loss": 9.003441574403745,
          "split": "loss"
         },
         {
          "epoch": 285,
          "loss": 8.949801350525659,
          "split": "loss"
         },
         {
          "epoch": 286,
          "loss": 8.932664165555877,
          "split": "loss"
         },
         {
          "epoch": 287,
          "loss": 8.900537655449504,
          "split": "loss"
         },
         {
          "epoch": 288,
          "loss": 8.914508961302577,
          "split": "loss"
         },
         {
          "epoch": 289,
          "loss": 8.894570551420513,
          "split": "loss"
         },
         {
          "epoch": 290,
          "loss": 8.889444013129078,
          "split": "loss"
         },
         {
          "epoch": 291,
          "loss": 8.869614906724392,
          "split": "loss"
         },
         {
          "epoch": 292,
          "loss": 8.874213727266058,
          "split": "loss"
         },
         {
          "epoch": 293,
          "loss": 8.852257105588174,
          "split": "loss"
         },
         {
          "epoch": 294,
          "loss": 8.876533012272034,
          "split": "loss"
         },
         {
          "epoch": 295,
          "loss": 8.834096467162803,
          "split": "loss"
         },
         {
          "epoch": 296,
          "loss": 8.841772596533454,
          "split": "loss"
         },
         {
          "epoch": 297,
          "loss": 8.836716245571527,
          "split": "loss"
         },
         {
          "epoch": 298,
          "loss": 8.832419603601698,
          "split": "loss"
         },
         {
          "epoch": 299,
          "loss": 8.810416584782557,
          "split": "loss"
         },
         {
          "epoch": 300,
          "loss": 8.79755821648766,
          "split": "loss"
         },
         {
          "epoch": 301,
          "loss": 8.788867901722345,
          "split": "loss"
         },
         {
          "epoch": 302,
          "loss": 8.771813907121357,
          "split": "loss"
         },
         {
          "epoch": 303,
          "loss": 8.764784991187577,
          "split": "loss"
         },
         {
          "epoch": 304,
          "loss": 8.755760647564111,
          "split": "loss"
         },
         {
          "epoch": 305,
          "loss": 8.800072795466372,
          "split": "loss"
         },
         {
          "epoch": 306,
          "loss": 8.763631048586346,
          "split": "loss"
         },
         {
          "epoch": 307,
          "loss": 8.744772685939683,
          "split": "loss"
         },
         {
          "epoch": 308,
          "loss": 8.718449776432832,
          "split": "loss"
         },
         {
          "epoch": 309,
          "loss": 8.723370528442572,
          "split": "loss"
         },
         {
          "epoch": 310,
          "loss": 8.711288908317732,
          "split": "loss"
         },
         {
          "epoch": 311,
          "loss": 8.72232542835153,
          "split": "loss"
         },
         {
          "epoch": 312,
          "loss": 8.696784995934543,
          "split": "loss"
         },
         {
          "epoch": 313,
          "loss": 8.695253508009777,
          "split": "loss"
         },
         {
          "epoch": 314,
          "loss": 8.711814437488284,
          "split": "loss"
         },
         {
          "epoch": 315,
          "loss": 8.715020328852415,
          "split": "loss"
         },
         {
          "epoch": 316,
          "loss": 8.710348501294021,
          "split": "loss"
         },
         {
          "epoch": 317,
          "loss": 8.667151030372171,
          "split": "loss"
         },
         {
          "epoch": 318,
          "loss": 8.660957327568125,
          "split": "loss"
         },
         {
          "epoch": 319,
          "loss": 8.65343029451075,
          "split": "loss"
         },
         {
          "epoch": 320,
          "loss": 8.613565370947953,
          "split": "loss"
         },
         {
          "epoch": 321,
          "loss": 8.61730534816305,
          "split": "loss"
         },
         {
          "epoch": 322,
          "loss": 8.614418452000102,
          "split": "loss"
         },
         {
          "epoch": 323,
          "loss": 8.621689412615986,
          "split": "loss"
         },
         {
          "epoch": 324,
          "loss": 8.60755844603382,
          "split": "loss"
         },
         {
          "epoch": 325,
          "loss": 8.575068571250137,
          "split": "loss"
         },
         {
          "epoch": 326,
          "loss": 8.591933764171305,
          "split": "loss"
         },
         {
          "epoch": 327,
          "loss": 8.582162171694517,
          "split": "loss"
         },
         {
          "epoch": 328,
          "loss": 8.551842869619836,
          "split": "loss"
         },
         {
          "epoch": 329,
          "loss": 8.577310535560821,
          "split": "loss"
         },
         {
          "epoch": 330,
          "loss": 8.544827341664318,
          "split": "loss"
         },
         {
          "epoch": 331,
          "loss": 8.542951190065674,
          "split": "loss"
         },
         {
          "epoch": 332,
          "loss": 8.521081347214547,
          "split": "loss"
         },
         {
          "epoch": 333,
          "loss": 8.520054783245358,
          "split": "loss"
         },
         {
          "epoch": 334,
          "loss": 8.51375093401032,
          "split": "loss"
         },
         {
          "epoch": 335,
          "loss": 8.514670599355787,
          "split": "loss"
         },
         {
          "epoch": 336,
          "loss": 8.50459076081267,
          "split": "loss"
         },
         {
          "epoch": 337,
          "loss": 8.517528113196878,
          "split": "loss"
         },
         {
          "epoch": 338,
          "loss": 8.484850137964491,
          "split": "loss"
         },
         {
          "epoch": 339,
          "loss": 8.46783230695931,
          "split": "loss"
         },
         {
          "epoch": 340,
          "loss": 8.454609156393046,
          "split": "loss"
         },
         {
          "epoch": 341,
          "loss": 8.448906009042226,
          "split": "loss"
         },
         {
          "epoch": 342,
          "loss": 8.447891067056094,
          "split": "loss"
         },
         {
          "epoch": 343,
          "loss": 8.442545540930686,
          "split": "loss"
         },
         {
          "epoch": 344,
          "loss": 8.427259733802394,
          "split": "loss"
         },
         {
          "epoch": 345,
          "loss": 8.431881728187065,
          "split": "loss"
         },
         {
          "epoch": 346,
          "loss": 8.419157028198242,
          "split": "loss"
         },
         {
          "epoch": 347,
          "loss": 8.437731065755658,
          "split": "loss"
         },
         {
          "epoch": 348,
          "loss": 8.422141475251216,
          "split": "loss"
         },
         {
          "epoch": 349,
          "loss": 8.39403595643885,
          "split": "loss"
         },
         {
          "epoch": 350,
          "loss": 8.398528360729985,
          "split": "loss"
         },
         {
          "epoch": 351,
          "loss": 8.396055013079762,
          "split": "loss"
         },
         {
          "epoch": 352,
          "loss": 8.364293477852646,
          "split": "loss"
         },
         {
          "epoch": 353,
          "loss": 8.38548034337283,
          "split": "loss"
         },
         {
          "epoch": 354,
          "loss": 8.37823340305972,
          "split": "loss"
         },
         {
          "epoch": 355,
          "loss": 8.358922562732047,
          "split": "loss"
         },
         {
          "epoch": 356,
          "loss": 8.357124673692804,
          "split": "loss"
         },
         {
          "epoch": 357,
          "loss": 8.357480855180015,
          "split": "loss"
         },
         {
          "epoch": 358,
          "loss": 8.367774495399404,
          "split": "loss"
         },
         {
          "epoch": 359,
          "loss": 8.340728408411929,
          "split": "loss"
         },
         {
          "epoch": 360,
          "loss": 8.32408879342094,
          "split": "loss"
         },
         {
          "epoch": 361,
          "loss": 8.331496008409434,
          "split": "loss"
         },
         {
          "epoch": 362,
          "loss": 8.314794588753314,
          "split": "loss"
         },
         {
          "epoch": 363,
          "loss": 8.29433339741946,
          "split": "loss"
         },
         {
          "epoch": 364,
          "loss": 8.317842718248396,
          "split": "loss"
         },
         {
          "epoch": 365,
          "loss": 8.282829159922644,
          "split": "loss"
         },
         {
          "epoch": 366,
          "loss": 8.281929478925818,
          "split": "loss"
         },
         {
          "epoch": 367,
          "loss": 8.26774267072648,
          "split": "loss"
         },
         {
          "epoch": 368,
          "loss": 8.290571636459775,
          "split": "loss"
         },
         {
          "epoch": 369,
          "loss": 8.266049187249813,
          "split": "loss"
         },
         {
          "epoch": 370,
          "loss": 8.271614533459807,
          "split": "loss"
         },
         {
          "epoch": 371,
          "loss": 8.253395248861874,
          "split": "loss"
         },
         {
          "epoch": 372,
          "loss": 8.251507306246566,
          "split": "loss"
         },
         {
          "epoch": 373,
          "loss": 8.242027091537098,
          "split": "loss"
         },
         {
          "epoch": 374,
          "loss": 8.231848229564749,
          "split": "loss"
         },
         {
          "epoch": 375,
          "loss": 8.228993454215697,
          "split": "loss"
         },
         {
          "epoch": 376,
          "loss": 8.219849182356253,
          "split": "loss"
         },
         {
          "epoch": 377,
          "loss": 8.20800269019124,
          "split": "loss"
         },
         {
          "epoch": 378,
          "loss": 8.19994377610115,
          "split": "loss"
         },
         {
          "epoch": 379,
          "loss": 8.207900647039384,
          "split": "loss"
         },
         {
          "epoch": 380,
          "loss": 8.197414384537806,
          "split": "loss"
         },
         {
          "epoch": 381,
          "loss": 8.18870805070127,
          "split": "loss"
         },
         {
          "epoch": 382,
          "loss": 8.19717086930024,
          "split": "loss"
         },
         {
          "epoch": 383,
          "loss": 8.169305293552647,
          "split": "loss"
         },
         {
          "epoch": 384,
          "loss": 8.171969112597013,
          "split": "loss"
         },
         {
          "epoch": 385,
          "loss": 8.15932466961651,
          "split": "loss"
         },
         {
          "epoch": 386,
          "loss": 8.157179884128157,
          "split": "loss"
         },
         {
          "epoch": 387,
          "loss": 8.158107828429609,
          "split": "loss"
         },
         {
          "epoch": 388,
          "loss": 8.144523196914248,
          "split": "loss"
         },
         {
          "epoch": 389,
          "loss": 8.137002854893451,
          "split": "loss"
         },
         {
          "epoch": 390,
          "loss": 8.132110420026278,
          "split": "loss"
         },
         {
          "epoch": 391,
          "loss": 8.128703076034876,
          "split": "loss"
         },
         {
          "epoch": 392,
          "loss": 8.12680349999537,
          "split": "loss"
         },
         {
          "epoch": 393,
          "loss": 8.129981734066186,
          "split": "loss"
         },
         {
          "epoch": 394,
          "loss": 8.126169339053034,
          "split": "loss"
         },
         {
          "epoch": 395,
          "loss": 8.103466978752207,
          "split": "loss"
         },
         {
          "epoch": 396,
          "loss": 8.099301533064237,
          "split": "loss"
         },
         {
          "epoch": 397,
          "loss": 8.098898193784542,
          "split": "loss"
         },
         {
          "epoch": 398,
          "loss": 8.10240592897492,
          "split": "loss"
         },
         {
          "epoch": 399,
          "loss": 8.090013766805454,
          "split": "loss"
         },
         {
          "epoch": 400,
          "loss": 8.07801721118183,
          "split": "loss"
         },
         {
          "epoch": 401,
          "loss": 8.086953942620717,
          "split": "loss"
         },
         {
          "epoch": 402,
          "loss": 8.087517135237393,
          "split": "loss"
         },
         {
          "epoch": 403,
          "loss": 8.067409533488307,
          "split": "loss"
         },
         {
          "epoch": 404,
          "loss": 8.04510208955121,
          "split": "loss"
         },
         {
          "epoch": 405,
          "loss": 8.048700078722124,
          "split": "loss"
         },
         {
          "epoch": 406,
          "loss": 8.051217703627358,
          "split": "loss"
         },
         {
          "epoch": 407,
          "loss": 8.037388679043797,
          "split": "loss"
         },
         {
          "epoch": 408,
          "loss": 8.042806040760903,
          "split": "loss"
         },
         {
          "epoch": 409,
          "loss": 8.07454886894108,
          "split": "loss"
         },
         {
          "epoch": 410,
          "loss": 8.06933374670637,
          "split": "loss"
         },
         {
          "epoch": 411,
          "loss": 8.025277479883318,
          "split": "loss"
         },
         {
          "epoch": 412,
          "loss": 8.00994038655662,
          "split": "loss"
         },
         {
          "epoch": 413,
          "loss": 8.009702097889809,
          "split": "loss"
         },
         {
          "epoch": 414,
          "loss": 8.011886280756617,
          "split": "loss"
         },
         {
          "epoch": 415,
          "loss": 7.9978165065540985,
          "split": "loss"
         },
         {
          "epoch": 416,
          "loss": 7.982638060862066,
          "split": "loss"
         },
         {
          "epoch": 417,
          "loss": 7.994510030598832,
          "split": "loss"
         },
         {
          "epoch": 418,
          "loss": 7.999132563086117,
          "split": "loss"
         },
         {
          "epoch": 419,
          "loss": 8.003143706188851,
          "split": "loss"
         },
         {
          "epoch": 420,
          "loss": 7.976672928399715,
          "split": "loss"
         },
         {
          "epoch": 421,
          "loss": 7.988250112385941,
          "split": "loss"
         },
         {
          "epoch": 422,
          "loss": 8.017930395462933,
          "split": "loss"
         },
         {
          "epoch": 423,
          "loss": 7.968770373347374,
          "split": "loss"
         },
         {
          "epoch": 424,
          "loss": 7.947493793425545,
          "split": "loss"
         },
         {
          "epoch": 425,
          "loss": 7.938666742283494,
          "split": "loss"
         },
         {
          "epoch": 426,
          "loss": 7.962760920679606,
          "split": "loss"
         },
         {
          "epoch": 427,
          "loss": 7.9459411691955,
          "split": "loss"
         },
         {
          "epoch": 428,
          "loss": 7.934182467475395,
          "split": "loss"
         },
         {
          "epoch": 429,
          "loss": 7.938829371803685,
          "split": "loss"
         },
         {
          "epoch": 430,
          "loss": 7.928929967038772,
          "split": "loss"
         },
         {
          "epoch": 431,
          "loss": 7.921525958152747,
          "split": "loss"
         },
         {
          "epoch": 432,
          "loss": 7.915162830899005,
          "split": "loss"
         },
         {
          "epoch": 433,
          "loss": 7.903071223397742,
          "split": "loss"
         },
         {
          "epoch": 434,
          "loss": 7.88376622893862,
          "split": "loss"
         },
         {
          "epoch": 435,
          "loss": 7.887693956540465,
          "split": "loss"
         },
         {
          "epoch": 436,
          "loss": 7.896104728289802,
          "split": "loss"
         },
         {
          "epoch": 437,
          "loss": 7.876211798227978,
          "split": "loss"
         },
         {
          "epoch": 438,
          "loss": 7.989251570804939,
          "split": "loss"
         },
         {
          "epoch": 439,
          "loss": 7.968643801131115,
          "split": "loss"
         },
         {
          "epoch": 440,
          "loss": 7.910892102002359,
          "split": "loss"
         },
         {
          "epoch": 441,
          "loss": 7.8749144689955575,
          "split": "loss"
         },
         {
          "epoch": 442,
          "loss": 7.864967343238854,
          "split": "loss"
         },
         {
          "epoch": 443,
          "loss": 7.845846058045378,
          "split": "loss"
         },
         {
          "epoch": 444,
          "loss": 7.855778177456221,
          "split": "loss"
         },
         {
          "epoch": 445,
          "loss": 7.9866165269639104,
          "split": "loss"
         },
         {
          "epoch": 446,
          "loss": 7.910844926125494,
          "split": "loss"
         },
         {
          "epoch": 447,
          "loss": 7.874027650791795,
          "split": "loss"
         },
         {
          "epoch": 448,
          "loss": 7.859358129117511,
          "split": "loss"
         },
         {
          "epoch": 449,
          "loss": 7.833941461132038,
          "split": "loss"
         },
         {
          "epoch": 450,
          "loss": 7.809350585605338,
          "split": "loss"
         },
         {
          "epoch": 451,
          "loss": 7.800065171976946,
          "split": "loss"
         },
         {
          "epoch": 452,
          "loss": 7.8009626208444125,
          "split": "loss"
         },
         {
          "epoch": 453,
          "loss": 7.809980280259076,
          "split": "loss"
         },
         {
          "epoch": 454,
          "loss": 7.7918373600986355,
          "split": "loss"
         },
         {
          "epoch": 455,
          "loss": 7.82112598603724,
          "split": "loss"
         },
         {
          "epoch": 456,
          "loss": 7.791146510894823,
          "split": "loss"
         },
         {
          "epoch": 457,
          "loss": 7.77540589559927,
          "split": "loss"
         },
         {
          "epoch": 458,
          "loss": 7.778788898751462,
          "split": "loss"
         },
         {
          "epoch": 459,
          "loss": 7.771046186748304,
          "split": "loss"
         },
         {
          "epoch": 460,
          "loss": 7.7894622607865935,
          "split": "loss"
         },
         {
          "epoch": 461,
          "loss": 7.769972337657822,
          "split": "loss"
         },
         {
          "epoch": 462,
          "loss": 7.767744952311087,
          "split": "loss"
         },
         {
          "epoch": 463,
          "loss": 7.764083819492683,
          "split": "loss"
         },
         {
          "epoch": 464,
          "loss": 7.744315109016726,
          "split": "loss"
         },
         {
          "epoch": 465,
          "loss": 7.806763784527409,
          "split": "loss"
         },
         {
          "epoch": 466,
          "loss": 7.7829213585277826,
          "split": "loss"
         },
         {
          "epoch": 467,
          "loss": 7.769676833883528,
          "split": "loss"
         },
         {
          "epoch": 468,
          "loss": 7.7393025909045905,
          "split": "loss"
         },
         {
          "epoch": 469,
          "loss": 7.738053015695637,
          "split": "loss"
         },
         {
          "epoch": 470,
          "loss": 7.720063106932507,
          "split": "loss"
         },
         {
          "epoch": 471,
          "loss": 7.707460973284931,
          "split": "loss"
         },
         {
          "epoch": 472,
          "loss": 7.729449661892634,
          "split": "loss"
         },
         {
          "epoch": 473,
          "loss": 7.732238734100625,
          "split": "loss"
         },
         {
          "epoch": 474,
          "loss": 7.712962565038226,
          "split": "loss"
         },
         {
          "epoch": 475,
          "loss": 7.686634670470152,
          "split": "loss"
         },
         {
          "epoch": 476,
          "loss": 7.687511035163336,
          "split": "loss"
         },
         {
          "epoch": 477,
          "loss": 7.678547122530155,
          "split": "loss"
         },
         {
          "epoch": 478,
          "loss": 7.678752060645136,
          "split": "loss"
         },
         {
          "epoch": 479,
          "loss": 7.680115649574681,
          "split": "loss"
         },
         {
          "epoch": 480,
          "loss": 7.6658321799877625,
          "split": "loss"
         },
         {
          "epoch": 481,
          "loss": 7.704687812380008,
          "split": "loss"
         },
         {
          "epoch": 482,
          "loss": 7.690139428011773,
          "split": "loss"
         },
         {
          "epoch": 483,
          "loss": 7.6505779900787045,
          "split": "loss"
         },
         {
          "epoch": 484,
          "loss": 7.643509672891245,
          "split": "loss"
         },
         {
          "epoch": 485,
          "loss": 7.675342350183256,
          "split": "loss"
         },
         {
          "epoch": 486,
          "loss": 7.66366438969001,
          "split": "loss"
         },
         {
          "epoch": 487,
          "loss": 7.634634527997705,
          "split": "loss"
         },
         {
          "epoch": 488,
          "loss": 7.661781124286239,
          "split": "loss"
         },
         {
          "epoch": 489,
          "loss": 7.628996592188029,
          "split": "loss"
         },
         {
          "epoch": 490,
          "loss": 7.638659765476782,
          "split": "loss"
         },
         {
          "epoch": 491,
          "loss": 7.619914309528221,
          "split": "loss"
         },
         {
          "epoch": 492,
          "loss": 7.599163877705672,
          "split": "loss"
         },
         {
          "epoch": 493,
          "loss": 7.599936291713833,
          "split": "loss"
         },
         {
          "epoch": 494,
          "loss": 7.603271769296274,
          "split": "loss"
         },
         {
          "epoch": 495,
          "loss": 7.593410161257529,
          "split": "loss"
         },
         {
          "epoch": 496,
          "loss": 7.60951978134297,
          "split": "loss"
         },
         {
          "epoch": 497,
          "loss": 7.599605090846956,
          "split": "loss"
         },
         {
          "epoch": 498,
          "loss": 7.574699856548486,
          "split": "loss"
         },
         {
          "epoch": 499,
          "loss": 7.579810389793325,
          "split": "loss"
         },
         {
          "epoch": 0,
          "loss": 21.853485107421875,
          "split": "mae"
         },
         {
          "epoch": 1,
          "loss": 21.390392303466797,
          "split": "mae"
         },
         {
          "epoch": 2,
          "loss": 20.904972076416016,
          "split": "mae"
         },
         {
          "epoch": 3,
          "loss": 20.344905853271484,
          "split": "mae"
         },
         {
          "epoch": 4,
          "loss": 19.712915420532227,
          "split": "mae"
         },
         {
          "epoch": 5,
          "loss": 18.937664031982422,
          "split": "mae"
         },
         {
          "epoch": 6,
          "loss": 18.076040267944336,
          "split": "mae"
         },
         {
          "epoch": 7,
          "loss": 16.994829177856445,
          "split": "mae"
         },
         {
          "epoch": 8,
          "loss": 15.678868293762207,
          "split": "mae"
         },
         {
          "epoch": 9,
          "loss": 14.197941780090332,
          "split": "mae"
         },
         {
          "epoch": 10,
          "loss": 12.538171768188477,
          "split": "mae"
         },
         {
          "epoch": 11,
          "loss": 11.015999794006348,
          "split": "mae"
         },
         {
          "epoch": 12,
          "loss": 9.608542442321777,
          "split": "mae"
         },
         {
          "epoch": 13,
          "loss": 8.553966522216797,
          "split": "mae"
         },
         {
          "epoch": 14,
          "loss": 7.610424041748047,
          "split": "mae"
         },
         {
          "epoch": 15,
          "loss": 6.985917568206787,
          "split": "mae"
         },
         {
          "epoch": 16,
          "loss": 6.5123209953308105,
          "split": "mae"
         },
         {
          "epoch": 17,
          "loss": 6.105148792266846,
          "split": "mae"
         },
         {
          "epoch": 18,
          "loss": 5.7686309814453125,
          "split": "mae"
         },
         {
          "epoch": 19,
          "loss": 5.487037181854248,
          "split": "mae"
         },
         {
          "epoch": 20,
          "loss": 5.190581321716309,
          "split": "mae"
         },
         {
          "epoch": 21,
          "loss": 4.9449028968811035,
          "split": "mae"
         },
         {
          "epoch": 22,
          "loss": 4.704490661621094,
          "split": "mae"
         },
         {
          "epoch": 23,
          "loss": 4.514492511749268,
          "split": "mae"
         },
         {
          "epoch": 24,
          "loss": 4.330649375915527,
          "split": "mae"
         },
         {
          "epoch": 25,
          "loss": 4.164251327514648,
          "split": "mae"
         },
         {
          "epoch": 26,
          "loss": 4.014809608459473,
          "split": "mae"
         },
         {
          "epoch": 27,
          "loss": 3.854609251022339,
          "split": "mae"
         },
         {
          "epoch": 28,
          "loss": 3.7505252361297607,
          "split": "mae"
         },
         {
          "epoch": 29,
          "loss": 3.650203227996826,
          "split": "mae"
         },
         {
          "epoch": 30,
          "loss": 3.5613794326782227,
          "split": "mae"
         },
         {
          "epoch": 31,
          "loss": 3.4772000312805176,
          "split": "mae"
         },
         {
          "epoch": 32,
          "loss": 3.3894565105438232,
          "split": "mae"
         },
         {
          "epoch": 33,
          "loss": 3.3383641242980957,
          "split": "mae"
         },
         {
          "epoch": 34,
          "loss": 3.284471035003662,
          "split": "mae"
         },
         {
          "epoch": 35,
          "loss": 3.227090835571289,
          "split": "mae"
         },
         {
          "epoch": 36,
          "loss": 3.18080997467041,
          "split": "mae"
         },
         {
          "epoch": 37,
          "loss": 3.1472554206848145,
          "split": "mae"
         },
         {
          "epoch": 38,
          "loss": 3.1150126457214355,
          "split": "mae"
         },
         {
          "epoch": 39,
          "loss": 3.086839437484741,
          "split": "mae"
         },
         {
          "epoch": 40,
          "loss": 3.0591013431549072,
          "split": "mae"
         },
         {
          "epoch": 41,
          "loss": 3.029287099838257,
          "split": "mae"
         },
         {
          "epoch": 42,
          "loss": 3.009849786758423,
          "split": "mae"
         },
         {
          "epoch": 43,
          "loss": 2.996907949447632,
          "split": "mae"
         },
         {
          "epoch": 44,
          "loss": 2.9796321392059326,
          "split": "mae"
         },
         {
          "epoch": 45,
          "loss": 2.9483394622802734,
          "split": "mae"
         },
         {
          "epoch": 46,
          "loss": 2.924260139465332,
          "split": "mae"
         },
         {
          "epoch": 47,
          "loss": 2.902743101119995,
          "split": "mae"
         },
         {
          "epoch": 48,
          "loss": 2.8909785747528076,
          "split": "mae"
         },
         {
          "epoch": 49,
          "loss": 2.863301992416382,
          "split": "mae"
         },
         {
          "epoch": 50,
          "loss": 2.854975938796997,
          "split": "mae"
         },
         {
          "epoch": 51,
          "loss": 2.8383922576904297,
          "split": "mae"
         },
         {
          "epoch": 52,
          "loss": 2.825685977935791,
          "split": "mae"
         },
         {
          "epoch": 53,
          "loss": 2.802546262741089,
          "split": "mae"
         },
         {
          "epoch": 54,
          "loss": 2.7955613136291504,
          "split": "mae"
         },
         {
          "epoch": 55,
          "loss": 2.7764205932617188,
          "split": "mae"
         },
         {
          "epoch": 56,
          "loss": 2.772826671600342,
          "split": "mae"
         },
         {
          "epoch": 57,
          "loss": 2.761286735534668,
          "split": "mae"
         },
         {
          "epoch": 58,
          "loss": 2.7377617359161377,
          "split": "mae"
         },
         {
          "epoch": 59,
          "loss": 2.73201322555542,
          "split": "mae"
         },
         {
          "epoch": 60,
          "loss": 2.7224395275115967,
          "split": "mae"
         },
         {
          "epoch": 61,
          "loss": 2.7163734436035156,
          "split": "mae"
         },
         {
          "epoch": 62,
          "loss": 2.706298828125,
          "split": "mae"
         },
         {
          "epoch": 63,
          "loss": 2.686359405517578,
          "split": "mae"
         },
         {
          "epoch": 64,
          "loss": 2.676065444946289,
          "split": "mae"
         },
         {
          "epoch": 65,
          "loss": 2.6566202640533447,
          "split": "mae"
         },
         {
          "epoch": 66,
          "loss": 2.6540141105651855,
          "split": "mae"
         },
         {
          "epoch": 67,
          "loss": 2.6474196910858154,
          "split": "mae"
         },
         {
          "epoch": 68,
          "loss": 2.6445960998535156,
          "split": "mae"
         },
         {
          "epoch": 69,
          "loss": 2.634931802749634,
          "split": "mae"
         },
         {
          "epoch": 70,
          "loss": 2.624272584915161,
          "split": "mae"
         },
         {
          "epoch": 71,
          "loss": 2.6098151206970215,
          "split": "mae"
         },
         {
          "epoch": 72,
          "loss": 2.6066150665283203,
          "split": "mae"
         },
         {
          "epoch": 73,
          "loss": 2.609830141067505,
          "split": "mae"
         },
         {
          "epoch": 74,
          "loss": 2.598008394241333,
          "split": "mae"
         },
         {
          "epoch": 75,
          "loss": 2.5813937187194824,
          "split": "mae"
         },
         {
          "epoch": 76,
          "loss": 2.566027879714966,
          "split": "mae"
         },
         {
          "epoch": 77,
          "loss": 2.5509722232818604,
          "split": "mae"
         },
         {
          "epoch": 78,
          "loss": 2.5464072227478027,
          "split": "mae"
         },
         {
          "epoch": 79,
          "loss": 2.548112630844116,
          "split": "mae"
         },
         {
          "epoch": 80,
          "loss": 2.5424675941467285,
          "split": "mae"
         },
         {
          "epoch": 81,
          "loss": 2.534226655960083,
          "split": "mae"
         },
         {
          "epoch": 82,
          "loss": 2.5286834239959717,
          "split": "mae"
         },
         {
          "epoch": 83,
          "loss": 2.5280017852783203,
          "split": "mae"
         },
         {
          "epoch": 84,
          "loss": 2.519160032272339,
          "split": "mae"
         },
         {
          "epoch": 85,
          "loss": 2.5058515071868896,
          "split": "mae"
         },
         {
          "epoch": 86,
          "loss": 2.5040035247802734,
          "split": "mae"
         },
         {
          "epoch": 87,
          "loss": 2.5026021003723145,
          "split": "mae"
         },
         {
          "epoch": 88,
          "loss": 2.4940714836120605,
          "split": "mae"
         },
         {
          "epoch": 89,
          "loss": 2.518545150756836,
          "split": "mae"
         },
         {
          "epoch": 90,
          "loss": 2.488976001739502,
          "split": "mae"
         },
         {
          "epoch": 91,
          "loss": 2.4888899326324463,
          "split": "mae"
         },
         {
          "epoch": 92,
          "loss": 2.483527421951294,
          "split": "mae"
         },
         {
          "epoch": 93,
          "loss": 2.475778341293335,
          "split": "mae"
         },
         {
          "epoch": 94,
          "loss": 2.477332592010498,
          "split": "mae"
         },
         {
          "epoch": 95,
          "loss": 2.452037811279297,
          "split": "mae"
         },
         {
          "epoch": 96,
          "loss": 2.4443533420562744,
          "split": "mae"
         },
         {
          "epoch": 97,
          "loss": 2.4429221153259277,
          "split": "mae"
         },
         {
          "epoch": 98,
          "loss": 2.432009220123291,
          "split": "mae"
         },
         {
          "epoch": 99,
          "loss": 2.4265072345733643,
          "split": "mae"
         },
         {
          "epoch": 100,
          "loss": 2.423234224319458,
          "split": "mae"
         },
         {
          "epoch": 101,
          "loss": 2.415762424468994,
          "split": "mae"
         },
         {
          "epoch": 102,
          "loss": 2.4155044555664062,
          "split": "mae"
         },
         {
          "epoch": 103,
          "loss": 2.3981072902679443,
          "split": "mae"
         },
         {
          "epoch": 104,
          "loss": 2.3947575092315674,
          "split": "mae"
         },
         {
          "epoch": 105,
          "loss": 2.3998453617095947,
          "split": "mae"
         },
         {
          "epoch": 106,
          "loss": 2.399071455001831,
          "split": "mae"
         },
         {
          "epoch": 107,
          "loss": 2.379457950592041,
          "split": "mae"
         },
         {
          "epoch": 108,
          "loss": 2.373628616333008,
          "split": "mae"
         },
         {
          "epoch": 109,
          "loss": 2.3765878677368164,
          "split": "mae"
         },
         {
          "epoch": 110,
          "loss": 2.3742783069610596,
          "split": "mae"
         },
         {
          "epoch": 111,
          "loss": 2.369069814682007,
          "split": "mae"
         },
         {
          "epoch": 112,
          "loss": 2.35270357131958,
          "split": "mae"
         },
         {
          "epoch": 113,
          "loss": 2.3563783168792725,
          "split": "mae"
         },
         {
          "epoch": 114,
          "loss": 2.36963152885437,
          "split": "mae"
         },
         {
          "epoch": 115,
          "loss": 2.3630526065826416,
          "split": "mae"
         },
         {
          "epoch": 116,
          "loss": 2.359391212463379,
          "split": "mae"
         },
         {
          "epoch": 117,
          "loss": 2.3564531803131104,
          "split": "mae"
         },
         {
          "epoch": 118,
          "loss": 2.352630615234375,
          "split": "mae"
         },
         {
          "epoch": 119,
          "loss": 2.3493971824645996,
          "split": "mae"
         },
         {
          "epoch": 120,
          "loss": 2.3598718643188477,
          "split": "mae"
         },
         {
          "epoch": 121,
          "loss": 2.3512370586395264,
          "split": "mae"
         },
         {
          "epoch": 122,
          "loss": 2.3439245223999023,
          "split": "mae"
         },
         {
          "epoch": 123,
          "loss": 2.345114231109619,
          "split": "mae"
         },
         {
          "epoch": 124,
          "loss": 2.334235429763794,
          "split": "mae"
         },
         {
          "epoch": 125,
          "loss": 2.3338236808776855,
          "split": "mae"
         },
         {
          "epoch": 126,
          "loss": 2.324821710586548,
          "split": "mae"
         },
         {
          "epoch": 127,
          "loss": 2.326094150543213,
          "split": "mae"
         },
         {
          "epoch": 128,
          "loss": 2.3240201473236084,
          "split": "mae"
         },
         {
          "epoch": 129,
          "loss": 2.3215274810791016,
          "split": "mae"
         },
         {
          "epoch": 130,
          "loss": 2.3250362873077393,
          "split": "mae"
         },
         {
          "epoch": 131,
          "loss": 2.3204870223999023,
          "split": "mae"
         },
         {
          "epoch": 132,
          "loss": 2.305401086807251,
          "split": "mae"
         },
         {
          "epoch": 133,
          "loss": 2.300053834915161,
          "split": "mae"
         },
         {
          "epoch": 134,
          "loss": 2.301740884780884,
          "split": "mae"
         },
         {
          "epoch": 135,
          "loss": 2.3060617446899414,
          "split": "mae"
         },
         {
          "epoch": 136,
          "loss": 2.3015096187591553,
          "split": "mae"
         },
         {
          "epoch": 137,
          "loss": 2.3018436431884766,
          "split": "mae"
         },
         {
          "epoch": 138,
          "loss": 2.2995071411132812,
          "split": "mae"
         },
         {
          "epoch": 139,
          "loss": 2.30277681350708,
          "split": "mae"
         },
         {
          "epoch": 140,
          "loss": 2.3013644218444824,
          "split": "mae"
         },
         {
          "epoch": 141,
          "loss": 2.296384334564209,
          "split": "mae"
         },
         {
          "epoch": 142,
          "loss": 2.2762343883514404,
          "split": "mae"
         },
         {
          "epoch": 143,
          "loss": 2.284550905227661,
          "split": "mae"
         },
         {
          "epoch": 144,
          "loss": 2.2793028354644775,
          "split": "mae"
         },
         {
          "epoch": 145,
          "loss": 2.28786039352417,
          "split": "mae"
         },
         {
          "epoch": 146,
          "loss": 2.290022611618042,
          "split": "mae"
         },
         {
          "epoch": 147,
          "loss": 2.2904164791107178,
          "split": "mae"
         },
         {
          "epoch": 148,
          "loss": 2.271758794784546,
          "split": "mae"
         },
         {
          "epoch": 149,
          "loss": 2.2648308277130127,
          "split": "mae"
         },
         {
          "epoch": 150,
          "loss": 2.2617998123168945,
          "split": "mae"
         },
         {
          "epoch": 151,
          "loss": 2.249990224838257,
          "split": "mae"
         },
         {
          "epoch": 152,
          "loss": 2.2565338611602783,
          "split": "mae"
         },
         {
          "epoch": 153,
          "loss": 2.2479379177093506,
          "split": "mae"
         },
         {
          "epoch": 154,
          "loss": 2.2986819744110107,
          "split": "mae"
         },
         {
          "epoch": 155,
          "loss": 2.285367965698242,
          "split": "mae"
         },
         {
          "epoch": 156,
          "loss": 2.280669927597046,
          "split": "mae"
         },
         {
          "epoch": 157,
          "loss": 2.2756121158599854,
          "split": "mae"
         },
         {
          "epoch": 158,
          "loss": 2.2658851146698,
          "split": "mae"
         },
         {
          "epoch": 159,
          "loss": 2.2544808387756348,
          "split": "mae"
         },
         {
          "epoch": 160,
          "loss": 2.244128942489624,
          "split": "mae"
         },
         {
          "epoch": 161,
          "loss": 2.240813732147217,
          "split": "mae"
         },
         {
          "epoch": 162,
          "loss": 2.2351224422454834,
          "split": "mae"
         },
         {
          "epoch": 163,
          "loss": 2.2310938835144043,
          "split": "mae"
         },
         {
          "epoch": 164,
          "loss": 2.2464754581451416,
          "split": "mae"
         },
         {
          "epoch": 165,
          "loss": 2.2457070350646973,
          "split": "mae"
         },
         {
          "epoch": 166,
          "loss": 2.2240796089172363,
          "split": "mae"
         },
         {
          "epoch": 167,
          "loss": 2.2291903495788574,
          "split": "mae"
         },
         {
          "epoch": 168,
          "loss": 2.214506149291992,
          "split": "mae"
         },
         {
          "epoch": 169,
          "loss": 2.2160484790802,
          "split": "mae"
         },
         {
          "epoch": 170,
          "loss": 2.22182559967041,
          "split": "mae"
         },
         {
          "epoch": 171,
          "loss": 2.209240436553955,
          "split": "mae"
         },
         {
          "epoch": 172,
          "loss": 2.22328782081604,
          "split": "mae"
         },
         {
          "epoch": 173,
          "loss": 2.1896419525146484,
          "split": "mae"
         },
         {
          "epoch": 174,
          "loss": 2.2163162231445312,
          "split": "mae"
         },
         {
          "epoch": 175,
          "loss": 2.207374334335327,
          "split": "mae"
         },
         {
          "epoch": 176,
          "loss": 2.2557778358459473,
          "split": "mae"
         },
         {
          "epoch": 177,
          "loss": 2.237173318862915,
          "split": "mae"
         },
         {
          "epoch": 178,
          "loss": 2.2196950912475586,
          "split": "mae"
         },
         {
          "epoch": 179,
          "loss": 2.2153589725494385,
          "split": "mae"
         },
         {
          "epoch": 180,
          "loss": 2.2073147296905518,
          "split": "mae"
         },
         {
          "epoch": 181,
          "loss": 2.2065234184265137,
          "split": "mae"
         },
         {
          "epoch": 182,
          "loss": 2.205561399459839,
          "split": "mae"
         },
         {
          "epoch": 183,
          "loss": 2.203529119491577,
          "split": "mae"
         },
         {
          "epoch": 184,
          "loss": 2.1985583305358887,
          "split": "mae"
         },
         {
          "epoch": 185,
          "loss": 2.194357395172119,
          "split": "mae"
         },
         {
          "epoch": 186,
          "loss": 2.206437110900879,
          "split": "mae"
         },
         {
          "epoch": 187,
          "loss": 2.19549298286438,
          "split": "mae"
         },
         {
          "epoch": 188,
          "loss": 2.209712028503418,
          "split": "mae"
         },
         {
          "epoch": 189,
          "loss": 2.2064125537872314,
          "split": "mae"
         },
         {
          "epoch": 190,
          "loss": 2.195307731628418,
          "split": "mae"
         },
         {
          "epoch": 191,
          "loss": 2.202406644821167,
          "split": "mae"
         },
         {
          "epoch": 192,
          "loss": 2.1906497478485107,
          "split": "mae"
         },
         {
          "epoch": 193,
          "loss": 2.19113826751709,
          "split": "mae"
         },
         {
          "epoch": 194,
          "loss": 2.191946268081665,
          "split": "mae"
         },
         {
          "epoch": 195,
          "loss": 2.202664613723755,
          "split": "mae"
         },
         {
          "epoch": 196,
          "loss": 2.1897475719451904,
          "split": "mae"
         },
         {
          "epoch": 197,
          "loss": 2.21574068069458,
          "split": "mae"
         },
         {
          "epoch": 198,
          "loss": 2.2030398845672607,
          "split": "mae"
         },
         {
          "epoch": 199,
          "loss": 2.2041995525360107,
          "split": "mae"
         },
         {
          "epoch": 200,
          "loss": 2.1818206310272217,
          "split": "mae"
         },
         {
          "epoch": 201,
          "loss": 2.165026903152466,
          "split": "mae"
         },
         {
          "epoch": 202,
          "loss": 2.1818623542785645,
          "split": "mae"
         },
         {
          "epoch": 203,
          "loss": 2.166138172149658,
          "split": "mae"
         },
         {
          "epoch": 204,
          "loss": 2.156642436981201,
          "split": "mae"
         },
         {
          "epoch": 205,
          "loss": 2.154184579849243,
          "split": "mae"
         },
         {
          "epoch": 206,
          "loss": 2.1437556743621826,
          "split": "mae"
         },
         {
          "epoch": 207,
          "loss": 2.1544697284698486,
          "split": "mae"
         },
         {
          "epoch": 208,
          "loss": 2.15905499458313,
          "split": "mae"
         },
         {
          "epoch": 209,
          "loss": 2.157794952392578,
          "split": "mae"
         },
         {
          "epoch": 210,
          "loss": 2.146480083465576,
          "split": "mae"
         },
         {
          "epoch": 211,
          "loss": 2.150789976119995,
          "split": "mae"
         },
         {
          "epoch": 212,
          "loss": 2.1457881927490234,
          "split": "mae"
         },
         {
          "epoch": 213,
          "loss": 2.149132013320923,
          "split": "mae"
         },
         {
          "epoch": 214,
          "loss": 2.1515095233917236,
          "split": "mae"
         },
         {
          "epoch": 215,
          "loss": 2.145069122314453,
          "split": "mae"
         },
         {
          "epoch": 216,
          "loss": 2.1670336723327637,
          "split": "mae"
         },
         {
          "epoch": 217,
          "loss": 2.1660592555999756,
          "split": "mae"
         },
         {
          "epoch": 218,
          "loss": 2.161029577255249,
          "split": "mae"
         },
         {
          "epoch": 219,
          "loss": 2.1676151752471924,
          "split": "mae"
         },
         {
          "epoch": 220,
          "loss": 2.1547465324401855,
          "split": "mae"
         },
         {
          "epoch": 221,
          "loss": 2.1434412002563477,
          "split": "mae"
         },
         {
          "epoch": 222,
          "loss": 2.138190984725952,
          "split": "mae"
         },
         {
          "epoch": 223,
          "loss": 2.139749050140381,
          "split": "mae"
         },
         {
          "epoch": 224,
          "loss": 2.1275651454925537,
          "split": "mae"
         },
         {
          "epoch": 225,
          "loss": 2.1304216384887695,
          "split": "mae"
         },
         {
          "epoch": 226,
          "loss": 2.125236749649048,
          "split": "mae"
         },
         {
          "epoch": 227,
          "loss": 2.1456713676452637,
          "split": "mae"
         },
         {
          "epoch": 228,
          "loss": 2.1342623233795166,
          "split": "mae"
         },
         {
          "epoch": 229,
          "loss": 2.132539749145508,
          "split": "mae"
         },
         {
          "epoch": 230,
          "loss": 2.1285157203674316,
          "split": "mae"
         },
         {
          "epoch": 231,
          "loss": 2.1223304271698,
          "split": "mae"
         },
         {
          "epoch": 232,
          "loss": 2.1250996589660645,
          "split": "mae"
         },
         {
          "epoch": 233,
          "loss": 2.1273033618927,
          "split": "mae"
         },
         {
          "epoch": 234,
          "loss": 2.1590397357940674,
          "split": "mae"
         },
         {
          "epoch": 235,
          "loss": 2.1586756706237793,
          "split": "mae"
         },
         {
          "epoch": 236,
          "loss": 2.1438956260681152,
          "split": "mae"
         },
         {
          "epoch": 237,
          "loss": 2.145510196685791,
          "split": "mae"
         },
         {
          "epoch": 238,
          "loss": 2.1299943923950195,
          "split": "mae"
         },
         {
          "epoch": 239,
          "loss": 2.1330528259277344,
          "split": "mae"
         },
         {
          "epoch": 240,
          "loss": 2.1279962062835693,
          "split": "mae"
         },
         {
          "epoch": 241,
          "loss": 2.1132776737213135,
          "split": "mae"
         },
         {
          "epoch": 242,
          "loss": 2.0961482524871826,
          "split": "mae"
         },
         {
          "epoch": 243,
          "loss": 2.0965027809143066,
          "split": "mae"
         },
         {
          "epoch": 244,
          "loss": 2.096470594406128,
          "split": "mae"
         },
         {
          "epoch": 245,
          "loss": 2.091273784637451,
          "split": "mae"
         },
         {
          "epoch": 246,
          "loss": 2.1048083305358887,
          "split": "mae"
         },
         {
          "epoch": 247,
          "loss": 2.0887136459350586,
          "split": "mae"
         },
         {
          "epoch": 248,
          "loss": 2.0932393074035645,
          "split": "mae"
         },
         {
          "epoch": 249,
          "loss": 2.0955429077148438,
          "split": "mae"
         },
         {
          "epoch": 250,
          "loss": 2.096829414367676,
          "split": "mae"
         },
         {
          "epoch": 251,
          "loss": 2.0873515605926514,
          "split": "mae"
         },
         {
          "epoch": 252,
          "loss": 2.096550703048706,
          "split": "mae"
         },
         {
          "epoch": 253,
          "loss": 2.1003873348236084,
          "split": "mae"
         },
         {
          "epoch": 254,
          "loss": 2.0976505279541016,
          "split": "mae"
         },
         {
          "epoch": 255,
          "loss": 2.103583335876465,
          "split": "mae"
         },
         {
          "epoch": 256,
          "loss": 2.081990957260132,
          "split": "mae"
         },
         {
          "epoch": 257,
          "loss": 2.0914690494537354,
          "split": "mae"
         },
         {
          "epoch": 258,
          "loss": 2.0770578384399414,
          "split": "mae"
         },
         {
          "epoch": 259,
          "loss": 2.0888521671295166,
          "split": "mae"
         },
         {
          "epoch": 260,
          "loss": 2.083054304122925,
          "split": "mae"
         },
         {
          "epoch": 261,
          "loss": 2.0852973461151123,
          "split": "mae"
         },
         {
          "epoch": 262,
          "loss": 2.0837814807891846,
          "split": "mae"
         },
         {
          "epoch": 263,
          "loss": 2.0839412212371826,
          "split": "mae"
         },
         {
          "epoch": 264,
          "loss": 2.0788631439208984,
          "split": "mae"
         },
         {
          "epoch": 265,
          "loss": 2.077749252319336,
          "split": "mae"
         },
         {
          "epoch": 266,
          "loss": 2.097726583480835,
          "split": "mae"
         },
         {
          "epoch": 267,
          "loss": 2.0945639610290527,
          "split": "mae"
         },
         {
          "epoch": 268,
          "loss": 2.0969908237457275,
          "split": "mae"
         },
         {
          "epoch": 269,
          "loss": 2.094430685043335,
          "split": "mae"
         },
         {
          "epoch": 270,
          "loss": 2.080270290374756,
          "split": "mae"
         },
         {
          "epoch": 271,
          "loss": 2.0805277824401855,
          "split": "mae"
         },
         {
          "epoch": 272,
          "loss": 2.1016595363616943,
          "split": "mae"
         },
         {
          "epoch": 273,
          "loss": 2.1090171337127686,
          "split": "mae"
         },
         {
          "epoch": 274,
          "loss": 2.1107940673828125,
          "split": "mae"
         },
         {
          "epoch": 275,
          "loss": 2.1052873134613037,
          "split": "mae"
         },
         {
          "epoch": 276,
          "loss": 2.0902905464172363,
          "split": "mae"
         },
         {
          "epoch": 277,
          "loss": 2.0827643871307373,
          "split": "mae"
         },
         {
          "epoch": 278,
          "loss": 2.0831377506256104,
          "split": "mae"
         },
         {
          "epoch": 279,
          "loss": 2.0922672748565674,
          "split": "mae"
         },
         {
          "epoch": 280,
          "loss": 2.12669038772583,
          "split": "mae"
         },
         {
          "epoch": 281,
          "loss": 2.098449468612671,
          "split": "mae"
         },
         {
          "epoch": 282,
          "loss": 2.0908803939819336,
          "split": "mae"
         },
         {
          "epoch": 283,
          "loss": 2.083082914352417,
          "split": "mae"
         },
         {
          "epoch": 284,
          "loss": 2.089784860610962,
          "split": "mae"
         },
         {
          "epoch": 285,
          "loss": 2.0800857543945312,
          "split": "mae"
         },
         {
          "epoch": 286,
          "loss": 2.062162160873413,
          "split": "mae"
         },
         {
          "epoch": 287,
          "loss": 2.063258409500122,
          "split": "mae"
         },
         {
          "epoch": 288,
          "loss": 2.060241222381592,
          "split": "mae"
         },
         {
          "epoch": 289,
          "loss": 2.058520793914795,
          "split": "mae"
         },
         {
          "epoch": 290,
          "loss": 2.061779022216797,
          "split": "mae"
         },
         {
          "epoch": 291,
          "loss": 2.0623648166656494,
          "split": "mae"
         },
         {
          "epoch": 292,
          "loss": 2.054868221282959,
          "split": "mae"
         },
         {
          "epoch": 293,
          "loss": 2.044483184814453,
          "split": "mae"
         },
         {
          "epoch": 294,
          "loss": 2.0369021892547607,
          "split": "mae"
         },
         {
          "epoch": 295,
          "loss": 2.05259370803833,
          "split": "mae"
         },
         {
          "epoch": 296,
          "loss": 2.0457942485809326,
          "split": "mae"
         },
         {
          "epoch": 297,
          "loss": 2.0505051612854004,
          "split": "mae"
         },
         {
          "epoch": 298,
          "loss": 2.0470902919769287,
          "split": "mae"
         },
         {
          "epoch": 299,
          "loss": 2.048860549926758,
          "split": "mae"
         },
         {
          "epoch": 300,
          "loss": 2.047581434249878,
          "split": "mae"
         },
         {
          "epoch": 301,
          "loss": 2.0529353618621826,
          "split": "mae"
         },
         {
          "epoch": 302,
          "loss": 2.048340320587158,
          "split": "mae"
         },
         {
          "epoch": 303,
          "loss": 2.042790412902832,
          "split": "mae"
         },
         {
          "epoch": 304,
          "loss": 2.055817127227783,
          "split": "mae"
         },
         {
          "epoch": 305,
          "loss": 2.0571022033691406,
          "split": "mae"
         },
         {
          "epoch": 306,
          "loss": 2.05409836769104,
          "split": "mae"
         },
         {
          "epoch": 307,
          "loss": 2.0472896099090576,
          "split": "mae"
         },
         {
          "epoch": 308,
          "loss": 2.0460829734802246,
          "split": "mae"
         },
         {
          "epoch": 309,
          "loss": 2.0444889068603516,
          "split": "mae"
         },
         {
          "epoch": 310,
          "loss": 2.0438311100006104,
          "split": "mae"
         },
         {
          "epoch": 311,
          "loss": 2.036759376525879,
          "split": "mae"
         },
         {
          "epoch": 312,
          "loss": 2.023977518081665,
          "split": "mae"
         },
         {
          "epoch": 313,
          "loss": 2.0318853855133057,
          "split": "mae"
         },
         {
          "epoch": 314,
          "loss": 2.012665033340454,
          "split": "mae"
         },
         {
          "epoch": 315,
          "loss": 2.0300724506378174,
          "split": "mae"
         },
         {
          "epoch": 316,
          "loss": 2.0194382667541504,
          "split": "mae"
         },
         {
          "epoch": 317,
          "loss": 2.022970676422119,
          "split": "mae"
         },
         {
          "epoch": 318,
          "loss": 2.0228042602539062,
          "split": "mae"
         },
         {
          "epoch": 319,
          "loss": 2.0290322303771973,
          "split": "mae"
         },
         {
          "epoch": 320,
          "loss": 2.0207359790802,
          "split": "mae"
         },
         {
          "epoch": 321,
          "loss": 2.0262482166290283,
          "split": "mae"
         },
         {
          "epoch": 322,
          "loss": 2.038909912109375,
          "split": "mae"
         },
         {
          "epoch": 323,
          "loss": 2.048304796218872,
          "split": "mae"
         },
         {
          "epoch": 324,
          "loss": 2.0491623878479004,
          "split": "mae"
         },
         {
          "epoch": 325,
          "loss": 2.0342750549316406,
          "split": "mae"
         },
         {
          "epoch": 326,
          "loss": 2.044259548187256,
          "split": "mae"
         },
         {
          "epoch": 327,
          "loss": 2.0301473140716553,
          "split": "mae"
         },
         {
          "epoch": 328,
          "loss": 2.026683807373047,
          "split": "mae"
         },
         {
          "epoch": 329,
          "loss": 2.0337023735046387,
          "split": "mae"
         },
         {
          "epoch": 330,
          "loss": 2.028003215789795,
          "split": "mae"
         },
         {
          "epoch": 331,
          "loss": 2.026221990585327,
          "split": "mae"
         },
         {
          "epoch": 332,
          "loss": 2.024136543273926,
          "split": "mae"
         },
         {
          "epoch": 333,
          "loss": 2.014021158218384,
          "split": "mae"
         },
         {
          "epoch": 334,
          "loss": 2.014293670654297,
          "split": "mae"
         },
         {
          "epoch": 335,
          "loss": 2.0154988765716553,
          "split": "mae"
         },
         {
          "epoch": 336,
          "loss": 2.042259454727173,
          "split": "mae"
         },
         {
          "epoch": 337,
          "loss": 2.0373969078063965,
          "split": "mae"
         },
         {
          "epoch": 338,
          "loss": 2.038429021835327,
          "split": "mae"
         },
         {
          "epoch": 339,
          "loss": 2.025648832321167,
          "split": "mae"
         },
         {
          "epoch": 340,
          "loss": 2.0148191452026367,
          "split": "mae"
         },
         {
          "epoch": 341,
          "loss": 2.022451639175415,
          "split": "mae"
         },
         {
          "epoch": 342,
          "loss": 2.019904375076294,
          "split": "mae"
         },
         {
          "epoch": 343,
          "loss": 2.0122640132904053,
          "split": "mae"
         },
         {
          "epoch": 344,
          "loss": 2.0120553970336914,
          "split": "mae"
         },
         {
          "epoch": 345,
          "loss": 2.0086281299591064,
          "split": "mae"
         },
         {
          "epoch": 346,
          "loss": 2.0080325603485107,
          "split": "mae"
         },
         {
          "epoch": 347,
          "loss": 2.010547637939453,
          "split": "mae"
         },
         {
          "epoch": 348,
          "loss": 2.010969400405884,
          "split": "mae"
         },
         {
          "epoch": 349,
          "loss": 2.000023603439331,
          "split": "mae"
         },
         {
          "epoch": 350,
          "loss": 2.002800703048706,
          "split": "mae"
         },
         {
          "epoch": 351,
          "loss": 2.0010807514190674,
          "split": "mae"
         },
         {
          "epoch": 352,
          "loss": 1.9990901947021484,
          "split": "mae"
         },
         {
          "epoch": 353,
          "loss": 2.003169536590576,
          "split": "mae"
         },
         {
          "epoch": 354,
          "loss": 1.9905925989151,
          "split": "mae"
         },
         {
          "epoch": 355,
          "loss": 1.9927500486373901,
          "split": "mae"
         },
         {
          "epoch": 356,
          "loss": 1.9894334077835083,
          "split": "mae"
         },
         {
          "epoch": 357,
          "loss": 1.9894912242889404,
          "split": "mae"
         },
         {
          "epoch": 358,
          "loss": 2.0034611225128174,
          "split": "mae"
         },
         {
          "epoch": 359,
          "loss": 2.004655599594116,
          "split": "mae"
         },
         {
          "epoch": 360,
          "loss": 2.002417802810669,
          "split": "mae"
         },
         {
          "epoch": 361,
          "loss": 2.001115560531616,
          "split": "mae"
         },
         {
          "epoch": 362,
          "loss": 1.9954161643981934,
          "split": "mae"
         },
         {
          "epoch": 363,
          "loss": 1.9979496002197266,
          "split": "mae"
         },
         {
          "epoch": 364,
          "loss": 1.9964728355407715,
          "split": "mae"
         },
         {
          "epoch": 365,
          "loss": 1.9952666759490967,
          "split": "mae"
         },
         {
          "epoch": 366,
          "loss": 1.9919321537017822,
          "split": "mae"
         },
         {
          "epoch": 367,
          "loss": 1.9970508813858032,
          "split": "mae"
         },
         {
          "epoch": 368,
          "loss": 1.9892477989196777,
          "split": "mae"
         },
         {
          "epoch": 369,
          "loss": 1.9944180250167847,
          "split": "mae"
         },
         {
          "epoch": 370,
          "loss": 2.0099031925201416,
          "split": "mae"
         },
         {
          "epoch": 371,
          "loss": 2.002842426300049,
          "split": "mae"
         },
         {
          "epoch": 372,
          "loss": 1.9977664947509766,
          "split": "mae"
         },
         {
          "epoch": 373,
          "loss": 1.9970831871032715,
          "split": "mae"
         },
         {
          "epoch": 374,
          "loss": 1.9952744245529175,
          "split": "mae"
         },
         {
          "epoch": 375,
          "loss": 1.9907071590423584,
          "split": "mae"
         },
         {
          "epoch": 376,
          "loss": 1.9837894439697266,
          "split": "mae"
         },
         {
          "epoch": 377,
          "loss": 1.9877619743347168,
          "split": "mae"
         },
         {
          "epoch": 378,
          "loss": 1.9856183528900146,
          "split": "mae"
         },
         {
          "epoch": 379,
          "loss": 1.9891750812530518,
          "split": "mae"
         },
         {
          "epoch": 380,
          "loss": 1.9830106496810913,
          "split": "mae"
         },
         {
          "epoch": 381,
          "loss": 1.9815558195114136,
          "split": "mae"
         },
         {
          "epoch": 382,
          "loss": 1.9813910722732544,
          "split": "mae"
         },
         {
          "epoch": 383,
          "loss": 1.981528401374817,
          "split": "mae"
         },
         {
          "epoch": 384,
          "loss": 1.981195330619812,
          "split": "mae"
         },
         {
          "epoch": 385,
          "loss": 1.9777055978775024,
          "split": "mae"
         },
         {
          "epoch": 386,
          "loss": 1.982864260673523,
          "split": "mae"
         },
         {
          "epoch": 387,
          "loss": 1.9777928590774536,
          "split": "mae"
         },
         {
          "epoch": 388,
          "loss": 1.967375636100769,
          "split": "mae"
         },
         {
          "epoch": 389,
          "loss": 1.9714891910552979,
          "split": "mae"
         },
         {
          "epoch": 390,
          "loss": 1.9732837677001953,
          "split": "mae"
         },
         {
          "epoch": 391,
          "loss": 1.973358392715454,
          "split": "mae"
         },
         {
          "epoch": 392,
          "loss": 1.9742366075515747,
          "split": "mae"
         },
         {
          "epoch": 393,
          "loss": 1.9770681858062744,
          "split": "mae"
         },
         {
          "epoch": 394,
          "loss": 1.9774175882339478,
          "split": "mae"
         },
         {
          "epoch": 395,
          "loss": 1.9698119163513184,
          "split": "mae"
         },
         {
          "epoch": 396,
          "loss": 1.9775893688201904,
          "split": "mae"
         },
         {
          "epoch": 397,
          "loss": 1.962477207183838,
          "split": "mae"
         },
         {
          "epoch": 398,
          "loss": 1.9692617654800415,
          "split": "mae"
         },
         {
          "epoch": 399,
          "loss": 1.9735037088394165,
          "split": "mae"
         },
         {
          "epoch": 400,
          "loss": 1.9747179746627808,
          "split": "mae"
         },
         {
          "epoch": 401,
          "loss": 1.9723149538040161,
          "split": "mae"
         },
         {
          "epoch": 402,
          "loss": 1.9771299362182617,
          "split": "mae"
         },
         {
          "epoch": 403,
          "loss": 1.9734972715377808,
          "split": "mae"
         },
         {
          "epoch": 404,
          "loss": 1.9708021879196167,
          "split": "mae"
         },
         {
          "epoch": 405,
          "loss": 1.9719468355178833,
          "split": "mae"
         },
         {
          "epoch": 406,
          "loss": 1.9694650173187256,
          "split": "mae"
         },
         {
          "epoch": 407,
          "loss": 1.9685730934143066,
          "split": "mae"
         },
         {
          "epoch": 408,
          "loss": 1.978714942932129,
          "split": "mae"
         },
         {
          "epoch": 409,
          "loss": 1.978469729423523,
          "split": "mae"
         },
         {
          "epoch": 410,
          "loss": 1.9831210374832153,
          "split": "mae"
         },
         {
          "epoch": 411,
          "loss": 1.9814469814300537,
          "split": "mae"
         },
         {
          "epoch": 412,
          "loss": 1.9700098037719727,
          "split": "mae"
         },
         {
          "epoch": 413,
          "loss": 1.9621179103851318,
          "split": "mae"
         },
         {
          "epoch": 414,
          "loss": 1.9568122625350952,
          "split": "mae"
         },
         {
          "epoch": 415,
          "loss": 1.9715185165405273,
          "split": "mae"
         },
         {
          "epoch": 416,
          "loss": 1.9699674844741821,
          "split": "mae"
         },
         {
          "epoch": 417,
          "loss": 1.9643021821975708,
          "split": "mae"
         },
         {
          "epoch": 418,
          "loss": 1.9552440643310547,
          "split": "mae"
         },
         {
          "epoch": 419,
          "loss": 1.9603583812713623,
          "split": "mae"
         },
         {
          "epoch": 420,
          "loss": 1.9507697820663452,
          "split": "mae"
         },
         {
          "epoch": 421,
          "loss": 1.9565860033035278,
          "split": "mae"
         },
         {
          "epoch": 422,
          "loss": 1.9584059715270996,
          "split": "mae"
         },
         {
          "epoch": 423,
          "loss": 1.9508376121520996,
          "split": "mae"
         },
         {
          "epoch": 424,
          "loss": 1.9542365074157715,
          "split": "mae"
         },
         {
          "epoch": 425,
          "loss": 1.9586436748504639,
          "split": "mae"
         },
         {
          "epoch": 426,
          "loss": 1.9685578346252441,
          "split": "mae"
         },
         {
          "epoch": 427,
          "loss": 1.9597294330596924,
          "split": "mae"
         },
         {
          "epoch": 428,
          "loss": 1.9634160995483398,
          "split": "mae"
         },
         {
          "epoch": 429,
          "loss": 1.9567335844039917,
          "split": "mae"
         },
         {
          "epoch": 430,
          "loss": 1.955571174621582,
          "split": "mae"
         },
         {
          "epoch": 431,
          "loss": 1.946854829788208,
          "split": "mae"
         },
         {
          "epoch": 432,
          "loss": 1.958429217338562,
          "split": "mae"
         },
         {
          "epoch": 433,
          "loss": 1.957476019859314,
          "split": "mae"
         },
         {
          "epoch": 434,
          "loss": 1.9465571641921997,
          "split": "mae"
         },
         {
          "epoch": 435,
          "loss": 1.9505712985992432,
          "split": "mae"
         },
         {
          "epoch": 436,
          "loss": 1.9504694938659668,
          "split": "mae"
         },
         {
          "epoch": 437,
          "loss": 1.947098970413208,
          "split": "mae"
         },
         {
          "epoch": 438,
          "loss": 2.017244815826416,
          "split": "mae"
         },
         {
          "epoch": 439,
          "loss": 2.001896858215332,
          "split": "mae"
         },
         {
          "epoch": 440,
          "loss": 1.9799124002456665,
          "split": "mae"
         },
         {
          "epoch": 441,
          "loss": 1.9708856344223022,
          "split": "mae"
         },
         {
          "epoch": 442,
          "loss": 1.9653841257095337,
          "split": "mae"
         },
         {
          "epoch": 443,
          "loss": 1.960666298866272,
          "split": "mae"
         },
         {
          "epoch": 444,
          "loss": 1.9550732374191284,
          "split": "mae"
         },
         {
          "epoch": 445,
          "loss": 2.01533842086792,
          "split": "mae"
         },
         {
          "epoch": 446,
          "loss": 1.990688681602478,
          "split": "mae"
         },
         {
          "epoch": 447,
          "loss": 1.9810813665390015,
          "split": "mae"
         },
         {
          "epoch": 448,
          "loss": 1.9677271842956543,
          "split": "mae"
         },
         {
          "epoch": 449,
          "loss": 1.9574813842773438,
          "split": "mae"
         },
         {
          "epoch": 450,
          "loss": 1.955107569694519,
          "split": "mae"
         },
         {
          "epoch": 451,
          "loss": 1.9551836252212524,
          "split": "mae"
         },
         {
          "epoch": 452,
          "loss": 1.9480167627334595,
          "split": "mae"
         },
         {
          "epoch": 453,
          "loss": 1.951532244682312,
          "split": "mae"
         },
         {
          "epoch": 454,
          "loss": 1.9468622207641602,
          "split": "mae"
         },
         {
          "epoch": 455,
          "loss": 1.9561678171157837,
          "split": "mae"
         },
         {
          "epoch": 456,
          "loss": 1.9404659271240234,
          "split": "mae"
         },
         {
          "epoch": 457,
          "loss": 1.9462329149246216,
          "split": "mae"
         },
         {
          "epoch": 458,
          "loss": 1.9373365640640259,
          "split": "mae"
         },
         {
          "epoch": 459,
          "loss": 1.925227403640747,
          "split": "mae"
         },
         {
          "epoch": 460,
          "loss": 1.9262698888778687,
          "split": "mae"
         },
         {
          "epoch": 461,
          "loss": 1.9275273084640503,
          "split": "mae"
         },
         {
          "epoch": 462,
          "loss": 1.9416000843048096,
          "split": "mae"
         },
         {
          "epoch": 463,
          "loss": 1.9386745691299438,
          "split": "mae"
         },
         {
          "epoch": 464,
          "loss": 1.933288812637329,
          "split": "mae"
         },
         {
          "epoch": 465,
          "loss": 1.9768948554992676,
          "split": "mae"
         },
         {
          "epoch": 466,
          "loss": 1.9639701843261719,
          "split": "mae"
         },
         {
          "epoch": 467,
          "loss": 1.9558377265930176,
          "split": "mae"
         },
         {
          "epoch": 468,
          "loss": 1.9555631875991821,
          "split": "mae"
         },
         {
          "epoch": 469,
          "loss": 1.942383050918579,
          "split": "mae"
         },
         {
          "epoch": 470,
          "loss": 1.93770432472229,
          "split": "mae"
         },
         {
          "epoch": 471,
          "loss": 1.9241877794265747,
          "split": "mae"
         },
         {
          "epoch": 472,
          "loss": 1.9287012815475464,
          "split": "mae"
         },
         {
          "epoch": 473,
          "loss": 1.9289275407791138,
          "split": "mae"
         },
         {
          "epoch": 474,
          "loss": 1.9269611835479736,
          "split": "mae"
         },
         {
          "epoch": 475,
          "loss": 1.9299979209899902,
          "split": "mae"
         },
         {
          "epoch": 476,
          "loss": 1.9298235177993774,
          "split": "mae"
         },
         {
          "epoch": 477,
          "loss": 1.931923747062683,
          "split": "mae"
         },
         {
          "epoch": 478,
          "loss": 1.935762882232666,
          "split": "mae"
         },
         {
          "epoch": 479,
          "loss": 1.931854009628296,
          "split": "mae"
         },
         {
          "epoch": 480,
          "loss": 1.9144493341445923,
          "split": "mae"
         },
         {
          "epoch": 481,
          "loss": 1.9174950122833252,
          "split": "mae"
         },
         {
          "epoch": 482,
          "loss": 1.912895679473877,
          "split": "mae"
         },
         {
          "epoch": 483,
          "loss": 1.9331697225570679,
          "split": "mae"
         },
         {
          "epoch": 484,
          "loss": 1.9320311546325684,
          "split": "mae"
         },
         {
          "epoch": 485,
          "loss": 1.9070311784744263,
          "split": "mae"
         },
         {
          "epoch": 486,
          "loss": 1.9088938236236572,
          "split": "mae"
         },
         {
          "epoch": 487,
          "loss": 1.9421229362487793,
          "split": "mae"
         },
         {
          "epoch": 488,
          "loss": 1.934692621231079,
          "split": "mae"
         },
         {
          "epoch": 489,
          "loss": 1.9306175708770752,
          "split": "mae"
         },
         {
          "epoch": 490,
          "loss": 1.9250322580337524,
          "split": "mae"
         },
         {
          "epoch": 491,
          "loss": 1.9229838848114014,
          "split": "mae"
         },
         {
          "epoch": 492,
          "loss": 1.915047526359558,
          "split": "mae"
         },
         {
          "epoch": 493,
          "loss": 1.9120088815689087,
          "split": "mae"
         },
         {
          "epoch": 494,
          "loss": 1.9160043001174927,
          "split": "mae"
         },
         {
          "epoch": 495,
          "loss": 1.9195927381515503,
          "split": "mae"
         },
         {
          "epoch": 496,
          "loss": 1.9409712553024292,
          "split": "mae"
         },
         {
          "epoch": 497,
          "loss": 1.9325933456420898,
          "split": "mae"
         },
         {
          "epoch": 498,
          "loss": 1.9251708984375,
          "split": "mae"
         },
         {
          "epoch": 499,
          "loss": 1.9312305450439453,
          "split": "mae"
         },
         {
          "epoch": 0,
          "loss": 618.4373263135368,
          "split": "val_loss"
         },
         {
          "epoch": 1,
          "loss": 596.3021858121142,
          "split": "val_loss"
         },
         {
          "epoch": 2,
          "loss": 571.5535817087432,
          "split": "val_loss"
         },
         {
          "epoch": 3,
          "loss": 544.4957791552132,
          "split": "val_loss"
         },
         {
          "epoch": 4,
          "loss": 512.4205634976611,
          "split": "val_loss"
         },
         {
          "epoch": 5,
          "loss": 477.61193772304205,
          "split": "val_loss"
         },
         {
          "epoch": 6,
          "loss": 435.66471165786555,
          "split": "val_loss"
         },
         {
          "epoch": 7,
          "loss": 386.18213097843125,
          "split": "val_loss"
         },
         {
          "epoch": 8,
          "loss": 334.1664775330343,
          "split": "val_loss"
         },
         {
          "epoch": 9,
          "loss": 280.6553301399137,
          "split": "val_loss"
         },
         {
          "epoch": 10,
          "loss": 231.97891894681953,
          "split": "val_loss"
         },
         {
          "epoch": 11,
          "loss": 189.78594584523896,
          "split": "val_loss"
         },
         {
          "epoch": 12,
          "loss": 157.10557490219304,
          "split": "val_loss"
         },
         {
          "epoch": 13,
          "loss": 128.94655802220473,
          "split": "val_loss"
         },
         {
          "epoch": 14,
          "loss": 111.312680138482,
          "split": "val_loss"
         },
         {
          "epoch": 15,
          "loss": 98.25461041485822,
          "split": "val_loss"
         },
         {
          "epoch": 16,
          "loss": 87.941404554579,
          "split": "val_loss"
         },
         {
          "epoch": 17,
          "loss": 79.4319884688766,
          "split": "val_loss"
         },
         {
          "epoch": 18,
          "loss": 72.43833626641168,
          "split": "val_loss"
         },
         {
          "epoch": 19,
          "loss": 65.79176613136575,
          "split": "val_loss"
         },
         {
          "epoch": 20,
          "loss": 60.66330186820325,
          "split": "val_loss"
         },
         {
          "epoch": 21,
          "loss": 55.28097058519905,
          "split": "val_loss"
         },
         {
          "epoch": 22,
          "loss": 51.476561040054136,
          "split": "val_loss"
         },
         {
          "epoch": 23,
          "loss": 47.763917875878604,
          "split": "val_loss"
         },
         {
          "epoch": 24,
          "loss": 44.56988468876592,
          "split": "val_loss"
         },
         {
          "epoch": 25,
          "loss": 41.57161670260959,
          "split": "val_loss"
         },
         {
          "epoch": 26,
          "loss": 38.92545556433407,
          "split": "val_loss"
         },
         {
          "epoch": 27,
          "loss": 36.83012062826274,
          "split": "val_loss"
         },
         {
          "epoch": 28,
          "loss": 34.82015743962041,
          "split": "val_loss"
         },
         {
          "epoch": 29,
          "loss": 32.964786859206214,
          "split": "val_loss"
         },
         {
          "epoch": 30,
          "loss": 31.3061176582619,
          "split": "val_loss"
         },
         {
          "epoch": 31,
          "loss": 30.27914562931767,
          "split": "val_loss"
         },
         {
          "epoch": 32,
          "loss": 29.217148910334082,
          "split": "val_loss"
         },
         {
          "epoch": 33,
          "loss": 28.163582601664977,
          "split": "val_loss"
         },
         {
          "epoch": 34,
          "loss": 27.110415941403236,
          "split": "val_loss"
         },
         {
          "epoch": 35,
          "loss": 26.311330500944162,
          "split": "val_loss"
         },
         {
          "epoch": 36,
          "loss": 25.544855259082937,
          "split": "val_loss"
         },
         {
          "epoch": 37,
          "loss": 24.900657759772407,
          "split": "val_loss"
         },
         {
          "epoch": 38,
          "loss": 24.485948774549698,
          "split": "val_loss"
         },
         {
          "epoch": 39,
          "loss": 23.951039290722505,
          "split": "val_loss"
         },
         {
          "epoch": 40,
          "loss": 23.419731658182027,
          "split": "val_loss"
         },
         {
          "epoch": 41,
          "loss": 23.006182541081934,
          "split": "val_loss"
         },
         {
          "epoch": 42,
          "loss": 22.272767714512202,
          "split": "val_loss"
         },
         {
          "epoch": 43,
          "loss": 22.04716138486509,
          "split": "val_loss"
         },
         {
          "epoch": 44,
          "loss": 21.8361975469707,
          "split": "val_loss"
         },
         {
          "epoch": 45,
          "loss": 21.527855390383873,
          "split": "val_loss"
         },
         {
          "epoch": 46,
          "loss": 21.2685320465653,
          "split": "val_loss"
         },
         {
          "epoch": 47,
          "loss": 20.861364364624023,
          "split": "val_loss"
         },
         {
          "epoch": 48,
          "loss": 20.682267000645766,
          "split": "val_loss"
         },
         {
          "epoch": 49,
          "loss": 20.610708213146822,
          "split": "val_loss"
         },
         {
          "epoch": 50,
          "loss": 20.364272423732427,
          "split": "val_loss"
         },
         {
          "epoch": 51,
          "loss": 20.088863525861576,
          "split": "val_loss"
         },
         {
          "epoch": 52,
          "loss": 19.83218303727515,
          "split": "val_loss"
         },
         {
          "epoch": 53,
          "loss": 19.70900109373493,
          "split": "val_loss"
         },
         {
          "epoch": 54,
          "loss": 19.56126915967023,
          "split": "val_loss"
         },
         {
          "epoch": 55,
          "loss": 19.439787146485884,
          "split": "val_loss"
         },
         {
          "epoch": 56,
          "loss": 19.30256564528854,
          "split": "val_loss"
         },
         {
          "epoch": 57,
          "loss": 19.190269729237496,
          "split": "val_loss"
         },
         {
          "epoch": 58,
          "loss": 19.045050703449014,
          "split": "val_loss"
         },
         {
          "epoch": 59,
          "loss": 18.805054982503254,
          "split": "val_loss"
         },
         {
          "epoch": 60,
          "loss": 18.664065796651958,
          "split": "val_loss"
         },
         {
          "epoch": 61,
          "loss": 18.537041263815798,
          "split": "val_loss"
         },
         {
          "epoch": 62,
          "loss": 18.41791044635537,
          "split": "val_loss"
         },
         {
          "epoch": 63,
          "loss": 18.39873742468563,
          "split": "val_loss"
         },
         {
          "epoch": 64,
          "loss": 18.251327279173296,
          "split": "val_loss"
         },
         {
          "epoch": 65,
          "loss": 17.970973344496738,
          "split": "val_loss"
         },
         {
          "epoch": 66,
          "loss": 17.885855086055802,
          "split": "val_loss"
         },
         {
          "epoch": 67,
          "loss": 17.86587851724507,
          "split": "val_loss"
         },
         {
          "epoch": 68,
          "loss": 18.0039610568388,
          "split": "val_loss"
         },
         {
          "epoch": 69,
          "loss": 17.785991315488463,
          "split": "val_loss"
         },
         {
          "epoch": 70,
          "loss": 17.6170207247322,
          "split": "val_loss"
         },
         {
          "epoch": 71,
          "loss": 17.60438718913514,
          "split": "val_loss"
         },
         {
          "epoch": 72,
          "loss": 17.327250739674508,
          "split": "val_loss"
         },
         {
          "epoch": 73,
          "loss": 17.19504534168008,
          "split": "val_loss"
         },
         {
          "epoch": 74,
          "loss": 17.19237393508723,
          "split": "val_loss"
         },
         {
          "epoch": 75,
          "loss": 17.099708168594926,
          "split": "val_loss"
         },
         {
          "epoch": 76,
          "loss": 17.093169235888823,
          "split": "val_loss"
         },
         {
          "epoch": 77,
          "loss": 16.993290818767782,
          "split": "val_loss"
         },
         {
          "epoch": 78,
          "loss": 17.08624040344615,
          "split": "val_loss"
         },
         {
          "epoch": 79,
          "loss": 16.96768688861235,
          "split": "val_loss"
         },
         {
          "epoch": 80,
          "loss": 16.871153701970606,
          "split": "val_loss"
         },
         {
          "epoch": 81,
          "loss": 16.74486486411389,
          "split": "val_loss"
         },
         {
          "epoch": 82,
          "loss": 16.71662712097168,
          "split": "val_loss"
         },
         {
          "epoch": 83,
          "loss": 16.646482161533687,
          "split": "val_loss"
         },
         {
          "epoch": 84,
          "loss": 16.585598945617676,
          "split": "val_loss"
         },
         {
          "epoch": 85,
          "loss": 16.41383038038089,
          "split": "val_loss"
         },
         {
          "epoch": 86,
          "loss": 16.36443128703553,
          "split": "val_loss"
         },
         {
          "epoch": 87,
          "loss": 16.29476845117263,
          "split": "val_loss"
         },
         {
          "epoch": 88,
          "loss": 16.339682343565386,
          "split": "val_loss"
         },
         {
          "epoch": 89,
          "loss": 16.371737998208882,
          "split": "val_loss"
         },
         {
          "epoch": 90,
          "loss": 16.297995449584207,
          "split": "val_loss"
         },
         {
          "epoch": 91,
          "loss": 16.124119923438556,
          "split": "val_loss"
         },
         {
          "epoch": 92,
          "loss": 16.08299509684245,
          "split": "val_loss"
         },
         {
          "epoch": 93,
          "loss": 16.06359553631441,
          "split": "val_loss"
         },
         {
          "epoch": 94,
          "loss": 16.058045740480775,
          "split": "val_loss"
         },
         {
          "epoch": 95,
          "loss": 16.00400459619216,
          "split": "val_loss"
         },
         {
          "epoch": 96,
          "loss": 15.9782569202376,
          "split": "val_loss"
         },
         {
          "epoch": 97,
          "loss": 15.88105234687711,
          "split": "val_loss"
         },
         {
          "epoch": 98,
          "loss": 15.817781024509006,
          "split": "val_loss"
         },
         {
          "epoch": 99,
          "loss": 15.801143799299075,
          "split": "val_loss"
         },
         {
          "epoch": 100,
          "loss": 15.737486921710733,
          "split": "val_loss"
         },
         {
          "epoch": 101,
          "loss": 15.71986718825352,
          "split": "val_loss"
         },
         {
          "epoch": 102,
          "loss": 15.624323691850828,
          "split": "val_loss"
         },
         {
          "epoch": 103,
          "loss": 15.639317842177404,
          "split": "val_loss"
         },
         {
          "epoch": 104,
          "loss": 15.592608769734701,
          "split": "val_loss"
         },
         {
          "epoch": 105,
          "loss": 15.53198018486117,
          "split": "val_loss"
         },
         {
          "epoch": 106,
          "loss": 15.4735577194779,
          "split": "val_loss"
         },
         {
          "epoch": 107,
          "loss": 15.429374871430573,
          "split": "val_loss"
         },
         {
          "epoch": 108,
          "loss": 15.417849988113215,
          "split": "val_loss"
         },
         {
          "epoch": 109,
          "loss": 15.330975497210467,
          "split": "val_loss"
         },
         {
          "epoch": 110,
          "loss": 15.20864259460826,
          "split": "val_loss"
         },
         {
          "epoch": 111,
          "loss": 15.28839773013268,
          "split": "val_loss"
         },
         {
          "epoch": 112,
          "loss": 15.203370553475839,
          "split": "val_loss"
         },
         {
          "epoch": 113,
          "loss": 15.216287589367525,
          "split": "val_loss"
         },
         {
          "epoch": 114,
          "loss": 15.152492240623191,
          "split": "val_loss"
         },
         {
          "epoch": 115,
          "loss": 15.23639965057373,
          "split": "val_loss"
         },
         {
          "epoch": 116,
          "loss": 15.221018861841273,
          "split": "val_loss"
         },
         {
          "epoch": 117,
          "loss": 15.07426890620479,
          "split": "val_loss"
         },
         {
          "epoch": 118,
          "loss": 15.049359074345341,
          "split": "val_loss"
         },
         {
          "epoch": 119,
          "loss": 15.032207665620026,
          "split": "val_loss"
         },
         {
          "epoch": 120,
          "loss": 15.022204811190381,
          "split": "val_loss"
         },
         {
          "epoch": 121,
          "loss": 14.935794159218117,
          "split": "val_loss"
         },
         {
          "epoch": 122,
          "loss": 14.940228309160398,
          "split": "val_loss"
         },
         {
          "epoch": 123,
          "loss": 14.996635425237962,
          "split": "val_loss"
         },
         {
          "epoch": 124,
          "loss": 14.9562091709655,
          "split": "val_loss"
         },
         {
          "epoch": 125,
          "loss": 14.913240114847818,
          "split": "val_loss"
         },
         {
          "epoch": 126,
          "loss": 14.920525868733725,
          "split": "val_loss"
         },
         {
          "epoch": 127,
          "loss": 14.960705345059619,
          "split": "val_loss"
         },
         {
          "epoch": 128,
          "loss": 14.96733444119677,
          "split": "val_loss"
         },
         {
          "epoch": 129,
          "loss": 14.964992476098331,
          "split": "val_loss"
         },
         {
          "epoch": 130,
          "loss": 14.905383404390312,
          "split": "val_loss"
         },
         {
          "epoch": 131,
          "loss": 14.858480477038725,
          "split": "val_loss"
         },
         {
          "epoch": 132,
          "loss": 14.85375142980505,
          "split": "val_loss"
         },
         {
          "epoch": 133,
          "loss": 14.86480556299657,
          "split": "val_loss"
         },
         {
          "epoch": 134,
          "loss": 14.820131007535958,
          "split": "val_loss"
         },
         {
          "epoch": 135,
          "loss": 14.816567397411958,
          "split": "val_loss"
         },
         {
          "epoch": 136,
          "loss": 14.80509371816376,
          "split": "val_loss"
         },
         {
          "epoch": 137,
          "loss": 14.83439815191575,
          "split": "val_loss"
         },
         {
          "epoch": 138,
          "loss": 14.83163896019076,
          "split": "val_loss"
         },
         {
          "epoch": 139,
          "loss": 14.80183255230939,
          "split": "val_loss"
         },
         {
          "epoch": 140,
          "loss": 14.825920587704505,
          "split": "val_loss"
         },
         {
          "epoch": 141,
          "loss": 14.692786416889708,
          "split": "val_loss"
         },
         {
          "epoch": 142,
          "loss": 14.694358531339669,
          "split": "val_loss"
         },
         {
          "epoch": 143,
          "loss": 14.685788613778573,
          "split": "val_loss"
         },
         {
          "epoch": 144,
          "loss": 14.725692219204372,
          "split": "val_loss"
         },
         {
          "epoch": 145,
          "loss": 14.709154941417554,
          "split": "val_loss"
         },
         {
          "epoch": 146,
          "loss": 14.745759398848922,
          "split": "val_loss"
         },
         {
          "epoch": 147,
          "loss": 14.687811945691521,
          "split": "val_loss"
         },
         {
          "epoch": 148,
          "loss": 14.610307893635314,
          "split": "val_loss"
         },
         {
          "epoch": 149,
          "loss": 14.596157745078758,
          "split": "val_loss"
         },
         {
          "epoch": 150,
          "loss": 14.565018618548358,
          "split": "val_loss"
         },
         {
          "epoch": 151,
          "loss": 14.631279203626844,
          "split": "val_loss"
         },
         {
          "epoch": 152,
          "loss": 14.598266978322723,
          "split": "val_loss"
         },
         {
          "epoch": 153,
          "loss": 15.246907646273389,
          "split": "val_loss"
         },
         {
          "epoch": 154,
          "loss": 15.104407993363745,
          "split": "val_loss"
         },
         {
          "epoch": 155,
          "loss": 15.0045154241868,
          "split": "val_loss"
         },
         {
          "epoch": 156,
          "loss": 14.981032418616024,
          "split": "val_loss"
         },
         {
          "epoch": 157,
          "loss": 14.928878136623053,
          "split": "val_loss"
         },
         {
          "epoch": 158,
          "loss": 14.876774305178795,
          "split": "val_loss"
         },
         {
          "epoch": 159,
          "loss": 14.850825710061155,
          "split": "val_loss"
         },
         {
          "epoch": 160,
          "loss": 14.858639505174425,
          "split": "val_loss"
         },
         {
          "epoch": 161,
          "loss": 14.787413820808316,
          "split": "val_loss"
         },
         {
          "epoch": 162,
          "loss": 14.850359928460769,
          "split": "val_loss"
         },
         {
          "epoch": 163,
          "loss": 14.89510296009205,
          "split": "val_loss"
         },
         {
          "epoch": 164,
          "loss": 14.78803739429992,
          "split": "val_loss"
         },
         {
          "epoch": 165,
          "loss": 14.761992195506155,
          "split": "val_loss"
         },
         {
          "epoch": 166,
          "loss": 14.756518422821422,
          "split": "val_loss"
         },
         {
          "epoch": 167,
          "loss": 14.656607239334672,
          "split": "val_loss"
         },
         {
          "epoch": 168,
          "loss": 14.673992298267505,
          "split": "val_loss"
         },
         {
          "epoch": 169,
          "loss": 14.670372268299998,
          "split": "val_loss"
         },
         {
          "epoch": 170,
          "loss": 14.66439429624581,
          "split": "val_loss"
         },
         {
          "epoch": 171,
          "loss": 14.711013546696416,
          "split": "val_loss"
         },
         {
          "epoch": 172,
          "loss": 14.55021494406241,
          "split": "val_loss"
         },
         {
          "epoch": 173,
          "loss": 14.655126371501405,
          "split": "val_loss"
         },
         {
          "epoch": 174,
          "loss": 14.614910043316122,
          "split": "val_loss"
         },
         {
          "epoch": 175,
          "loss": 15.316317911501285,
          "split": "val_loss"
         },
         {
          "epoch": 176,
          "loss": 15.173777592034988,
          "split": "val_loss"
         },
         {
          "epoch": 177,
          "loss": 15.081465485655231,
          "split": "val_loss"
         },
         {
          "epoch": 178,
          "loss": 14.897295068811488,
          "split": "val_loss"
         },
         {
          "epoch": 179,
          "loss": 14.983949343363443,
          "split": "val_loss"
         },
         {
          "epoch": 180,
          "loss": 14.94816909601659,
          "split": "val_loss"
         },
         {
          "epoch": 181,
          "loss": 14.891095549971968,
          "split": "val_loss"
         },
         {
          "epoch": 182,
          "loss": 14.864326853811004,
          "split": "val_loss"
         },
         {
          "epoch": 183,
          "loss": 14.821825639701183,
          "split": "val_loss"
         },
         {
          "epoch": 184,
          "loss": 14.847120685341917,
          "split": "val_loss"
         },
         {
          "epoch": 185,
          "loss": 14.949762874179417,
          "split": "val_loss"
         },
         {
          "epoch": 186,
          "loss": 14.923547132515614,
          "split": "val_loss"
         },
         {
          "epoch": 187,
          "loss": 15.03348097389127,
          "split": "val_loss"
         },
         {
          "epoch": 188,
          "loss": 15.019655839896496,
          "split": "val_loss"
         },
         {
          "epoch": 189,
          "loss": 15.047415909943757,
          "split": "val_loss"
         },
         {
          "epoch": 190,
          "loss": 15.1450922695207,
          "split": "val_loss"
         },
         {
          "epoch": 191,
          "loss": 14.952382817680453,
          "split": "val_loss"
         },
         {
          "epoch": 192,
          "loss": 14.979070686999663,
          "split": "val_loss"
         },
         {
          "epoch": 193,
          "loss": 15.031147615409191,
          "split": "val_loss"
         },
         {
          "epoch": 194,
          "loss": 15.08948415591393,
          "split": "val_loss"
         },
         {
          "epoch": 195,
          "loss": 15.012887648594232,
          "split": "val_loss"
         },
         {
          "epoch": 196,
          "loss": 15.16259750319116,
          "split": "val_loss"
         },
         {
          "epoch": 197,
          "loss": 15.198107330887407,
          "split": "val_loss"
         },
         {
          "epoch": 198,
          "loss": 15.046104513568643,
          "split": "val_loss"
         },
         {
          "epoch": 199,
          "loss": 14.951124568044403,
          "split": "val_loss"
         },
         {
          "epoch": 200,
          "loss": 14.848773391158492,
          "split": "val_loss"
         },
         {
          "epoch": 201,
          "loss": 14.933138482364608,
          "split": "val_loss"
         },
         {
          "epoch": 202,
          "loss": 14.824450822524083,
          "split": "val_loss"
         },
         {
          "epoch": 203,
          "loss": 14.791435288794247,
          "split": "val_loss"
         },
         {
          "epoch": 204,
          "loss": 14.77714134734354,
          "split": "val_loss"
         },
         {
          "epoch": 205,
          "loss": 14.796266273215965,
          "split": "val_loss"
         },
         {
          "epoch": 206,
          "loss": 14.928826661757482,
          "split": "val_loss"
         },
         {
          "epoch": 207,
          "loss": 14.945024725831585,
          "split": "val_loss"
         },
         {
          "epoch": 208,
          "loss": 14.84811380174425,
          "split": "val_loss"
         },
         {
          "epoch": 209,
          "loss": 14.843272079656154,
          "split": "val_loss"
         },
         {
          "epoch": 210,
          "loss": 14.793535479792842,
          "split": "val_loss"
         },
         {
          "epoch": 211,
          "loss": 14.798752666991433,
          "split": "val_loss"
         },
         {
          "epoch": 212,
          "loss": 14.75730773549021,
          "split": "val_loss"
         },
         {
          "epoch": 213,
          "loss": 14.779682512636539,
          "split": "val_loss"
         },
         {
          "epoch": 214,
          "loss": 14.838900495458532,
          "split": "val_loss"
         },
         {
          "epoch": 215,
          "loss": 15.011269569396973,
          "split": "val_loss"
         },
         {
          "epoch": 216,
          "loss": 15.06603123229227,
          "split": "val_loss"
         },
         {
          "epoch": 217,
          "loss": 15.106379249949514,
          "split": "val_loss"
         },
         {
          "epoch": 218,
          "loss": 15.02307359671887,
          "split": "val_loss"
         },
         {
          "epoch": 219,
          "loss": 14.887031025356716,
          "split": "val_loss"
         },
         {
          "epoch": 220,
          "loss": 14.779527593542028,
          "split": "val_loss"
         },
         {
          "epoch": 221,
          "loss": 14.830885946014781,
          "split": "val_loss"
         },
         {
          "epoch": 222,
          "loss": 14.84538769427641,
          "split": "val_loss"
         },
         {
          "epoch": 223,
          "loss": 14.827835212519139,
          "split": "val_loss"
         },
         {
          "epoch": 224,
          "loss": 14.861871354373886,
          "split": "val_loss"
         },
         {
          "epoch": 225,
          "loss": 14.869828954155063,
          "split": "val_loss"
         },
         {
          "epoch": 226,
          "loss": 14.985742992824978,
          "split": "val_loss"
         },
         {
          "epoch": 227,
          "loss": 14.943565768960081,
          "split": "val_loss"
         },
         {
          "epoch": 228,
          "loss": 14.857906647670417,
          "split": "val_loss"
         },
         {
          "epoch": 229,
          "loss": 14.889949092158565,
          "split": "val_loss"
         },
         {
          "epoch": 230,
          "loss": 14.91220376520981,
          "split": "val_loss"
         },
         {
          "epoch": 231,
          "loss": 14.972067067652572,
          "split": "val_loss"
         },
         {
          "epoch": 232,
          "loss": 15.040920693197368,
          "split": "val_loss"
         },
         {
          "epoch": 233,
          "loss": 15.356512670163754,
          "split": "val_loss"
         },
         {
          "epoch": 234,
          "loss": 15.344359739327137,
          "split": "val_loss"
         },
         {
          "epoch": 235,
          "loss": 15.33227163479652,
          "split": "val_loss"
         },
         {
          "epoch": 236,
          "loss": 15.34899580920184,
          "split": "val_loss"
         },
         {
          "epoch": 237,
          "loss": 15.21664552335386,
          "split": "val_loss"
         },
         {
          "epoch": 238,
          "loss": 15.243109338077499,
          "split": "val_loss"
         },
         {
          "epoch": 239,
          "loss": 15.165140434547707,
          "split": "val_loss"
         },
         {
          "epoch": 240,
          "loss": 15.091570053571536,
          "split": "val_loss"
         },
         {
          "epoch": 241,
          "loss": 14.993465188108845,
          "split": "val_loss"
         },
         {
          "epoch": 242,
          "loss": 14.961198053242247,
          "split": "val_loss"
         },
         {
          "epoch": 243,
          "loss": 15.13222152804151,
          "split": "val_loss"
         },
         {
          "epoch": 244,
          "loss": 14.98566108279758,
          "split": "val_loss"
         },
         {
          "epoch": 245,
          "loss": 15.037896485976232,
          "split": "val_loss"
         },
         {
          "epoch": 246,
          "loss": 14.977394574954186,
          "split": "val_loss"
         },
         {
          "epoch": 247,
          "loss": 14.993276572521822,
          "split": "val_loss"
         },
         {
          "epoch": 248,
          "loss": 15.056593871410982,
          "split": "val_loss"
         },
         {
          "epoch": 249,
          "loss": 14.997386473196524,
          "split": "val_loss"
         },
         {
          "epoch": 250,
          "loss": 15.001018359337325,
          "split": "val_loss"
         },
         {
          "epoch": 251,
          "loss": 15.032014034412525,
          "split": "val_loss"
         },
         {
          "epoch": 252,
          "loss": 14.979452639450262,
          "split": "val_loss"
         },
         {
          "epoch": 253,
          "loss": 15.045588622858494,
          "split": "val_loss"
         },
         {
          "epoch": 254,
          "loss": 15.089569963054892,
          "split": "val_loss"
         },
         {
          "epoch": 255,
          "loss": 14.93670501238034,
          "split": "val_loss"
         },
         {
          "epoch": 256,
          "loss": 14.992418854324907,
          "split": "val_loss"
         },
         {
          "epoch": 257,
          "loss": 14.87436205075111,
          "split": "val_loss"
         },
         {
          "epoch": 258,
          "loss": 14.920920784090772,
          "split": "val_loss"
         },
         {
          "epoch": 259,
          "loss": 14.919524687307852,
          "split": "val_loss"
         },
         {
          "epoch": 260,
          "loss": 14.932451318811488,
          "split": "val_loss"
         },
         {
          "epoch": 261,
          "loss": 15.010111526206687,
          "split": "val_loss"
         },
         {
          "epoch": 262,
          "loss": 15.023553742302788,
          "split": "val_loss"
         },
         {
          "epoch": 263,
          "loss": 15.060632211190683,
          "split": "val_loss"
         },
         {
          "epoch": 264,
          "loss": 15.117180435745805,
          "split": "val_loss"
         },
         {
          "epoch": 265,
          "loss": 15.191396513102967,
          "split": "val_loss"
         },
         {
          "epoch": 266,
          "loss": 15.246785575960889,
          "split": "val_loss"
         },
         {
          "epoch": 267,
          "loss": 15.216387030519085,
          "split": "val_loss"
         },
         {
          "epoch": 268,
          "loss": 15.25365862434293,
          "split": "val_loss"
         },
         {
          "epoch": 269,
          "loss": 15.136022709034107,
          "split": "val_loss"
         },
         {
          "epoch": 270,
          "loss": 15.13552788157522,
          "split": "val_loss"
         },
         {
          "epoch": 271,
          "loss": 15.34584277353169,
          "split": "val_loss"
         },
         {
          "epoch": 272,
          "loss": 15.408425649007162,
          "split": "val_loss"
         },
         {
          "epoch": 273,
          "loss": 15.438928568804705,
          "split": "val_loss"
         },
         {
          "epoch": 274,
          "loss": 15.38318724691132,
          "split": "val_loss"
         },
         {
          "epoch": 275,
          "loss": 15.240665942062567,
          "split": "val_loss"
         },
         {
          "epoch": 276,
          "loss": 15.216458520771544,
          "split": "val_loss"
         },
         {
          "epoch": 277,
          "loss": 15.187854766845703,
          "split": "val_loss"
         },
         {
          "epoch": 278,
          "loss": 15.155408812157901,
          "split": "val_loss"
         },
         {
          "epoch": 279,
          "loss": 15.877109080185125,
          "split": "val_loss"
         },
         {
          "epoch": 280,
          "loss": 15.671174296626338,
          "split": "val_loss"
         },
         {
          "epoch": 281,
          "loss": 15.554844597239553,
          "split": "val_loss"
         },
         {
          "epoch": 282,
          "loss": 15.478764216105143,
          "split": "val_loss"
         },
         {
          "epoch": 283,
          "loss": 15.414956834581163,
          "split": "val_loss"
         },
         {
          "epoch": 284,
          "loss": 15.357048599808305,
          "split": "val_loss"
         },
         {
          "epoch": 285,
          "loss": 15.301080633092809,
          "split": "val_loss"
         },
         {
          "epoch": 286,
          "loss": 15.307080586751303,
          "split": "val_loss"
         },
         {
          "epoch": 287,
          "loss": 15.278779453701443,
          "split": "val_loss"
         },
         {
          "epoch": 288,
          "loss": 15.2871475101989,
          "split": "val_loss"
         },
         {
          "epoch": 289,
          "loss": 15.305717397619176,
          "split": "val_loss"
         },
         {
          "epoch": 290,
          "loss": 15.315545411757482,
          "split": "val_loss"
         },
         {
          "epoch": 291,
          "loss": 15.287812821659042,
          "split": "val_loss"
         },
         {
          "epoch": 292,
          "loss": 15.233301928013931,
          "split": "val_loss"
         },
         {
          "epoch": 293,
          "loss": 15.1659864967252,
          "split": "val_loss"
         },
         {
          "epoch": 294,
          "loss": 15.245372536741657,
          "split": "val_loss"
         },
         {
          "epoch": 295,
          "loss": 15.250219651210456,
          "split": "val_loss"
         },
         {
          "epoch": 296,
          "loss": 15.264045091322911,
          "split": "val_loss"
         },
         {
          "epoch": 297,
          "loss": 15.2904152929047,
          "split": "val_loss"
         },
         {
          "epoch": 298,
          "loss": 15.293436050415039,
          "split": "val_loss"
         },
         {
          "epoch": 299,
          "loss": 15.291771194081248,
          "split": "val_loss"
         },
         {
          "epoch": 300,
          "loss": 15.297938582337933,
          "split": "val_loss"
         },
         {
          "epoch": 301,
          "loss": 15.227390548329295,
          "split": "val_loss"
         },
         {
          "epoch": 302,
          "loss": 15.248781310187447,
          "split": "val_loss"
         },
         {
          "epoch": 303,
          "loss": 15.261968082851833,
          "split": "val_loss"
         },
         {
          "epoch": 304,
          "loss": 15.43728424590311,
          "split": "val_loss"
         },
         {
          "epoch": 305,
          "loss": 15.387913232968177,
          "split": "val_loss"
         },
         {
          "epoch": 306,
          "loss": 15.349169978389034,
          "split": "val_loss"
         },
         {
          "epoch": 307,
          "loss": 15.312631124331627,
          "split": "val_loss"
         },
         {
          "epoch": 308,
          "loss": 15.320934801925848,
          "split": "val_loss"
         },
         {
          "epoch": 309,
          "loss": 15.270959312533154,
          "split": "val_loss"
         },
         {
          "epoch": 310,
          "loss": 15.193845701806339,
          "split": "val_loss"
         },
         {
          "epoch": 311,
          "loss": 15.11052049236533,
          "split": "val_loss"
         },
         {
          "epoch": 312,
          "loss": 15.16698228577037,
          "split": "val_loss"
         },
         {
          "epoch": 313,
          "loss": 15.034662788296924,
          "split": "val_loss"
         },
         {
          "epoch": 314,
          "loss": 15.177879521876205,
          "split": "val_loss"
         },
         {
          "epoch": 315,
          "loss": 15.129774658768266,
          "split": "val_loss"
         },
         {
          "epoch": 316,
          "loss": 15.183741145663792,
          "split": "val_loss"
         },
         {
          "epoch": 317,
          "loss": 15.196837154435523,
          "split": "val_loss"
         },
         {
          "epoch": 318,
          "loss": 15.251680633168162,
          "split": "val_loss"
         },
         {
          "epoch": 319,
          "loss": 15.229823077166522,
          "split": "val_loss"
         },
         {
          "epoch": 320,
          "loss": 15.2334566116333,
          "split": "val_loss"
         },
         {
          "epoch": 321,
          "loss": 15.33417268446934,
          "split": "val_loss"
         },
         {
          "epoch": 322,
          "loss": 15.483617193904923,
          "split": "val_loss"
         },
         {
          "epoch": 323,
          "loss": 15.42606739938995,
          "split": "val_loss"
         },
         {
          "epoch": 324,
          "loss": 15.436068346470963,
          "split": "val_loss"
         },
         {
          "epoch": 325,
          "loss": 15.46519214724317,
          "split": "val_loss"
         },
         {
          "epoch": 326,
          "loss": 15.392870043530877,
          "split": "val_loss"
         },
         {
          "epoch": 327,
          "loss": 15.415815600642452,
          "split": "val_loss"
         },
         {
          "epoch": 328,
          "loss": 15.442531962453582,
          "split": "val_loss"
         },
         {
          "epoch": 329,
          "loss": 15.4561924993256,
          "split": "val_loss"
         },
         {
          "epoch": 330,
          "loss": 15.430186754391517,
          "split": "val_loss"
         },
         {
          "epoch": 331,
          "loss": 15.454787795926318,
          "split": "val_loss"
         },
         {
          "epoch": 332,
          "loss": 15.337141343104987,
          "split": "val_loss"
         },
         {
          "epoch": 333,
          "loss": 15.275232103135851,
          "split": "val_loss"
         },
         {
          "epoch": 334,
          "loss": 15.337833004233278,
          "split": "val_loss"
         },
         {
          "epoch": 335,
          "loss": 16.022299378006547,
          "split": "val_loss"
         },
         {
          "epoch": 336,
          "loss": 16.0555768425082,
          "split": "val_loss"
         },
         {
          "epoch": 337,
          "loss": 15.921026630166136,
          "split": "val_loss"
         },
         {
          "epoch": 338,
          "loss": 15.785724416191195,
          "split": "val_loss"
         },
         {
          "epoch": 339,
          "loss": 15.729996728308407,
          "split": "val_loss"
         },
         {
          "epoch": 340,
          "loss": 15.762189676732193,
          "split": "val_loss"
         },
         {
          "epoch": 341,
          "loss": 15.682168501394766,
          "split": "val_loss"
         },
         {
          "epoch": 342,
          "loss": 15.7095464894801,
          "split": "val_loss"
         },
         {
          "epoch": 343,
          "loss": 15.692226539423435,
          "split": "val_loss"
         },
         {
          "epoch": 344,
          "loss": 15.640047591409566,
          "split": "val_loss"
         },
         {
          "epoch": 345,
          "loss": 15.550663618393886,
          "split": "val_loss"
         },
         {
          "epoch": 346,
          "loss": 15.40986924112579,
          "split": "val_loss"
         },
         {
          "epoch": 347,
          "loss": 15.38436100806719,
          "split": "val_loss"
         },
         {
          "epoch": 348,
          "loss": 15.365942154401614,
          "split": "val_loss"
         },
         {
          "epoch": 349,
          "loss": 15.315301247584967,
          "split": "val_loss"
         },
         {
          "epoch": 350,
          "loss": 15.388910046330205,
          "split": "val_loss"
         },
         {
          "epoch": 351,
          "loss": 15.387130077974296,
          "split": "val_loss"
         },
         {
          "epoch": 352,
          "loss": 15.482975359316226,
          "split": "val_loss"
         },
         {
          "epoch": 353,
          "loss": 15.33551287945406,
          "split": "val_loss"
         },
         {
          "epoch": 354,
          "loss": 15.383816471806279,
          "split": "val_loss"
         },
         {
          "epoch": 355,
          "loss": 15.378147866990831,
          "split": "val_loss"
         },
         {
          "epoch": 356,
          "loss": 15.396705038753556,
          "split": "val_loss"
         },
         {
          "epoch": 357,
          "loss": 15.414879139558769,
          "split": "val_loss"
         },
         {
          "epoch": 358,
          "loss": 15.371563134370026,
          "split": "val_loss"
         },
         {
          "epoch": 359,
          "loss": 15.397376637399933,
          "split": "val_loss"
         },
         {
          "epoch": 360,
          "loss": 15.336429925612462,
          "split": "val_loss"
         },
         {
          "epoch": 361,
          "loss": 15.304925294569982,
          "split": "val_loss"
         },
         {
          "epoch": 362,
          "loss": 15.337566528791262,
          "split": "val_loss"
         },
         {
          "epoch": 363,
          "loss": 15.489662382337782,
          "split": "val_loss"
         },
         {
          "epoch": 364,
          "loss": 15.39050148151539,
          "split": "val_loss"
         },
         {
          "epoch": 365,
          "loss": 15.386351703125754,
          "split": "val_loss"
         },
         {
          "epoch": 366,
          "loss": 15.361439751990048,
          "split": "val_loss"
         },
         {
          "epoch": 367,
          "loss": 15.380218152646664,
          "split": "val_loss"
         },
         {
          "epoch": 368,
          "loss": 15.442968333209002,
          "split": "val_loss"
         },
         {
          "epoch": 369,
          "loss": 15.686259622927066,
          "split": "val_loss"
         },
         {
          "epoch": 370,
          "loss": 15.58089264528251,
          "split": "val_loss"
         },
         {
          "epoch": 371,
          "loss": 15.471100830737456,
          "split": "val_loss"
         },
         {
          "epoch": 372,
          "loss": 15.445080474570945,
          "split": "val_loss"
         },
         {
          "epoch": 373,
          "loss": 15.409685276172779,
          "split": "val_loss"
         },
         {
          "epoch": 374,
          "loss": 15.441186174934293,
          "split": "val_loss"
         },
         {
          "epoch": 375,
          "loss": 15.39797427330488,
          "split": "val_loss"
         },
         {
          "epoch": 376,
          "loss": 15.41384255444562,
          "split": "val_loss"
         },
         {
          "epoch": 377,
          "loss": 15.314427823196223,
          "split": "val_loss"
         },
         {
          "epoch": 378,
          "loss": 15.366500560148262,
          "split": "val_loss"
         },
         {
          "epoch": 379,
          "loss": 15.324192353236823,
          "split": "val_loss"
         },
         {
          "epoch": 380,
          "loss": 15.27089449800091,
          "split": "val_loss"
         },
         {
          "epoch": 381,
          "loss": 15.294007901792172,
          "split": "val_loss"
         },
         {
          "epoch": 382,
          "loss": 15.320662522021635,
          "split": "val_loss"
         },
         {
          "epoch": 383,
          "loss": 15.343953356330777,
          "split": "val_loss"
         },
         {
          "epoch": 384,
          "loss": 15.419392044161572,
          "split": "val_loss"
         },
         {
          "epoch": 385,
          "loss": 15.44520475834976,
          "split": "val_loss"
         },
         {
          "epoch": 386,
          "loss": 15.33821396768829,
          "split": "val_loss"
         },
         {
          "epoch": 387,
          "loss": 15.152389844258627,
          "split": "val_loss"
         },
         {
          "epoch": 388,
          "loss": 15.30606648951401,
          "split": "val_loss"
         },
         {
          "epoch": 389,
          "loss": 15.258220201657142,
          "split": "val_loss"
         },
         {
          "epoch": 390,
          "loss": 15.172901259528267,
          "split": "val_loss"
         },
         {
          "epoch": 391,
          "loss": 15.23003175523546,
          "split": "val_loss"
         },
         {
          "epoch": 392,
          "loss": 15.262487694069192,
          "split": "val_loss"
         },
         {
          "epoch": 393,
          "loss": 15.271459732526614,
          "split": "val_loss"
         },
         {
          "epoch": 394,
          "loss": 15.248521086610394,
          "split": "val_loss"
         },
         {
          "epoch": 395,
          "loss": 15.22457930482464,
          "split": "val_loss"
         },
         {
          "epoch": 396,
          "loss": 15.09507221645779,
          "split": "val_loss"
         },
         {
          "epoch": 397,
          "loss": 15.150609440273708,
          "split": "val_loss"
         },
         {
          "epoch": 398,
          "loss": 15.256440056694878,
          "split": "val_loss"
         },
         {
          "epoch": 399,
          "loss": 15.30623858651997,
          "split": "val_loss"
         },
         {
          "epoch": 400,
          "loss": 15.35993167500437,
          "split": "val_loss"
         },
         {
          "epoch": 401,
          "loss": 15.288337472044391,
          "split": "val_loss"
         },
         {
          "epoch": 402,
          "loss": 15.298038788783698,
          "split": "val_loss"
         },
         {
          "epoch": 403,
          "loss": 15.29256350905807,
          "split": "val_loss"
         },
         {
          "epoch": 404,
          "loss": 15.309524324205187,
          "split": "val_loss"
         },
         {
          "epoch": 405,
          "loss": 15.363817850748697,
          "split": "val_loss"
         },
         {
          "epoch": 406,
          "loss": 15.324997148396056,
          "split": "val_loss"
         },
         {
          "epoch": 407,
          "loss": 15.44647960898317,
          "split": "val_loss"
         },
         {
          "epoch": 408,
          "loss": 15.547477416050286,
          "split": "val_loss"
         },
         {
          "epoch": 409,
          "loss": 15.641215289080584,
          "split": "val_loss"
         },
         {
          "epoch": 410,
          "loss": 15.607597833798255,
          "split": "val_loss"
         },
         {
          "epoch": 411,
          "loss": 15.479127024426873,
          "split": "val_loss"
         },
         {
          "epoch": 412,
          "loss": 15.44228587915868,
          "split": "val_loss"
         },
         {
          "epoch": 413,
          "loss": 15.392366421075515,
          "split": "val_loss"
         },
         {
          "epoch": 414,
          "loss": 15.587583541870117,
          "split": "val_loss"
         },
         {
          "epoch": 415,
          "loss": 15.553835127088758,
          "split": "val_loss"
         },
         {
          "epoch": 416,
          "loss": 15.617643650667167,
          "split": "val_loss"
         },
         {
          "epoch": 417,
          "loss": 15.419794341664256,
          "split": "val_loss"
         },
         {
          "epoch": 418,
          "loss": 15.433322918267898,
          "split": "val_loss"
         },
         {
          "epoch": 419,
          "loss": 15.40900304582384,
          "split": "val_loss"
         },
         {
          "epoch": 420,
          "loss": 15.524959575982741,
          "split": "val_loss"
         },
         {
          "epoch": 421,
          "loss": 15.612252011711215,
          "split": "val_loss"
         },
         {
          "epoch": 422,
          "loss": 15.499011958086932,
          "split": "val_loss"
         },
         {
          "epoch": 423,
          "loss": 15.526156272417234,
          "split": "val_loss"
         },
         {
          "epoch": 424,
          "loss": 15.555827494020816,
          "split": "val_loss"
         },
         {
          "epoch": 425,
          "loss": 15.663026397610889,
          "split": "val_loss"
         },
         {
          "epoch": 426,
          "loss": 15.649892642174239,
          "split": "val_loss"
         },
         {
          "epoch": 427,
          "loss": 15.643329490850002,
          "split": "val_loss"
         },
         {
          "epoch": 428,
          "loss": 15.553908183250899,
          "split": "val_loss"
         },
         {
          "epoch": 429,
          "loss": 15.48233708040214,
          "split": "val_loss"
         },
         {
          "epoch": 430,
          "loss": 15.433765317186896,
          "split": "val_loss"
         },
         {
          "epoch": 431,
          "loss": 15.44755983941349,
          "split": "val_loss"
         },
         {
          "epoch": 432,
          "loss": 15.44479485500006,
          "split": "val_loss"
         },
         {
          "epoch": 433,
          "loss": 15.41343480569345,
          "split": "val_loss"
         },
         {
          "epoch": 434,
          "loss": 15.339569880638594,
          "split": "val_loss"
         },
         {
          "epoch": 435,
          "loss": 15.254178800700624,
          "split": "val_loss"
         },
         {
          "epoch": 436,
          "loss": 15.286282339213807,
          "split": "val_loss"
         },
         {
          "epoch": 437,
          "loss": 16.05266961933654,
          "split": "val_loss"
         },
         {
          "epoch": 438,
          "loss": 15.8623449302014,
          "split": "val_loss"
         },
         {
          "epoch": 439,
          "loss": 15.666344348295235,
          "split": "val_loss"
         },
         {
          "epoch": 440,
          "loss": 15.62278778170362,
          "split": "val_loss"
         },
         {
          "epoch": 441,
          "loss": 15.579572112471968,
          "split": "val_loss"
         },
         {
          "epoch": 442,
          "loss": 15.566942003038195,
          "split": "val_loss"
         },
         {
          "epoch": 443,
          "loss": 15.55152549272702,
          "split": "val_loss"
         },
         {
          "epoch": 444,
          "loss": 16.22470208156256,
          "split": "val_loss"
         },
         {
          "epoch": 445,
          "loss": 15.991813753858025,
          "split": "val_loss"
         },
         {
          "epoch": 446,
          "loss": 15.864531458160023,
          "split": "val_loss"
         },
         {
          "epoch": 447,
          "loss": 15.73761021649396,
          "split": "val_loss"
         },
         {
          "epoch": 448,
          "loss": 15.623540972485955,
          "split": "val_loss"
         },
         {
          "epoch": 449,
          "loss": 15.636805922896773,
          "split": "val_loss"
         },
         {
          "epoch": 450,
          "loss": 15.623528515851056,
          "split": "val_loss"
         },
         {
          "epoch": 451,
          "loss": 15.553566920904466,
          "split": "val_loss"
         },
         {
          "epoch": 452,
          "loss": 15.556517353764287,
          "split": "val_loss"
         },
         {
          "epoch": 453,
          "loss": 15.49900033738878,
          "split": "val_loss"
         },
         {
          "epoch": 454,
          "loss": 15.467217998740114,
          "split": "val_loss"
         },
         {
          "epoch": 455,
          "loss": 15.44270278789379,
          "split": "val_loss"
         },
         {
          "epoch": 456,
          "loss": 15.463730140968606,
          "split": "val_loss"
         },
         {
          "epoch": 457,
          "loss": 15.275980195881408,
          "split": "val_loss"
         },
         {
          "epoch": 458,
          "loss": 15.210845476315345,
          "split": "val_loss"
         },
         {
          "epoch": 459,
          "loss": 15.11805918187271,
          "split": "val_loss"
         },
         {
          "epoch": 460,
          "loss": 15.14690923102108,
          "split": "val_loss"
         },
         {
          "epoch": 461,
          "loss": 15.381404370437433,
          "split": "val_loss"
         },
         {
          "epoch": 462,
          "loss": 15.366246282318492,
          "split": "val_loss"
         },
         {
          "epoch": 463,
          "loss": 15.325139292964229,
          "split": "val_loss"
         },
         {
          "epoch": 464,
          "loss": 15.912571212391795,
          "split": "val_loss"
         },
         {
          "epoch": 465,
          "loss": 15.824461148108965,
          "split": "val_loss"
         },
         {
          "epoch": 466,
          "loss": 15.835355122884115,
          "split": "val_loss"
         },
         {
          "epoch": 467,
          "loss": 15.74721324590989,
          "split": "val_loss"
         },
         {
          "epoch": 468,
          "loss": 15.612304675726243,
          "split": "val_loss"
         },
         {
          "epoch": 469,
          "loss": 15.535154060081199,
          "split": "val_loss"
         },
         {
          "epoch": 470,
          "loss": 15.396442766542789,
          "split": "val_loss"
         },
         {
          "epoch": 471,
          "loss": 15.424813317663876,
          "split": "val_loss"
         },
         {
          "epoch": 472,
          "loss": 15.459544429072627,
          "split": "val_loss"
         },
         {
          "epoch": 473,
          "loss": 15.472845289442274,
          "split": "val_loss"
         },
         {
          "epoch": 474,
          "loss": 15.482544274977696,
          "split": "val_loss"
         },
         {
          "epoch": 475,
          "loss": 15.476190213803891,
          "split": "val_loss"
         },
         {
          "epoch": 476,
          "loss": 15.504972528528285,
          "split": "val_loss"
         },
         {
          "epoch": 477,
          "loss": 15.54783507924021,
          "split": "val_loss"
         },
         {
          "epoch": 478,
          "loss": 15.613479555389027,
          "split": "val_loss"
         },
         {
          "epoch": 479,
          "loss": 15.364707110840598,
          "split": "val_loss"
         },
         {
          "epoch": 480,
          "loss": 15.338477582107355,
          "split": "val_loss"
         },
         {
          "epoch": 481,
          "loss": 15.247491071253647,
          "split": "val_loss"
         },
         {
          "epoch": 482,
          "loss": 15.706550292026849,
          "split": "val_loss"
         },
         {
          "epoch": 483,
          "loss": 15.647328035331066,
          "split": "val_loss"
         },
         {
          "epoch": 484,
          "loss": 15.222602385061759,
          "split": "val_loss"
         },
         {
          "epoch": 485,
          "loss": 15.27505714510694,
          "split": "val_loss"
         },
         {
          "epoch": 486,
          "loss": 15.623057424286266,
          "split": "val_loss"
         },
         {
          "epoch": 487,
          "loss": 15.510107181690357,
          "split": "val_loss"
         },
         {
          "epoch": 488,
          "loss": 15.474012551484284,
          "split": "val_loss"
         },
         {
          "epoch": 489,
          "loss": 15.490265669646087,
          "split": "val_loss"
         },
         {
          "epoch": 490,
          "loss": 15.435526647685487,
          "split": "val_loss"
         },
         {
          "epoch": 491,
          "loss": 15.39423269107018,
          "split": "val_loss"
         },
         {
          "epoch": 492,
          "loss": 15.355322178499199,
          "split": "val_loss"
         },
         {
          "epoch": 493,
          "loss": 15.365713590457116,
          "split": "val_loss"
         },
         {
          "epoch": 494,
          "loss": 15.432683485525626,
          "split": "val_loss"
         },
         {
          "epoch": 495,
          "loss": 16.044046331334997,
          "split": "val_loss"
         },
         {
          "epoch": 496,
          "loss": 15.95119101912887,
          "split": "val_loss"
         },
         {
          "epoch": 497,
          "loss": 15.901225360823267,
          "split": "val_loss"
         },
         {
          "epoch": 498,
          "loss": 15.973449518651138,
          "split": "val_loss"
         },
         {
          "epoch": 499,
          "loss": 15.875375653490607,
          "split": "val_loss"
         },
         {
          "epoch": 0,
          "loss": 23.16506004333496,
          "split": "val_mae"
         },
         {
          "epoch": 1,
          "loss": 22.699588775634766,
          "split": "val_mae"
         },
         {
          "epoch": 2,
          "loss": 22.173114776611328,
          "split": "val_mae"
         },
         {
          "epoch": 3,
          "loss": 21.581890106201172,
          "split": "val_mae"
         },
         {
          "epoch": 4,
          "loss": 20.869871139526367,
          "split": "val_mae"
         },
         {
          "epoch": 5,
          "loss": 20.059860229492188,
          "split": "val_mae"
         },
         {
          "epoch": 6,
          "loss": 19.043245315551758,
          "split": "val_mae"
         },
         {
          "epoch": 7,
          "loss": 17.783533096313477,
          "split": "val_mae"
         },
         {
          "epoch": 8,
          "loss": 16.346757888793945,
          "split": "val_mae"
         },
         {
          "epoch": 9,
          "loss": 14.682629585266113,
          "split": "val_mae"
         },
         {
          "epoch": 10,
          "loss": 12.93813705444336,
          "split": "val_mae"
         },
         {
          "epoch": 11,
          "loss": 11.293045997619629,
          "split": "val_mae"
         },
         {
          "epoch": 12,
          "loss": 9.926816940307617,
          "split": "val_mae"
         },
         {
          "epoch": 13,
          "loss": 8.837662696838379,
          "split": "val_mae"
         },
         {
          "epoch": 14,
          "loss": 8.08948802947998,
          "split": "val_mae"
         },
         {
          "epoch": 15,
          "loss": 7.51338005065918,
          "split": "val_mae"
         },
         {
          "epoch": 16,
          "loss": 7.0381975173950195,
          "split": "val_mae"
         },
         {
          "epoch": 17,
          "loss": 6.622274398803711,
          "split": "val_mae"
         },
         {
          "epoch": 18,
          "loss": 6.275025844573975,
          "split": "val_mae"
         },
         {
          "epoch": 19,
          "loss": 5.970958709716797,
          "split": "val_mae"
         },
         {
          "epoch": 20,
          "loss": 5.704870223999023,
          "split": "val_mae"
         },
         {
          "epoch": 21,
          "loss": 5.464443683624268,
          "split": "val_mae"
         },
         {
          "epoch": 22,
          "loss": 5.264618396759033,
          "split": "val_mae"
         },
         {
          "epoch": 23,
          "loss": 5.06804084777832,
          "split": "val_mae"
         },
         {
          "epoch": 24,
          "loss": 4.888014793395996,
          "split": "val_mae"
         },
         {
          "epoch": 25,
          "loss": 4.710562229156494,
          "split": "val_mae"
         },
         {
          "epoch": 26,
          "loss": 4.552511215209961,
          "split": "val_mae"
         },
         {
          "epoch": 27,
          "loss": 4.4239821434021,
          "split": "val_mae"
         },
         {
          "epoch": 28,
          "loss": 4.306336879730225,
          "split": "val_mae"
         },
         {
          "epoch": 29,
          "loss": 4.192584991455078,
          "split": "val_mae"
         },
         {
          "epoch": 30,
          "loss": 4.100898742675781,
          "split": "val_mae"
         },
         {
          "epoch": 31,
          "loss": 4.037532806396484,
          "split": "val_mae"
         },
         {
          "epoch": 32,
          "loss": 3.983430862426758,
          "split": "val_mae"
         },
         {
          "epoch": 33,
          "loss": 3.944117307662964,
          "split": "val_mae"
         },
         {
          "epoch": 34,
          "loss": 3.8713808059692383,
          "split": "val_mae"
         },
         {
          "epoch": 35,
          "loss": 3.8097774982452393,
          "split": "val_mae"
         },
         {
          "epoch": 36,
          "loss": 3.7601799964904785,
          "split": "val_mae"
         },
         {
          "epoch": 37,
          "loss": 3.731428623199463,
          "split": "val_mae"
         },
         {
          "epoch": 38,
          "loss": 3.722611904144287,
          "split": "val_mae"
         },
         {
          "epoch": 39,
          "loss": 3.6874563694000244,
          "split": "val_mae"
         },
         {
          "epoch": 40,
          "loss": 3.640955686569214,
          "split": "val_mae"
         },
         {
          "epoch": 41,
          "loss": 3.608492612838745,
          "split": "val_mae"
         },
         {
          "epoch": 42,
          "loss": 3.5868704319000244,
          "split": "val_mae"
         },
         {
          "epoch": 43,
          "loss": 3.572662830352783,
          "split": "val_mae"
         },
         {
          "epoch": 44,
          "loss": 3.543602466583252,
          "split": "val_mae"
         },
         {
          "epoch": 45,
          "loss": 3.510889768600464,
          "split": "val_mae"
         },
         {
          "epoch": 46,
          "loss": 3.4870223999023438,
          "split": "val_mae"
         },
         {
          "epoch": 47,
          "loss": 3.432917356491089,
          "split": "val_mae"
         },
         {
          "epoch": 48,
          "loss": 3.4236457347869873,
          "split": "val_mae"
         },
         {
          "epoch": 49,
          "loss": 3.4288330078125,
          "split": "val_mae"
         },
         {
          "epoch": 50,
          "loss": 3.4141340255737305,
          "split": "val_mae"
         },
         {
          "epoch": 51,
          "loss": 3.3856687545776367,
          "split": "val_mae"
         },
         {
          "epoch": 52,
          "loss": 3.3529648780822754,
          "split": "val_mae"
         },
         {
          "epoch": 53,
          "loss": 3.3601958751678467,
          "split": "val_mae"
         },
         {
          "epoch": 54,
          "loss": 3.3521573543548584,
          "split": "val_mae"
         },
         {
          "epoch": 55,
          "loss": 3.3585245609283447,
          "split": "val_mae"
         },
         {
          "epoch": 56,
          "loss": 3.3480982780456543,
          "split": "val_mae"
         },
         {
          "epoch": 57,
          "loss": 3.3256959915161133,
          "split": "val_mae"
         },
         {
          "epoch": 58,
          "loss": 3.3220410346984863,
          "split": "val_mae"
         },
         {
          "epoch": 59,
          "loss": 3.2956743240356445,
          "split": "val_mae"
         },
         {
          "epoch": 60,
          "loss": 3.288832664489746,
          "split": "val_mae"
         },
         {
          "epoch": 61,
          "loss": 3.2793519496917725,
          "split": "val_mae"
         },
         {
          "epoch": 62,
          "loss": 3.265477418899536,
          "split": "val_mae"
         },
         {
          "epoch": 63,
          "loss": 3.2732369899749756,
          "split": "val_mae"
         },
         {
          "epoch": 64,
          "loss": 3.2490222454071045,
          "split": "val_mae"
         },
         {
          "epoch": 65,
          "loss": 3.2130024433135986,
          "split": "val_mae"
         },
         {
          "epoch": 66,
          "loss": 3.2163169384002686,
          "split": "val_mae"
         },
         {
          "epoch": 67,
          "loss": 3.229555368423462,
          "split": "val_mae"
         },
         {
          "epoch": 68,
          "loss": 3.2654216289520264,
          "split": "val_mae"
         },
         {
          "epoch": 69,
          "loss": 3.2165703773498535,
          "split": "val_mae"
         },
         {
          "epoch": 70,
          "loss": 3.1920652389526367,
          "split": "val_mae"
         },
         {
          "epoch": 71,
          "loss": 3.2202532291412354,
          "split": "val_mae"
         },
         {
          "epoch": 72,
          "loss": 3.152933120727539,
          "split": "val_mae"
         },
         {
          "epoch": 73,
          "loss": 3.135751962661743,
          "split": "val_mae"
         },
         {
          "epoch": 74,
          "loss": 3.1660709381103516,
          "split": "val_mae"
         },
         {
          "epoch": 75,
          "loss": 3.159055709838867,
          "split": "val_mae"
         },
         {
          "epoch": 76,
          "loss": 3.176076650619507,
          "split": "val_mae"
         },
         {
          "epoch": 77,
          "loss": 3.1461312770843506,
          "split": "val_mae"
         },
         {
          "epoch": 78,
          "loss": 3.1894659996032715,
          "split": "val_mae"
         },
         {
          "epoch": 79,
          "loss": 3.1747100353240967,
          "split": "val_mae"
         },
         {
          "epoch": 80,
          "loss": 3.1604580879211426,
          "split": "val_mae"
         },
         {
          "epoch": 81,
          "loss": 3.1382460594177246,
          "split": "val_mae"
         },
         {
          "epoch": 82,
          "loss": 3.1373283863067627,
          "split": "val_mae"
         },
         {
          "epoch": 83,
          "loss": 3.1289801597595215,
          "split": "val_mae"
         },
         {
          "epoch": 84,
          "loss": 3.11765193939209,
          "split": "val_mae"
         },
         {
          "epoch": 85,
          "loss": 3.0685393810272217,
          "split": "val_mae"
         },
         {
          "epoch": 86,
          "loss": 3.0793302059173584,
          "split": "val_mae"
         },
         {
          "epoch": 87,
          "loss": 3.0745770931243896,
          "split": "val_mae"
         },
         {
          "epoch": 88,
          "loss": 3.0927836894989014,
          "split": "val_mae"
         },
         {
          "epoch": 89,
          "loss": 3.1101956367492676,
          "split": "val_mae"
         },
         {
          "epoch": 90,
          "loss": 3.09218168258667,
          "split": "val_mae"
         },
         {
          "epoch": 91,
          "loss": 3.0471653938293457,
          "split": "val_mae"
         },
         {
          "epoch": 92,
          "loss": 3.0542328357696533,
          "split": "val_mae"
         },
         {
          "epoch": 93,
          "loss": 3.0606703758239746,
          "split": "val_mae"
         },
         {
          "epoch": 94,
          "loss": 3.073528289794922,
          "split": "val_mae"
         },
         {
          "epoch": 95,
          "loss": 3.0711610317230225,
          "split": "val_mae"
         },
         {
          "epoch": 96,
          "loss": 3.074469566345215,
          "split": "val_mae"
         },
         {
          "epoch": 97,
          "loss": 3.062229871749878,
          "split": "val_mae"
         },
         {
          "epoch": 98,
          "loss": 3.051203489303589,
          "split": "val_mae"
         },
         {
          "epoch": 99,
          "loss": 3.055264711380005,
          "split": "val_mae"
         },
         {
          "epoch": 100,
          "loss": 3.0428361892700195,
          "split": "val_mae"
         },
         {
          "epoch": 101,
          "loss": 3.028146266937256,
          "split": "val_mae"
         },
         {
          "epoch": 102,
          "loss": 3.018655300140381,
          "split": "val_mae"
         },
         {
          "epoch": 103,
          "loss": 3.031528949737549,
          "split": "val_mae"
         },
         {
          "epoch": 104,
          "loss": 3.0271332263946533,
          "split": "val_mae"
         },
         {
          "epoch": 105,
          "loss": 3.021028518676758,
          "split": "val_mae"
         },
         {
          "epoch": 106,
          "loss": 3.017516613006592,
          "split": "val_mae"
         },
         {
          "epoch": 107,
          "loss": 3.01396107673645,
          "split": "val_mae"
         },
         {
          "epoch": 108,
          "loss": 3.0132334232330322,
          "split": "val_mae"
         },
         {
          "epoch": 109,
          "loss": 2.9979443550109863,
          "split": "val_mae"
         },
         {
          "epoch": 110,
          "loss": 2.949878215789795,
          "split": "val_mae"
         },
         {
          "epoch": 111,
          "loss": 3.0058417320251465,
          "split": "val_mae"
         },
         {
          "epoch": 112,
          "loss": 2.988867998123169,
          "split": "val_mae"
         },
         {
          "epoch": 113,
          "loss": 2.9821252822875977,
          "split": "val_mae"
         },
         {
          "epoch": 114,
          "loss": 2.9611542224884033,
          "split": "val_mae"
         },
         {
          "epoch": 115,
          "loss": 2.9825425148010254,
          "split": "val_mae"
         },
         {
          "epoch": 116,
          "loss": 2.961142063140869,
          "split": "val_mae"
         },
         {
          "epoch": 117,
          "loss": 2.9593329429626465,
          "split": "val_mae"
         },
         {
          "epoch": 118,
          "loss": 2.960324764251709,
          "split": "val_mae"
         },
         {
          "epoch": 119,
          "loss": 2.956549882888794,
          "split": "val_mae"
         },
         {
          "epoch": 120,
          "loss": 2.9587600231170654,
          "split": "val_mae"
         },
         {
          "epoch": 121,
          "loss": 2.930919885635376,
          "split": "val_mae"
         },
         {
          "epoch": 122,
          "loss": 2.9203178882598877,
          "split": "val_mae"
         },
         {
          "epoch": 123,
          "loss": 2.9304099082946777,
          "split": "val_mae"
         },
         {
          "epoch": 124,
          "loss": 2.939755916595459,
          "split": "val_mae"
         },
         {
          "epoch": 125,
          "loss": 2.9291012287139893,
          "split": "val_mae"
         },
         {
          "epoch": 126,
          "loss": 2.940622568130493,
          "split": "val_mae"
         },
         {
          "epoch": 127,
          "loss": 2.954850673675537,
          "split": "val_mae"
         },
         {
          "epoch": 128,
          "loss": 2.956106424331665,
          "split": "val_mae"
         },
         {
          "epoch": 129,
          "loss": 2.951315402984619,
          "split": "val_mae"
         },
         {
          "epoch": 130,
          "loss": 2.9245293140411377,
          "split": "val_mae"
         },
         {
          "epoch": 131,
          "loss": 2.9294052124023438,
          "split": "val_mae"
         },
         {
          "epoch": 132,
          "loss": 2.9431257247924805,
          "split": "val_mae"
         },
         {
          "epoch": 133,
          "loss": 2.93801212310791,
          "split": "val_mae"
         },
         {
          "epoch": 134,
          "loss": 2.93210506439209,
          "split": "val_mae"
         },
         {
          "epoch": 135,
          "loss": 2.9343223571777344,
          "split": "val_mae"
         },
         {
          "epoch": 136,
          "loss": 2.921820878982544,
          "split": "val_mae"
         },
         {
          "epoch": 137,
          "loss": 2.9186110496520996,
          "split": "val_mae"
         },
         {
          "epoch": 138,
          "loss": 2.9196574687957764,
          "split": "val_mae"
         },
         {
          "epoch": 139,
          "loss": 2.91558575630188,
          "split": "val_mae"
         },
         {
          "epoch": 140,
          "loss": 2.9191765785217285,
          "split": "val_mae"
         },
         {
          "epoch": 141,
          "loss": 2.8944528102874756,
          "split": "val_mae"
         },
         {
          "epoch": 142,
          "loss": 2.891827344894409,
          "split": "val_mae"
         },
         {
          "epoch": 143,
          "loss": 2.893860340118408,
          "split": "val_mae"
         },
         {
          "epoch": 144,
          "loss": 2.907336473464966,
          "split": "val_mae"
         },
         {
          "epoch": 145,
          "loss": 2.878180503845215,
          "split": "val_mae"
         },
         {
          "epoch": 146,
          "loss": 2.888582468032837,
          "split": "val_mae"
         },
         {
          "epoch": 147,
          "loss": 2.8969409465789795,
          "split": "val_mae"
         },
         {
          "epoch": 148,
          "loss": 2.894057512283325,
          "split": "val_mae"
         },
         {
          "epoch": 149,
          "loss": 2.8893332481384277,
          "split": "val_mae"
         },
         {
          "epoch": 150,
          "loss": 2.893528699874878,
          "split": "val_mae"
         },
         {
          "epoch": 151,
          "loss": 2.9066171646118164,
          "split": "val_mae"
         },
         {
          "epoch": 152,
          "loss": 2.889392375946045,
          "split": "val_mae"
         },
         {
          "epoch": 153,
          "loss": 2.899026870727539,
          "split": "val_mae"
         },
         {
          "epoch": 154,
          "loss": 2.868772268295288,
          "split": "val_mae"
         },
         {
          "epoch": 155,
          "loss": 2.858959674835205,
          "split": "val_mae"
         },
         {
          "epoch": 156,
          "loss": 2.8629257678985596,
          "split": "val_mae"
         },
         {
          "epoch": 157,
          "loss": 2.8573291301727295,
          "split": "val_mae"
         },
         {
          "epoch": 158,
          "loss": 2.865748167037964,
          "split": "val_mae"
         },
         {
          "epoch": 159,
          "loss": 2.876054525375366,
          "split": "val_mae"
         },
         {
          "epoch": 160,
          "loss": 2.884744882583618,
          "split": "val_mae"
         },
         {
          "epoch": 161,
          "loss": 2.878573417663574,
          "split": "val_mae"
         },
         {
          "epoch": 162,
          "loss": 2.8915622234344482,
          "split": "val_mae"
         },
         {
          "epoch": 163,
          "loss": 2.884988784790039,
          "split": "val_mae"
         },
         {
          "epoch": 164,
          "loss": 2.8516204357147217,
          "split": "val_mae"
         },
         {
          "epoch": 165,
          "loss": 2.858750581741333,
          "split": "val_mae"
         },
         {
          "epoch": 166,
          "loss": 2.861215591430664,
          "split": "val_mae"
         },
         {
          "epoch": 167,
          "loss": 2.8624892234802246,
          "split": "val_mae"
         },
         {
          "epoch": 168,
          "loss": 2.8678603172302246,
          "split": "val_mae"
         },
         {
          "epoch": 169,
          "loss": 2.8622384071350098,
          "split": "val_mae"
         },
         {
          "epoch": 170,
          "loss": 2.8528993129730225,
          "split": "val_mae"
         },
         {
          "epoch": 171,
          "loss": 2.846367835998535,
          "split": "val_mae"
         },
         {
          "epoch": 172,
          "loss": 2.858349323272705,
          "split": "val_mae"
         },
         {
          "epoch": 173,
          "loss": 2.8798441886901855,
          "split": "val_mae"
         },
         {
          "epoch": 174,
          "loss": 2.8635358810424805,
          "split": "val_mae"
         },
         {
          "epoch": 175,
          "loss": 2.8605592250823975,
          "split": "val_mae"
         },
         {
          "epoch": 176,
          "loss": 2.8486037254333496,
          "split": "val_mae"
         },
         {
          "epoch": 177,
          "loss": 2.842607259750366,
          "split": "val_mae"
         },
         {
          "epoch": 178,
          "loss": 2.8431570529937744,
          "split": "val_mae"
         },
         {
          "epoch": 179,
          "loss": 2.869905710220337,
          "split": "val_mae"
         },
         {
          "epoch": 180,
          "loss": 2.865579128265381,
          "split": "val_mae"
         },
         {
          "epoch": 181,
          "loss": 2.840879201889038,
          "split": "val_mae"
         },
         {
          "epoch": 182,
          "loss": 2.838555335998535,
          "split": "val_mae"
         },
         {
          "epoch": 183,
          "loss": 2.829005002975464,
          "split": "val_mae"
         },
         {
          "epoch": 184,
          "loss": 2.838654041290283,
          "split": "val_mae"
         },
         {
          "epoch": 185,
          "loss": 2.841104030609131,
          "split": "val_mae"
         },
         {
          "epoch": 186,
          "loss": 2.8333375453948975,
          "split": "val_mae"
         },
         {
          "epoch": 187,
          "loss": 2.8534605503082275,
          "split": "val_mae"
         },
         {
          "epoch": 188,
          "loss": 2.8572335243225098,
          "split": "val_mae"
         },
         {
          "epoch": 189,
          "loss": 2.8592045307159424,
          "split": "val_mae"
         },
         {
          "epoch": 190,
          "loss": 2.845795154571533,
          "split": "val_mae"
         },
         {
          "epoch": 191,
          "loss": 2.8398001194000244,
          "split": "val_mae"
         },
         {
          "epoch": 192,
          "loss": 2.8453245162963867,
          "split": "val_mae"
         },
         {
          "epoch": 193,
          "loss": 2.845653772354126,
          "split": "val_mae"
         },
         {
          "epoch": 194,
          "loss": 2.8344218730926514,
          "split": "val_mae"
         },
         {
          "epoch": 195,
          "loss": 2.8315229415893555,
          "split": "val_mae"
         },
         {
          "epoch": 196,
          "loss": 2.8271167278289795,
          "split": "val_mae"
         },
         {
          "epoch": 197,
          "loss": 2.8467135429382324,
          "split": "val_mae"
         },
         {
          "epoch": 198,
          "loss": 2.8253543376922607,
          "split": "val_mae"
         },
         {
          "epoch": 199,
          "loss": 2.8389627933502197,
          "split": "val_mae"
         },
         {
          "epoch": 200,
          "loss": 2.839674711227417,
          "split": "val_mae"
         },
         {
          "epoch": 201,
          "loss": 2.8398280143737793,
          "split": "val_mae"
         },
         {
          "epoch": 202,
          "loss": 2.830854654312134,
          "split": "val_mae"
         },
         {
          "epoch": 203,
          "loss": 2.8339805603027344,
          "split": "val_mae"
         },
         {
          "epoch": 204,
          "loss": 2.839343786239624,
          "split": "val_mae"
         },
         {
          "epoch": 205,
          "loss": 2.841994524002075,
          "split": "val_mae"
         },
         {
          "epoch": 206,
          "loss": 2.864617347717285,
          "split": "val_mae"
         },
         {
          "epoch": 207,
          "loss": 2.862102746963501,
          "split": "val_mae"
         },
         {
          "epoch": 208,
          "loss": 2.8402719497680664,
          "split": "val_mae"
         },
         {
          "epoch": 209,
          "loss": 2.8505892753601074,
          "split": "val_mae"
         },
         {
          "epoch": 210,
          "loss": 2.839048385620117,
          "split": "val_mae"
         },
         {
          "epoch": 211,
          "loss": 2.840696096420288,
          "split": "val_mae"
         },
         {
          "epoch": 212,
          "loss": 2.8075873851776123,
          "split": "val_mae"
         },
         {
          "epoch": 213,
          "loss": 2.8157451152801514,
          "split": "val_mae"
         },
         {
          "epoch": 214,
          "loss": 2.8189730644226074,
          "split": "val_mae"
         },
         {
          "epoch": 215,
          "loss": 2.813859701156616,
          "split": "val_mae"
         },
         {
          "epoch": 216,
          "loss": 2.815481662750244,
          "split": "val_mae"
         },
         {
          "epoch": 217,
          "loss": 2.814586877822876,
          "split": "val_mae"
         },
         {
          "epoch": 218,
          "loss": 2.7998366355895996,
          "split": "val_mae"
         },
         {
          "epoch": 219,
          "loss": 2.809674024581909,
          "split": "val_mae"
         },
         {
          "epoch": 220,
          "loss": 2.819333791732788,
          "split": "val_mae"
         },
         {
          "epoch": 221,
          "loss": 2.8276424407958984,
          "split": "val_mae"
         },
         {
          "epoch": 222,
          "loss": 2.830904006958008,
          "split": "val_mae"
         },
         {
          "epoch": 223,
          "loss": 2.8415989875793457,
          "split": "val_mae"
         },
         {
          "epoch": 224,
          "loss": 2.8363380432128906,
          "split": "val_mae"
         },
         {
          "epoch": 225,
          "loss": 2.8345401287078857,
          "split": "val_mae"
         },
         {
          "epoch": 226,
          "loss": 2.8214876651763916,
          "split": "val_mae"
         },
         {
          "epoch": 227,
          "loss": 2.8287394046783447,
          "split": "val_mae"
         },
         {
          "epoch": 228,
          "loss": 2.8097918033599854,
          "split": "val_mae"
         },
         {
          "epoch": 229,
          "loss": 2.8130006790161133,
          "split": "val_mae"
         },
         {
          "epoch": 230,
          "loss": 2.816647529602051,
          "split": "val_mae"
         },
         {
          "epoch": 231,
          "loss": 2.8215854167938232,
          "split": "val_mae"
         },
         {
          "epoch": 232,
          "loss": 2.822296619415283,
          "split": "val_mae"
         },
         {
          "epoch": 233,
          "loss": 2.803889274597168,
          "split": "val_mae"
         },
         {
          "epoch": 234,
          "loss": 2.807964563369751,
          "split": "val_mae"
         },
         {
          "epoch": 235,
          "loss": 2.8275387287139893,
          "split": "val_mae"
         },
         {
          "epoch": 236,
          "loss": 2.8312759399414062,
          "split": "val_mae"
         },
         {
          "epoch": 237,
          "loss": 2.8401143550872803,
          "split": "val_mae"
         },
         {
          "epoch": 238,
          "loss": 2.841261386871338,
          "split": "val_mae"
         },
         {
          "epoch": 239,
          "loss": 2.8234000205993652,
          "split": "val_mae"
         },
         {
          "epoch": 240,
          "loss": 2.8387866020202637,
          "split": "val_mae"
         },
         {
          "epoch": 241,
          "loss": 2.874882698059082,
          "split": "val_mae"
         },
         {
          "epoch": 242,
          "loss": 2.8688573837280273,
          "split": "val_mae"
         },
         {
          "epoch": 243,
          "loss": 2.8712844848632812,
          "split": "val_mae"
         },
         {
          "epoch": 244,
          "loss": 2.838548421859741,
          "split": "val_mae"
         },
         {
          "epoch": 245,
          "loss": 2.841542959213257,
          "split": "val_mae"
         },
         {
          "epoch": 246,
          "loss": 2.839642286300659,
          "split": "val_mae"
         },
         {
          "epoch": 247,
          "loss": 2.8334901332855225,
          "split": "val_mae"
         },
         {
          "epoch": 248,
          "loss": 2.8357386589050293,
          "split": "val_mae"
         },
         {
          "epoch": 249,
          "loss": 2.8344767093658447,
          "split": "val_mae"
         },
         {
          "epoch": 250,
          "loss": 2.823849678039551,
          "split": "val_mae"
         },
         {
          "epoch": 251,
          "loss": 2.8220317363739014,
          "split": "val_mae"
         },
         {
          "epoch": 252,
          "loss": 2.798436403274536,
          "split": "val_mae"
         },
         {
          "epoch": 253,
          "loss": 2.806055784225464,
          "split": "val_mae"
         },
         {
          "epoch": 254,
          "loss": 2.814108371734619,
          "split": "val_mae"
         },
         {
          "epoch": 255,
          "loss": 2.8154025077819824,
          "split": "val_mae"
         },
         {
          "epoch": 256,
          "loss": 2.8091328144073486,
          "split": "val_mae"
         },
         {
          "epoch": 257,
          "loss": 2.8144068717956543,
          "split": "val_mae"
         },
         {
          "epoch": 258,
          "loss": 2.810124158859253,
          "split": "val_mae"
         },
         {
          "epoch": 259,
          "loss": 2.81107234954834,
          "split": "val_mae"
         },
         {
          "epoch": 260,
          "loss": 2.8105132579803467,
          "split": "val_mae"
         },
         {
          "epoch": 261,
          "loss": 2.8213305473327637,
          "split": "val_mae"
         },
         {
          "epoch": 262,
          "loss": 2.8220624923706055,
          "split": "val_mae"
         },
         {
          "epoch": 263,
          "loss": 2.814044713973999,
          "split": "val_mae"
         },
         {
          "epoch": 264,
          "loss": 2.8292605876922607,
          "split": "val_mae"
         },
         {
          "epoch": 265,
          "loss": 2.8158812522888184,
          "split": "val_mae"
         },
         {
          "epoch": 266,
          "loss": 2.8328440189361572,
          "split": "val_mae"
         },
         {
          "epoch": 267,
          "loss": 2.8222975730895996,
          "split": "val_mae"
         },
         {
          "epoch": 268,
          "loss": 2.8302359580993652,
          "split": "val_mae"
         },
         {
          "epoch": 269,
          "loss": 2.8263986110687256,
          "split": "val_mae"
         },
         {
          "epoch": 270,
          "loss": 2.812650442123413,
          "split": "val_mae"
         },
         {
          "epoch": 271,
          "loss": 2.803942918777466,
          "split": "val_mae"
         },
         {
          "epoch": 272,
          "loss": 2.795454263687134,
          "split": "val_mae"
         },
         {
          "epoch": 273,
          "loss": 2.7983834743499756,
          "split": "val_mae"
         },
         {
          "epoch": 274,
          "loss": 2.809084892272949,
          "split": "val_mae"
         },
         {
          "epoch": 275,
          "loss": 2.8119096755981445,
          "split": "val_mae"
         },
         {
          "epoch": 276,
          "loss": 2.808868646621704,
          "split": "val_mae"
         },
         {
          "epoch": 277,
          "loss": 2.8123221397399902,
          "split": "val_mae"
         },
         {
          "epoch": 278,
          "loss": 2.8020148277282715,
          "split": "val_mae"
         },
         {
          "epoch": 279,
          "loss": 2.7884976863861084,
          "split": "val_mae"
         },
         {
          "epoch": 280,
          "loss": 2.791135549545288,
          "split": "val_mae"
         },
         {
          "epoch": 281,
          "loss": 2.780449390411377,
          "split": "val_mae"
         },
         {
          "epoch": 282,
          "loss": 2.7772092819213867,
          "split": "val_mae"
         },
         {
          "epoch": 283,
          "loss": 2.770446300506592,
          "split": "val_mae"
         },
         {
          "epoch": 284,
          "loss": 2.7738592624664307,
          "split": "val_mae"
         },
         {
          "epoch": 285,
          "loss": 2.794084310531616,
          "split": "val_mae"
         },
         {
          "epoch": 286,
          "loss": 2.78631854057312,
          "split": "val_mae"
         },
         {
          "epoch": 287,
          "loss": 2.794086456298828,
          "split": "val_mae"
         },
         {
          "epoch": 288,
          "loss": 2.7893171310424805,
          "split": "val_mae"
         },
         {
          "epoch": 289,
          "loss": 2.786435842514038,
          "split": "val_mae"
         },
         {
          "epoch": 290,
          "loss": 2.786400318145752,
          "split": "val_mae"
         },
         {
          "epoch": 291,
          "loss": 2.7955710887908936,
          "split": "val_mae"
         },
         {
          "epoch": 292,
          "loss": 2.8043100833892822,
          "split": "val_mae"
         },
         {
          "epoch": 293,
          "loss": 2.8041274547576904,
          "split": "val_mae"
         },
         {
          "epoch": 294,
          "loss": 2.7827115058898926,
          "split": "val_mae"
         },
         {
          "epoch": 295,
          "loss": 2.783766031265259,
          "split": "val_mae"
         },
         {
          "epoch": 296,
          "loss": 2.782731771469116,
          "split": "val_mae"
         },
         {
          "epoch": 297,
          "loss": 2.7849135398864746,
          "split": "val_mae"
         },
         {
          "epoch": 298,
          "loss": 2.786306142807007,
          "split": "val_mae"
         },
         {
          "epoch": 299,
          "loss": 2.7896931171417236,
          "split": "val_mae"
         },
         {
          "epoch": 300,
          "loss": 2.7936503887176514,
          "split": "val_mae"
         },
         {
          "epoch": 301,
          "loss": 2.772033929824829,
          "split": "val_mae"
         },
         {
          "epoch": 302,
          "loss": 2.778093099594116,
          "split": "val_mae"
         },
         {
          "epoch": 303,
          "loss": 2.7762839794158936,
          "split": "val_mae"
         },
         {
          "epoch": 304,
          "loss": 2.8118937015533447,
          "split": "val_mae"
         },
         {
          "epoch": 305,
          "loss": 2.798851728439331,
          "split": "val_mae"
         },
         {
          "epoch": 306,
          "loss": 2.7916505336761475,
          "split": "val_mae"
         },
         {
          "epoch": 307,
          "loss": 2.7840752601623535,
          "split": "val_mae"
         },
         {
          "epoch": 308,
          "loss": 2.785806894302368,
          "split": "val_mae"
         },
         {
          "epoch": 309,
          "loss": 2.7742738723754883,
          "split": "val_mae"
         },
         {
          "epoch": 310,
          "loss": 2.7798924446105957,
          "split": "val_mae"
         },
         {
          "epoch": 311,
          "loss": 2.788576364517212,
          "split": "val_mae"
         },
         {
          "epoch": 312,
          "loss": 2.7885940074920654,
          "split": "val_mae"
         },
         {
          "epoch": 313,
          "loss": 2.8099558353424072,
          "split": "val_mae"
         },
         {
          "epoch": 314,
          "loss": 2.8232858180999756,
          "split": "val_mae"
         },
         {
          "epoch": 315,
          "loss": 2.8211207389831543,
          "split": "val_mae"
         },
         {
          "epoch": 316,
          "loss": 2.807048797607422,
          "split": "val_mae"
         },
         {
          "epoch": 317,
          "loss": 2.8114466667175293,
          "split": "val_mae"
         },
         {
          "epoch": 318,
          "loss": 2.805659770965576,
          "split": "val_mae"
         },
         {
          "epoch": 319,
          "loss": 2.7970011234283447,
          "split": "val_mae"
         },
         {
          "epoch": 320,
          "loss": 2.7876996994018555,
          "split": "val_mae"
         },
         {
          "epoch": 321,
          "loss": 2.7614781856536865,
          "split": "val_mae"
         },
         {
          "epoch": 322,
          "loss": 2.7580058574676514,
          "split": "val_mae"
         },
         {
          "epoch": 323,
          "loss": 2.7556264400482178,
          "split": "val_mae"
         },
         {
          "epoch": 324,
          "loss": 2.775113344192505,
          "split": "val_mae"
         },
         {
          "epoch": 325,
          "loss": 2.779893159866333,
          "split": "val_mae"
         },
         {
          "epoch": 326,
          "loss": 2.77573299407959,
          "split": "val_mae"
         },
         {
          "epoch": 327,
          "loss": 2.7739882469177246,
          "split": "val_mae"
         },
         {
          "epoch": 328,
          "loss": 2.7657735347747803,
          "split": "val_mae"
         },
         {
          "epoch": 329,
          "loss": 2.7739369869232178,
          "split": "val_mae"
         },
         {
          "epoch": 330,
          "loss": 2.7809178829193115,
          "split": "val_mae"
         },
         {
          "epoch": 331,
          "loss": 2.776945114135742,
          "split": "val_mae"
         },
         {
          "epoch": 332,
          "loss": 2.7958719730377197,
          "split": "val_mae"
         },
         {
          "epoch": 333,
          "loss": 2.788867235183716,
          "split": "val_mae"
         },
         {
          "epoch": 334,
          "loss": 2.796640396118164,
          "split": "val_mae"
         },
         {
          "epoch": 335,
          "loss": 2.7846057415008545,
          "split": "val_mae"
         },
         {
          "epoch": 336,
          "loss": 2.8033478260040283,
          "split": "val_mae"
         },
         {
          "epoch": 337,
          "loss": 2.791135549545288,
          "split": "val_mae"
         },
         {
          "epoch": 338,
          "loss": 2.7724997997283936,
          "split": "val_mae"
         },
         {
          "epoch": 339,
          "loss": 2.7941160202026367,
          "split": "val_mae"
         },
         {
          "epoch": 340,
          "loss": 2.788242816925049,
          "split": "val_mae"
         },
         {
          "epoch": 341,
          "loss": 2.7958145141601562,
          "split": "val_mae"
         },
         {
          "epoch": 342,
          "loss": 2.807764768600464,
          "split": "val_mae"
         },
         {
          "epoch": 343,
          "loss": 2.804842710494995,
          "split": "val_mae"
         },
         {
          "epoch": 344,
          "loss": 2.7991857528686523,
          "split": "val_mae"
         },
         {
          "epoch": 345,
          "loss": 2.8054802417755127,
          "split": "val_mae"
         },
         {
          "epoch": 346,
          "loss": 2.804015636444092,
          "split": "val_mae"
         },
         {
          "epoch": 347,
          "loss": 2.7970337867736816,
          "split": "val_mae"
         },
         {
          "epoch": 348,
          "loss": 2.7884347438812256,
          "split": "val_mae"
         },
         {
          "epoch": 349,
          "loss": 2.78580379486084,
          "split": "val_mae"
         },
         {
          "epoch": 350,
          "loss": 2.7960691452026367,
          "split": "val_mae"
         },
         {
          "epoch": 351,
          "loss": 2.7893126010894775,
          "split": "val_mae"
         },
         {
          "epoch": 352,
          "loss": 2.806380271911621,
          "split": "val_mae"
         },
         {
          "epoch": 353,
          "loss": 2.801070213317871,
          "split": "val_mae"
         },
         {
          "epoch": 354,
          "loss": 2.796902894973755,
          "split": "val_mae"
         },
         {
          "epoch": 355,
          "loss": 2.803419589996338,
          "split": "val_mae"
         },
         {
          "epoch": 356,
          "loss": 2.802826404571533,
          "split": "val_mae"
         },
         {
          "epoch": 357,
          "loss": 2.7787346839904785,
          "split": "val_mae"
         },
         {
          "epoch": 358,
          "loss": 2.773763656616211,
          "split": "val_mae"
         },
         {
          "epoch": 359,
          "loss": 2.7737836837768555,
          "split": "val_mae"
         },
         {
          "epoch": 360,
          "loss": 2.7732744216918945,
          "split": "val_mae"
         },
         {
          "epoch": 361,
          "loss": 2.760944128036499,
          "split": "val_mae"
         },
         {
          "epoch": 362,
          "loss": 2.7616024017333984,
          "split": "val_mae"
         },
         {
          "epoch": 363,
          "loss": 2.80002498626709,
          "split": "val_mae"
         },
         {
          "epoch": 364,
          "loss": 2.781440496444702,
          "split": "val_mae"
         },
         {
          "epoch": 365,
          "loss": 2.7774786949157715,
          "split": "val_mae"
         },
         {
          "epoch": 366,
          "loss": 2.7671403884887695,
          "split": "val_mae"
         },
         {
          "epoch": 367,
          "loss": 2.781757116317749,
          "split": "val_mae"
         },
         {
          "epoch": 368,
          "loss": 2.7850465774536133,
          "split": "val_mae"
         },
         {
          "epoch": 369,
          "loss": 2.775381088256836,
          "split": "val_mae"
         },
         {
          "epoch": 370,
          "loss": 2.776456594467163,
          "split": "val_mae"
         },
         {
          "epoch": 371,
          "loss": 2.7546679973602295,
          "split": "val_mae"
         },
         {
          "epoch": 372,
          "loss": 2.762925386428833,
          "split": "val_mae"
         },
         {
          "epoch": 373,
          "loss": 2.7565486431121826,
          "split": "val_mae"
         },
         {
          "epoch": 374,
          "loss": 2.757171154022217,
          "split": "val_mae"
         },
         {
          "epoch": 375,
          "loss": 2.779334306716919,
          "split": "val_mae"
         },
         {
          "epoch": 376,
          "loss": 2.7770869731903076,
          "split": "val_mae"
         },
         {
          "epoch": 377,
          "loss": 2.778778553009033,
          "split": "val_mae"
         },
         {
          "epoch": 378,
          "loss": 2.7780444622039795,
          "split": "val_mae"
         },
         {
          "epoch": 379,
          "loss": 2.784599781036377,
          "split": "val_mae"
         },
         {
          "epoch": 380,
          "loss": 2.773559093475342,
          "split": "val_mae"
         },
         {
          "epoch": 381,
          "loss": 2.7712903022766113,
          "split": "val_mae"
         },
         {
          "epoch": 382,
          "loss": 2.774521827697754,
          "split": "val_mae"
         },
         {
          "epoch": 383,
          "loss": 2.7669475078582764,
          "split": "val_mae"
         },
         {
          "epoch": 384,
          "loss": 2.783701181411743,
          "split": "val_mae"
         },
         {
          "epoch": 385,
          "loss": 2.7813804149627686,
          "split": "val_mae"
         },
         {
          "epoch": 386,
          "loss": 2.783047914505005,
          "split": "val_mae"
         },
         {
          "epoch": 387,
          "loss": 2.779323101043701,
          "split": "val_mae"
         },
         {
          "epoch": 388,
          "loss": 2.778696060180664,
          "split": "val_mae"
         },
         {
          "epoch": 389,
          "loss": 2.782681941986084,
          "split": "val_mae"
         },
         {
          "epoch": 390,
          "loss": 2.777447462081909,
          "split": "val_mae"
         },
         {
          "epoch": 391,
          "loss": 2.7736589908599854,
          "split": "val_mae"
         },
         {
          "epoch": 392,
          "loss": 2.7728214263916016,
          "split": "val_mae"
         },
         {
          "epoch": 393,
          "loss": 2.7716901302337646,
          "split": "val_mae"
         },
         {
          "epoch": 394,
          "loss": 2.766155958175659,
          "split": "val_mae"
         },
         {
          "epoch": 395,
          "loss": 2.746798276901245,
          "split": "val_mae"
         },
         {
          "epoch": 396,
          "loss": 2.7626893520355225,
          "split": "val_mae"
         },
         {
          "epoch": 397,
          "loss": 2.759082078933716,
          "split": "val_mae"
         },
         {
          "epoch": 398,
          "loss": 2.7528839111328125,
          "split": "val_mae"
         },
         {
          "epoch": 399,
          "loss": 2.7535252571105957,
          "split": "val_mae"
         },
         {
          "epoch": 400,
          "loss": 2.765873670578003,
          "split": "val_mae"
         },
         {
          "epoch": 401,
          "loss": 2.755315065383911,
          "split": "val_mae"
         },
         {
          "epoch": 402,
          "loss": 2.757345676422119,
          "split": "val_mae"
         },
         {
          "epoch": 403,
          "loss": 2.754812240600586,
          "split": "val_mae"
         },
         {
          "epoch": 404,
          "loss": 2.7443251609802246,
          "split": "val_mae"
         },
         {
          "epoch": 405,
          "loss": 2.764174222946167,
          "split": "val_mae"
         },
         {
          "epoch": 406,
          "loss": 2.750375270843506,
          "split": "val_mae"
         },
         {
          "epoch": 407,
          "loss": 2.743748903274536,
          "split": "val_mae"
         },
         {
          "epoch": 408,
          "loss": 2.7848970890045166,
          "split": "val_mae"
         },
         {
          "epoch": 409,
          "loss": 2.7905561923980713,
          "split": "val_mae"
         },
         {
          "epoch": 410,
          "loss": 2.7637693881988525,
          "split": "val_mae"
         },
         {
          "epoch": 411,
          "loss": 2.7709999084472656,
          "split": "val_mae"
         },
         {
          "epoch": 412,
          "loss": 2.776907444000244,
          "split": "val_mae"
         },
         {
          "epoch": 413,
          "loss": 2.7773935794830322,
          "split": "val_mae"
         },
         {
          "epoch": 414,
          "loss": 2.771726131439209,
          "split": "val_mae"
         },
         {
          "epoch": 415,
          "loss": 2.767652750015259,
          "split": "val_mae"
         },
         {
          "epoch": 416,
          "loss": 2.793785810470581,
          "split": "val_mae"
         },
         {
          "epoch": 417,
          "loss": 2.804971933364868,
          "split": "val_mae"
         },
         {
          "epoch": 418,
          "loss": 2.8031156063079834,
          "split": "val_mae"
         },
         {
          "epoch": 419,
          "loss": 2.786856174468994,
          "split": "val_mae"
         },
         {
          "epoch": 420,
          "loss": 2.8129968643188477,
          "split": "val_mae"
         },
         {
          "epoch": 421,
          "loss": 2.823721408843994,
          "split": "val_mae"
         },
         {
          "epoch": 422,
          "loss": 2.8062469959259033,
          "split": "val_mae"
         },
         {
          "epoch": 423,
          "loss": 2.788163900375366,
          "split": "val_mae"
         },
         {
          "epoch": 424,
          "loss": 2.785573959350586,
          "split": "val_mae"
         },
         {
          "epoch": 425,
          "loss": 2.7788503170013428,
          "split": "val_mae"
         },
         {
          "epoch": 426,
          "loss": 2.782111883163452,
          "split": "val_mae"
         },
         {
          "epoch": 427,
          "loss": 2.7804715633392334,
          "split": "val_mae"
         },
         {
          "epoch": 428,
          "loss": 2.7891128063201904,
          "split": "val_mae"
         },
         {
          "epoch": 429,
          "loss": 2.7709693908691406,
          "split": "val_mae"
         },
         {
          "epoch": 430,
          "loss": 2.7748236656188965,
          "split": "val_mae"
         },
         {
          "epoch": 431,
          "loss": 2.7532734870910645,
          "split": "val_mae"
         },
         {
          "epoch": 432,
          "loss": 2.750182628631592,
          "split": "val_mae"
         },
         {
          "epoch": 433,
          "loss": 2.761996030807495,
          "split": "val_mae"
         },
         {
          "epoch": 434,
          "loss": 2.7475810050964355,
          "split": "val_mae"
         },
         {
          "epoch": 435,
          "loss": 2.7463080883026123,
          "split": "val_mae"
         },
         {
          "epoch": 436,
          "loss": 2.758410692214966,
          "split": "val_mae"
         },
         {
          "epoch": 437,
          "loss": 2.7457010746002197,
          "split": "val_mae"
         },
         {
          "epoch": 438,
          "loss": 2.7448978424072266,
          "split": "val_mae"
         },
         {
          "epoch": 439,
          "loss": 2.7321810722351074,
          "split": "val_mae"
         },
         {
          "epoch": 440,
          "loss": 2.747770071029663,
          "split": "val_mae"
         },
         {
          "epoch": 441,
          "loss": 2.7563626766204834,
          "split": "val_mae"
         },
         {
          "epoch": 442,
          "loss": 2.769716501235962,
          "split": "val_mae"
         },
         {
          "epoch": 443,
          "loss": 2.778761863708496,
          "split": "val_mae"
         },
         {
          "epoch": 444,
          "loss": 2.7613861560821533,
          "split": "val_mae"
         },
         {
          "epoch": 445,
          "loss": 2.7589361667633057,
          "split": "val_mae"
         },
         {
          "epoch": 446,
          "loss": 2.7487828731536865,
          "split": "val_mae"
         },
         {
          "epoch": 447,
          "loss": 2.7563607692718506,
          "split": "val_mae"
         },
         {
          "epoch": 448,
          "loss": 2.768827438354492,
          "split": "val_mae"
         },
         {
          "epoch": 449,
          "loss": 2.760511636734009,
          "split": "val_mae"
         },
         {
          "epoch": 450,
          "loss": 2.7677114009857178,
          "split": "val_mae"
         },
         {
          "epoch": 451,
          "loss": 2.771731376647949,
          "split": "val_mae"
         },
         {
          "epoch": 452,
          "loss": 2.7559635639190674,
          "split": "val_mae"
         },
         {
          "epoch": 453,
          "loss": 2.756263017654419,
          "split": "val_mae"
         },
         {
          "epoch": 454,
          "loss": 2.736081838607788,
          "split": "val_mae"
         },
         {
          "epoch": 455,
          "loss": 2.7507002353668213,
          "split": "val_mae"
         },
         {
          "epoch": 456,
          "loss": 2.749809741973877,
          "split": "val_mae"
         },
         {
          "epoch": 457,
          "loss": 2.7607409954071045,
          "split": "val_mae"
         },
         {
          "epoch": 458,
          "loss": 2.7641942501068115,
          "split": "val_mae"
         },
         {
          "epoch": 459,
          "loss": 2.758233070373535,
          "split": "val_mae"
         },
         {
          "epoch": 460,
          "loss": 2.7515790462493896,
          "split": "val_mae"
         },
         {
          "epoch": 461,
          "loss": 2.731184720993042,
          "split": "val_mae"
         },
         {
          "epoch": 462,
          "loss": 2.7364864349365234,
          "split": "val_mae"
         },
         {
          "epoch": 463,
          "loss": 2.7421042919158936,
          "split": "val_mae"
         },
         {
          "epoch": 464,
          "loss": 2.7447073459625244,
          "split": "val_mae"
         },
         {
          "epoch": 465,
          "loss": 2.746422529220581,
          "split": "val_mae"
         },
         {
          "epoch": 466,
          "loss": 2.7723708152770996,
          "split": "val_mae"
         },
         {
          "epoch": 467,
          "loss": 2.769874334335327,
          "split": "val_mae"
         },
         {
          "epoch": 468,
          "loss": 2.758587598800659,
          "split": "val_mae"
         },
         {
          "epoch": 469,
          "loss": 2.7577617168426514,
          "split": "val_mae"
         },
         {
          "epoch": 470,
          "loss": 2.762338876724243,
          "split": "val_mae"
         },
         {
          "epoch": 471,
          "loss": 2.7476308345794678,
          "split": "val_mae"
         },
         {
          "epoch": 472,
          "loss": 2.7511656284332275,
          "split": "val_mae"
         },
         {
          "epoch": 473,
          "loss": 2.749112844467163,
          "split": "val_mae"
         },
         {
          "epoch": 474,
          "loss": 2.7495040893554688,
          "split": "val_mae"
         },
         {
          "epoch": 475,
          "loss": 2.742565393447876,
          "split": "val_mae"
         },
         {
          "epoch": 476,
          "loss": 2.743752956390381,
          "split": "val_mae"
         },
         {
          "epoch": 477,
          "loss": 2.740607261657715,
          "split": "val_mae"
         },
         {
          "epoch": 478,
          "loss": 2.7644989490509033,
          "split": "val_mae"
         },
         {
          "epoch": 479,
          "loss": 2.7640790939331055,
          "split": "val_mae"
         },
         {
          "epoch": 480,
          "loss": 2.7698726654052734,
          "split": "val_mae"
         },
         {
          "epoch": 481,
          "loss": 2.769282102584839,
          "split": "val_mae"
         },
         {
          "epoch": 482,
          "loss": 2.7677385807037354,
          "split": "val_mae"
         },
         {
          "epoch": 483,
          "loss": 2.767430305480957,
          "split": "val_mae"
         },
         {
          "epoch": 484,
          "loss": 2.778395891189575,
          "split": "val_mae"
         },
         {
          "epoch": 485,
          "loss": 2.767775058746338,
          "split": "val_mae"
         },
         {
          "epoch": 486,
          "loss": 2.7471346855163574,
          "split": "val_mae"
         },
         {
          "epoch": 487,
          "loss": 2.73331356048584,
          "split": "val_mae"
         },
         {
          "epoch": 488,
          "loss": 2.7376949787139893,
          "split": "val_mae"
         },
         {
          "epoch": 489,
          "loss": 2.7431888580322266,
          "split": "val_mae"
         },
         {
          "epoch": 490,
          "loss": 2.74265718460083,
          "split": "val_mae"
         },
         {
          "epoch": 491,
          "loss": 2.7509286403656006,
          "split": "val_mae"
         },
         {
          "epoch": 492,
          "loss": 2.756009817123413,
          "split": "val_mae"
         },
         {
          "epoch": 493,
          "loss": 2.7489969730377197,
          "split": "val_mae"
         },
         {
          "epoch": 494,
          "loss": 2.7453036308288574,
          "split": "val_mae"
         },
         {
          "epoch": 495,
          "loss": 2.7562098503112793,
          "split": "val_mae"
         },
         {
          "epoch": 496,
          "loss": 2.754941701889038,
          "split": "val_mae"
         },
         {
          "epoch": 497,
          "loss": 2.7735848426818848,
          "split": "val_mae"
         },
         {
          "epoch": 498,
          "loss": 2.7612226009368896,
          "split": "val_mae"
         },
         {
          "epoch": 499,
          "loss": 2.7676377296447754,
          "split": "val_mae"
         }
        ]
       },
       "encoding": {
        "color": {
         "field": "split",
         "type": "nominal"
        },
        "x": {
         "field": "epoch",
         "type": "quantitative"
        },
        "y": {
         "field": "loss",
         "type": "quantitative"
        }
       },
       "mark": "line",
       "transform": [
        {
         "filter": "datum.epoch > 20"
        }
       ]
      },
      "image/png": "[encoded data removed]",
      "text/plain": [
       "<VegaLite 3 object>\n",
       "\n",
       "If you see this message, it means the renderer has not been properly enabled\n",
       "for the frontend that you are using. For more information, see\n",
       "https://altair-viz.github.io/user_guide/troubleshooting.html\n"
      ]
     },
     "execution_count": 8,
     "metadata": {},
     "output_type": "execute_result"
    }
   ],
   "source": [
    "data_df = pd.DataFrame(history.history)\n",
    "data_df['epoch'] = history.epoch\n",
    "melt_df = pd.melt(data_df, id_vars=['epoch'], var_name='split', value_name='loss')\n",
    "alt.Chart(melt_df).mark_line().transform_filter(\n",
    "    'datum.epoch > 20'\n",
    ").encode(\n",
    "    alt.X('epoch:Q'),\n",
    "    alt.Y('loss:Q'),\n",
    "    alt.Color('split:N')\n",
    ")"
   ]
  },
  {
   "cell_type": "code",
   "execution_count": 9,
   "metadata": {},
   "outputs": [
    {
     "name": "stdout",
     "output_type": "stream",
     "text": [
      "Test set mean absolute error: $3338.50\n"
     ]
    }
   ],
   "source": [
    "[loss, mae] = model.evaluate(x_test, y_test, verbose=0)\n",
    "\n",
    "print(\"Test set mean absolute error: ${:7.2f}\".format(mae * 1000))"
   ]
  },
  {
   "cell_type": "code",
   "execution_count": 63,
   "metadata": {},
   "outputs": [
    {
     "name": "stderr",
     "output_type": "stream",
     "text": [
      "100%|██████████| 102/102 [00:08<00:00, 11.93it/s]\n"
     ]
    }
   ],
   "source": [
    "explainer = PathExplainerTF(model)\n",
    "eg_from_path = explainer.attributions(x_test,\n",
    "                                      x_train,\n",
    "                                      batch_size=50,\n",
    "                                      num_samples=1000,\n",
    "                                      use_expectation=True,\n",
    "                                      verbose=True)"
   ]
  },
  {
   "cell_type": "code",
   "execution_count": 77,
   "metadata": {},
   "outputs": [],
   "source": [
    "grad_explainer = shap.GradientExplainer(model, x_train, batch_size=50)\n",
    "eg_from_shap = grad_explainer.shap_values(x_test, nsamples=1000)"
   ]
  },
  {
   "cell_type": "code",
   "execution_count": 69,
   "metadata": {},
   "outputs": [
    {
     "data": {
      "application/vnd.vegalite.v3+json": {
       "$schema": "https://vega.github.io/schema/vega-lite/v3.4.0.json",
       "config": {
        "mark": {
         "tooltip": null
        },
        "view": {
         "height": 300,
         "width": 400
        }
       },
       "data": {
        "name": "data-6e358a111b93450fa9254f4b55e9c7b8"
       },
       "datasets": {
        "data-6e358a111b93450fa9254f4b55e9c7b8": [
         {
          "Output Difference": -14.677606582641602,
          "Path Attributions": -15.035766636764919
         },
         {
          "Output Difference": -5.492731094360352,
          "Path Attributions": -6.244552144760693
         },
         {
          "Output Difference": -1.306131362915039,
          "Path Attributions": -0.9041804137128119
         },
         {
          "Output Difference": 9.512435913085938,
          "Path Attributions": 8.853413483384172
         },
         {
          "Output Difference": 2.9231395721435547,
          "Path Attributions": 2.561519834280996
         },
         {
          "Output Difference": -3.843486785888672,
          "Path Attributions": -4.509120022588611
         },
         {
          "Output Difference": 5.0701446533203125,
          "Path Attributions": 4.4667762692580695
         },
         {
          "Output Difference": 0.12336158752441406,
          "Path Attributions": 0.6388181436655818
         },
         {
          "Output Difference": -2.9031620025634766,
          "Path Attributions": -3.557037399213374
         },
         {
          "Output Difference": -0.5291938781738281,
          "Path Attributions": -0.20178747487765492
         },
         {
          "Output Difference": -2.1810836791992188,
          "Path Attributions": -2.1279759441966988
         },
         {
          "Output Difference": -5.699628829956055,
          "Path Attributions": -5.685527933651321
         },
         {
          "Output Difference": -7.308305740356445,
          "Path Attributions": -7.589097631375104
         },
         {
          "Output Difference": 17.91826057434082,
          "Path Attributions": 18.76962767448401
         },
         {
          "Output Difference": -3.045459747314453,
          "Path Attributions": -2.9763752941657247
         },
         {
          "Output Difference": -3.800140380859375,
          "Path Attributions": -3.498197386704932
         },
         {
          "Output Difference": 3.648895263671875,
          "Path Attributions": 3.7598376482436153
         },
         {
          "Output Difference": -0.5773811340332031,
          "Path Attributions": -0.3032680199874096
         },
         {
          "Output Difference": -2.3097305297851562,
          "Path Attributions": -2.588396199412715
         },
         {
          "Output Difference": 16.461793899536133,
          "Path Attributions": 16.641877527191724
         },
         {
          "Output Difference": -10.840259552001953,
          "Path Attributions": -11.116102031071712
         },
         {
          "Output Difference": -7.804204940795898,
          "Path Attributions": -7.9719871544314405
         },
         {
          "Output Difference": -1.2579517364501953,
          "Path Attributions": -1.6782078334867139
         },
         {
          "Output Difference": -8.816999435424805,
          "Path Attributions": -9.241034847086688
         },
         {
          "Output Difference": -2.6133155822753906,
          "Path Attributions": -1.8330461955118964
         },
         {
          "Output Difference": 2.7961788177490234,
          "Path Attributions": 2.1896730847802903
         },
         {
          "Output Difference": 8.873477935791016,
          "Path Attributions": 8.796726008439167
         },
         {
          "Output Difference": 4.555244445800781,
          "Path Attributions": 4.443099696418064
         },
         {
          "Output Difference": -11.580414772033691,
          "Path Attributions": -11.732013151885266
         },
         {
          "Output Difference": -1.3362293243408203,
          "Path Attributions": -1.2092923372053384
         },
         {
          "Output Difference": -3.8442955017089844,
          "Path Attributions": -3.8534846647611785
         },
         {
          "Output Difference": -6.926621437072754,
          "Path Attributions": -6.778135825181761
         },
         {
          "Output Difference": 12.272855758666992,
          "Path Attributions": 12.527598559864439
         },
         {
          "Output Difference": 1.9937381744384766,
          "Path Attributions": 1.9073056048204808
         },
         {
          "Output Difference": -5.474027633666992,
          "Path Attributions": -4.998117002641518
         },
         {
          "Output Difference": -14.304295539855957,
          "Path Attributions": -13.523208849324789
         },
         {
          "Output Difference": -8.017389297485352,
          "Path Attributions": -7.891463398555332
         },
         {
          "Output Difference": -4.096345901489258,
          "Path Attributions": -4.08004045631122
         },
         {
          "Output Difference": -2.3045711517333984,
          "Path Attributions": -2.482924261908427
         },
         {
          "Output Difference": 2.740053176879883,
          "Path Attributions": 2.785473283497253
         },
         {
          "Output Difference": 5.950038909912109,
          "Path Attributions": 5.128598878175226
         },
         {
          "Output Difference": 5.475215911865234,
          "Path Attributions": 5.396863379898232
         },
         {
          "Output Difference": -6.954389572143555,
          "Path Attributions": -7.260954134118462
         },
         {
          "Output Difference": 17.0793514251709,
          "Path Attributions": 17.205480212635205
         },
         {
          "Output Difference": 6.372873306274414,
          "Path Attributions": 6.027596834697547
         },
         {
          "Output Difference": 3.055196762084961,
          "Path Attributions": 2.848543201725309
         },
         {
          "Output Difference": 3.3079166412353516,
          "Path Attributions": 3.395639174533594
         },
         {
          "Output Difference": -5.3019866943359375,
          "Path Attributions": -5.488177698205959
         },
         {
          "Output Difference": 2.638307571411133,
          "Path Attributions": 2.242937358361604
         },
         {
          "Output Difference": -0.07025527954101562,
          "Path Attributions": 0.3741198439261646
         },
         {
          "Output Difference": 10.77208137512207,
          "Path Attributions": 10.742651399279627
         },
         {
          "Output Difference": -3.645263671875,
          "Path Attributions": -2.826474793470931
         },
         {
          "Output Difference": -10.47524642944336,
          "Path Attributions": -10.198182100585809
         },
         {
          "Output Difference": -7.340603828430176,
          "Path Attributions": -7.484611738401876
         },
         {
          "Output Difference": 13.932561874389648,
          "Path Attributions": 14.287549386687186
         },
         {
          "Output Difference": 4.908823013305664,
          "Path Attributions": 5.333015337961465
         },
         {
          "Output Difference": -9.485570907592773,
          "Path Attributions": -9.926746873957782
         },
         {
          "Output Difference": 24.34278678894043,
          "Path Attributions": 25.375219579450025
         },
         {
          "Output Difference": 13.628721237182617,
          "Path Attributions": 13.2630320438614
         },
         {
          "Output Difference": 1.4372119903564453,
          "Path Attributions": 2.4065215431221088
         },
         {
          "Output Difference": 1.62677001953125,
          "Path Attributions": 1.5046116144982538
         },
         {
          "Output Difference": -4.518125534057617,
          "Path Attributions": -3.7639963024155527
         },
         {
          "Output Difference": -8.091063499450684,
          "Path Attributions": -7.982897947033892
         },
         {
          "Output Difference": -4.631538391113281,
          "Path Attributions": -5.161939052497486
         },
         {
          "Output Difference": 0.40299034118652344,
          "Path Attributions": -0.23042142453599013
         },
         {
          "Output Difference": -0.6142463684082031,
          "Path Attributions": -1.1490453816828103
         },
         {
          "Output Difference": -8.990035057067871,
          "Path Attributions": -8.520596588434632
         },
         {
          "Output Difference": 0.12197113037109375,
          "Path Attributions": -0.5151405345724034
         },
         {
          "Output Difference": -7.277667045593262,
          "Path Attributions": -6.943964492813594
         },
         {
          "Output Difference": -15.713587760925293,
          "Path Attributions": -15.645926690144197
         },
         {
          "Output Difference": 15.408262252807617,
          "Path Attributions": 15.28853542486318
         },
         {
          "Output Difference": 5.571434020996094,
          "Path Attributions": 5.792715771985107
         },
         {
          "Output Difference": 3.7053375244140625,
          "Path Attributions": 3.836958063171461
         },
         {
          "Output Difference": -7.197646141052246,
          "Path Attributions": -6.887960000790728
         },
         {
          "Output Difference": 2.88543701171875,
          "Path Attributions": 2.6727136338328794
         },
         {
          "Output Difference": -4.6235504150390625,
          "Path Attributions": -4.661131422117634
         },
         {
          "Output Difference": -1.8294219970703125,
          "Path Attributions": -2.4703082120077884
         },
         {
          "Output Difference": 0.923675537109375,
          "Path Attributions": 0.7297058135112783
         },
         {
          "Output Difference": 11.911092758178711,
          "Path Attributions": 11.522225412125518
         },
         {
          "Output Difference": -11.729022026062012,
          "Path Attributions": -11.184489508390904
         },
         {
          "Output Difference": -2.2804431915283203,
          "Path Attributions": -2.7875923458399874
         },
         {
          "Output Difference": 15.741792678833008,
          "Path Attributions": 15.894847817602631
         },
         {
          "Output Difference": -7.0198211669921875,
          "Path Attributions": -6.993867115718789
         },
         {
          "Output Difference": -7.962747573852539,
          "Path Attributions": -8.467505781540384
         },
         {
          "Output Difference": -4.452280044555664,
          "Path Attributions": -4.74693991208931
         },
         {
          "Output Difference": -4.499059677124023,
          "Path Attributions": -5.102396351258491
         },
         {
          "Output Difference": -0.8820648193359375,
          "Path Attributions": -0.4670930518031864
         },
         {
          "Output Difference": -2.852693557739258,
          "Path Attributions": -2.730555736018057
         },
         {
          "Output Difference": -0.6726512908935547,
          "Path Attributions": -0.9216597784941181
         },
         {
          "Output Difference": 9.778562545776367,
          "Path Attributions": 9.8206807452169
         },
         {
          "Output Difference": -2.8576087951660156,
          "Path Attributions": -3.0043830457113905
         },
         {
          "Output Difference": -3.357027053833008,
          "Path Attributions": -3.052697007515294
         },
         {
          "Output Difference": 3.1702308654785156,
          "Path Attributions": 2.6775903448347687
         },
         {
          "Output Difference": 18.050783157348633,
          "Path Attributions": 18.339364614040218
         },
         {
          "Output Difference": 12.46626091003418,
          "Path Attributions": 12.851475105496647
         },
         {
          "Output Difference": -4.425838470458984,
          "Path Attributions": -4.463303143491963
         },
         {
          "Output Difference": 13.65083122253418,
          "Path Attributions": 13.264208515871678
         },
         {
          "Output Difference": 29.595338821411133,
          "Path Attributions": 30.09173311100328
         },
         {
          "Output Difference": 3.2756481170654297,
          "Path Attributions": 3.668241009924834
         },
         {
          "Output Difference": 21.729841232299805,
          "Path Attributions": 22.43703018063499
         },
         {
          "Output Difference": 10.463048934936523,
          "Path Attributions": 10.272623454969489
         },
         {
          "Output Difference": -1.9525642395019531,
          "Path Attributions": -1.9421535415787683
         }
        ]
       },
       "encoding": {
        "x": {
         "field": "Output Difference",
         "type": "quantitative"
        },
        "y": {
         "field": "Path Attributions",
         "type": "quantitative"
        }
       },
       "mark": {
        "filled": true,
        "type": "point"
       }
      },
      "image/png": "[encoded data removed]",
      "text/plain": [
       "<VegaLite 3 object>\n",
       "\n",
       "If you see this message, it means the renderer has not been properly enabled\n",
       "for the frontend that you are using. For more information, see\n",
       "https://altair-viz.github.io/user_guide/troubleshooting.html\n"
      ]
     },
     "execution_count": 69,
     "metadata": {},
     "output_type": "execute_result"
    }
   ],
   "source": [
    "completeness_df = pd.DataFrame({\n",
    "    'Output Difference': model(x_test).numpy()[:, 0] - np.mean(model(x_train)),\n",
    "    'Path Attributions': np.sum(eg_from_path, axis=-1)[0]\n",
    "})\n",
    "alt.Chart(completeness_df).mark_point(filled=True).encode(\n",
    "    alt.X('Output Difference:Q'),\n",
    "    alt.Y('Path Attributions:Q')\n",
    ")"
   ]
  },
  {
   "cell_type": "code",
   "execution_count": 80,
   "metadata": {},
   "outputs": [
    {
     "data": {
      "application/vnd.vegalite.v3+json": {
       "$schema": "https://vega.github.io/schema/vega-lite/v3.4.0.json",
       "config": {
        "mark": {
         "tooltip": null
        },
        "view": {
         "height": 300,
         "width": 400
        }
       },
       "data": {
        "name": "data-648c86ea92f0530ccb01410edfc3a784"
       },
       "datasets": {
        "data-648c86ea92f0530ccb01410edfc3a784": [
         {
          "Path Attributions": -4.8253234592871665,
          "Shap Attributions": -4.8472700119018555
         },
         {
          "Path Attributions": 0.016428734645681387,
          "Shap Attributions": -0.02444997802376747
         },
         {
          "Path Attributions": -0.46173083574264634,
          "Shap Attributions": -0.4754451811313629
         },
         {
          "Path Attributions": -0.8322717786959116,
          "Shap Attributions": -0.5914543867111206
         },
         {
          "Path Attributions": -3.2666285017318564,
          "Shap Attributions": -3.3467001914978027
         },
         {
          "Path Attributions": -1.3809674004035546,
          "Shap Attributions": -1.469058632850647
         },
         {
          "Path Attributions": 0.7262108912975888,
          "Shap Attributions": 0.7559553384780884
         },
         {
          "Path Attributions": 1.949555999501195,
          "Shap Attributions": 2.120116949081421
         },
         {
          "Path Attributions": 0.12275140231615922,
          "Shap Attributions": 0.06354593485593796
         },
         {
          "Path Attributions": -0.48311556889193435,
          "Shap Attributions": -0.4842884838581085
         },
         {
          "Path Attributions": -0.4616362637107695,
          "Shap Attributions": -0.4159286320209503
         },
         {
          "Path Attributions": 0.44187079658077527,
          "Shap Attributions": 0.7449895143508911
         },
         {
          "Path Attributions": -6.580910652642479,
          "Shap Attributions": -5.862546443939209
         },
         {
          "Path Attributions": 1.1426066942788449,
          "Shap Attributions": 1.119765043258667
         },
         {
          "Path Attributions": 0.43157884242484296,
          "Shap Attributions": 0.4547293782234192
         },
         {
          "Path Attributions": -0.5010902285003789,
          "Shap Attributions": -0.4771242141723633
         },
         {
          "Path Attributions": -0.4055946057617469,
          "Shap Attributions": -0.24123066663742065
         },
         {
          "Path Attributions": -0.39952093523404897,
          "Shap Attributions": -0.5225101709365845
         },
         {
          "Path Attributions": -2.3864700116873556,
          "Shap Attributions": -2.2334072589874268
         },
         {
          "Path Attributions": -0.40691691153686654,
          "Shap Attributions": -0.4567809998989105
         },
         {
          "Path Attributions": 1.6529018725214502,
          "Shap Attributions": 1.6960476636886597
         },
         {
          "Path Attributions": -1.0172710675806933,
          "Shap Attributions": -0.8660292029380798
         },
         {
          "Path Attributions": -1.4224183854933117,
          "Shap Attributions": -1.326985478401184
         },
         {
          "Path Attributions": -0.585567762177854,
          "Shap Attributions": -0.4330459237098694
         },
         {
          "Path Attributions": 0.02172833648228073,
          "Shap Attributions": 0.0003477209247648716
         },
         {
          "Path Attributions": -2.3685179824958564,
          "Shap Attributions": -2.295053005218506
         },
         {
          "Path Attributions": 1.1262875978399907,
          "Shap Attributions": 1.1546047925949097
         },
         {
          "Path Attributions": 0.4773635042669835,
          "Shap Attributions": 0.3832358717918396
         },
         {
          "Path Attributions": 0.606458273144817,
          "Shap Attributions": 0.5474648475646973
         },
         {
          "Path Attributions": -0.354748464641294,
          "Shap Attributions": -0.43555915355682373
         },
         {
          "Path Attributions": 0.2280676261758568,
          "Shap Attributions": 0.436898797750473
         },
         {
          "Path Attributions": -2.1922665219418476,
          "Shap Attributions": -2.2138123512268066
         },
         {
          "Path Attributions": 0.015584786960779447,
          "Shap Attributions": -0.10405033826828003
         },
         {
          "Path Attributions": -1.5687156673389027,
          "Shap Attributions": -1.7339023351669312
         },
         {
          "Path Attributions": -0.20361840418044935,
          "Shap Attributions": -0.549590528011322
         },
         {
          "Path Attributions": 0.873380351542729,
          "Shap Attributions": 0.5280974507331848
         },
         {
          "Path Attributions": -0.9183127225352138,
          "Shap Attributions": -0.9853957295417786
         },
         {
          "Path Attributions": 0.3055406740305889,
          "Shap Attributions": 0.3122357130050659
         },
         {
          "Path Attributions": 0.7007985529631505,
          "Shap Attributions": 0.8806202411651611
         },
         {
          "Path Attributions": 0.3977800534294076,
          "Shap Attributions": 0.28027692437171936
         },
         {
          "Path Attributions": -0.04940825051902898,
          "Shap Attributions": -0.041399549692869186
         },
         {
          "Path Attributions": 0.43310434112318036,
          "Shap Attributions": 0.4837090075016022
         },
         {
          "Path Attributions": 7.5334604880886715,
          "Shap Attributions": 7.598079204559326
         },
         {
          "Path Attributions": -1.6333622730954491,
          "Shap Attributions": -1.8956252336502075
         },
         {
          "Path Attributions": -1.7169811863683277,
          "Shap Attributions": -1.512521743774414
         },
         {
          "Path Attributions": 0.3840971530677532,
          "Shap Attributions": 0.47475528717041016
         },
         {
          "Path Attributions": 2.251767090559753,
          "Shap Attributions": 2.5453128814697266
         },
         {
          "Path Attributions": -2.2591867424209378,
          "Shap Attributions": -1.9340925216674805
         },
         {
          "Path Attributions": -1.0347436376720065,
          "Shap Attributions": -0.8020366430282593
         },
         {
          "Path Attributions": -1.3948761443686808,
          "Shap Attributions": -1.2479819059371948
         },
         {
          "Path Attributions": -0.7749058948131051,
          "Shap Attributions": -0.8518802523612976
         },
         {
          "Path Attributions": 6.7166684863729404,
          "Shap Attributions": 6.528715133666992
         },
         {
          "Path Attributions": 1.060626818099093,
          "Shap Attributions": 1.27830970287323
         },
         {
          "Path Attributions": 0.4442993726410384,
          "Shap Attributions": 0.513961672782898
         },
         {
          "Path Attributions": 0.45890239257664556,
          "Shap Attributions": 0.505122184753418
         },
         {
          "Path Attributions": -0.08286657946089329,
          "Shap Attributions": -0.30728012323379517
         },
         {
          "Path Attributions": 2.35006931739236,
          "Shap Attributions": 2.564028024673462
         },
         {
          "Path Attributions": -2.0486378526919076,
          "Shap Attributions": -2.002023935317993
         },
         {
          "Path Attributions": -0.36025115085110365,
          "Shap Attributions": -0.35579749941825867
         },
         {
          "Path Attributions": -0.21056010520418733,
          "Shap Attributions": -0.414281964302063
         },
         {
          "Path Attributions": -0.5059783071014353,
          "Shap Attributions": -0.46622779965400696
         },
         {
          "Path Attributions": 0.47889777771078346,
          "Shap Attributions": 0.5980703234672546
         },
         {
          "Path Attributions": -0.726941955323059,
          "Shap Attributions": -0.6803487539291382
         },
         {
          "Path Attributions": 0.2215025893869836,
          "Shap Attributions": 0.2922420799732208
         },
         {
          "Path Attributions": 1.482457517106678,
          "Shap Attributions": 1.622094988822937
         },
         {
          "Path Attributions": 0.9654096587802257,
          "Shap Attributions": 0.9003475904464722
         },
         {
          "Path Attributions": 0.4129357882228656,
          "Shap Attributions": 0.46913257241249084
         },
         {
          "Path Attributions": -0.31431120913108274,
          "Shap Attributions": -0.21236158907413483
         },
         {
          "Path Attributions": -0.3005720247566184,
          "Shap Attributions": -0.35924413800239563
         },
         {
          "Path Attributions": -1.0045735052014826,
          "Shap Attributions": -1.161686897277832
         },
         {
          "Path Attributions": -2.5146902495316135,
          "Shap Attributions": -2.2664058208465576
         },
         {
          "Path Attributions": 0.0571730476582848,
          "Shap Attributions": 0.06923765689134598
         },
         {
          "Path Attributions": 1.7291076622311,
          "Shap Attributions": 1.9355909824371338
         },
         {
          "Path Attributions": -0.7527910560292043,
          "Shap Attributions": -0.6621140837669373
         },
         {
          "Path Attributions": -1.0082411927965393,
          "Shap Attributions": -0.8703034520149231
         },
         {
          "Path Attributions": -1.0803557104541457,
          "Shap Attributions": -1.0101432800292969
         },
         {
          "Path Attributions": 0.3019210253723404,
          "Shap Attributions": 0.39649930596351624
         },
         {
          "Path Attributions": -1.0001322569527415,
          "Shap Attributions": -1.0438895225524902
         },
         {
          "Path Attributions": 1.1709073558710568,
          "Shap Attributions": 1.366753339767456
         },
         {
          "Path Attributions": -0.4722520539052557,
          "Shap Attributions": -0.29613617062568665
         },
         {
          "Path Attributions": 0.04324679186782229,
          "Shap Attributions": 0.08626964688301086
         },
         {
          "Path Attributions": -0.39338582576728515,
          "Shap Attributions": -0.49261990189552307
         },
         {
          "Path Attributions": 1.5640058528510263,
          "Shap Attributions": 1.8045240640640259
         },
         {
          "Path Attributions": 2.7860469961908136,
          "Shap Attributions": 3.2661025524139404
         },
         {
          "Path Attributions": 0.06911757290828748,
          "Shap Attributions": 0.1590801626443863
         },
         {
          "Path Attributions": -3.3990266094427506,
          "Shap Attributions": -3.5569581985473633
         },
         {
          "Path Attributions": -1.3006866722815,
          "Shap Attributions": -1.2591508626937866
         },
         {
          "Path Attributions": -0.7695059417698201,
          "Shap Attributions": -0.7067543268203735
         },
         {
          "Path Attributions": -0.3594978306919219,
          "Shap Attributions": -0.31978461146354675
         },
         {
          "Path Attributions": 0.3166284779057336,
          "Shap Attributions": 0.4767526388168335
         },
         {
          "Path Attributions": 5.211178155521863,
          "Shap Attributions": 5.55399227142334
         },
         {
          "Path Attributions": 1.3719681267453994,
          "Shap Attributions": 1.137845516204834
         },
         {
          "Path Attributions": -1.0262071503670238,
          "Shap Attributions": -0.9906480312347412
         },
         {
          "Path Attributions": 0.20716254000804912,
          "Shap Attributions": 0.21104931831359863
         },
         {
          "Path Attributions": -0.4507730799775005,
          "Shap Attributions": -0.40236878395080566
         },
         {
          "Path Attributions": 3.989497475706949,
          "Shap Attributions": 3.7429630756378174
         },
         {
          "Path Attributions": -1.8131486308850993,
          "Shap Attributions": -1.8835418224334717
         },
         {
          "Path Attributions": -0.4521298195277765,
          "Shap Attributions": -0.40755611658096313
         },
         {
          "Path Attributions": -2.130117967005413,
          "Shap Attributions": -1.9734526872634888
         },
         {
          "Path Attributions": -0.9635341175342301,
          "Shap Attributions": -0.9169906377792358
         },
         {
          "Path Attributions": -0.277425600545412,
          "Shap Attributions": -0.24977818131446838
         },
         {
          "Path Attributions": -0.7167884655626707,
          "Shap Attributions": -0.7205014824867249
         },
         {
          "Path Attributions": 0.24913352532553715,
          "Shap Attributions": 0.22185029089450836
         },
         {
          "Path Attributions": 2.651181307284773,
          "Shap Attributions": 2.5632500648498535
         },
         {
          "Path Attributions": 1.0934470674134014,
          "Shap Attributions": 0.9768343567848206
         },
         {
          "Path Attributions": 0.4566036141363808,
          "Shap Attributions": 0.5326536297798157
         },
         {
          "Path Attributions": -0.03315811525518585,
          "Shap Attributions": -0.09532716870307922
         },
         {
          "Path Attributions": -0.4764659908843952,
          "Shap Attributions": -0.20665252208709717
         },
         {
          "Path Attributions": -1.161795429757576,
          "Shap Attributions": -1.133201003074646
         },
         {
          "Path Attributions": -2.2223495980848846,
          "Shap Attributions": -2.011711597442627
         },
         {
          "Path Attributions": -0.25448866643817847,
          "Shap Attributions": -0.26877307891845703
         },
         {
          "Path Attributions": 2.1252425892980735,
          "Shap Attributions": 2.12846302986145
         },
         {
          "Path Attributions": -0.31881483347690626,
          "Shap Attributions": -0.27663660049438477
         },
         {
          "Path Attributions": 1.117776682789254,
          "Shap Attributions": 1.1986223459243774
         },
         {
          "Path Attributions": -0.9416181981708328,
          "Shap Attributions": -0.9757657647132874
         },
         {
          "Path Attributions": -0.2072003260083459,
          "Shap Attributions": -0.21725578606128693
         },
         {
          "Path Attributions": -2.734216194774178,
          "Shap Attributions": -2.6937954425811768
         },
         {
          "Path Attributions": -0.5493679394679546,
          "Shap Attributions": -0.6687467098236084
         },
         {
          "Path Attributions": 0.03538219417809462,
          "Shap Attributions": 0.0267029982060194
         },
         {
          "Path Attributions": 0.11472118983587398,
          "Shap Attributions": 0.06905076652765274
         },
         {
          "Path Attributions": -0.7442654063680094,
          "Shap Attributions": -0.881321132183075
         },
         {
          "Path Attributions": -1.2103503232598614,
          "Shap Attributions": -1.4032460451126099
         },
         {
          "Path Attributions": -1.226700951151275,
          "Shap Attributions": -1.2561016082763672
         },
         {
          "Path Attributions": -0.29483944903456566,
          "Shap Attributions": -0.2527438700199127
         },
         {
          "Path Attributions": 0.899878616209635,
          "Shap Attributions": 0.9871675372123718
         },
         {
          "Path Attributions": 3.6738086731902744,
          "Shap Attributions": 3.7528693675994873
         },
         {
          "Path Attributions": 1.4621519194213413,
          "Shap Attributions": 1.4589260816574097
         },
         {
          "Path Attributions": -0.5296176179468165,
          "Shap Attributions": -0.6477270722389221
         },
         {
          "Path Attributions": 0.40388515381971185,
          "Shap Attributions": 0.329818993806839
         },
         {
          "Path Attributions": -2.236473534304104,
          "Shap Attributions": -2.682088613510132
         },
         {
          "Path Attributions": 1.0665869125469476,
          "Shap Attributions": 1.0614885091781616
         },
         {
          "Path Attributions": 0.26987288831639533,
          "Shap Attributions": 0.28195351362228394
         },
         {
          "Path Attributions": -0.19938795989553051,
          "Shap Attributions": -0.18506047129631042
         },
         {
          "Path Attributions": -0.4317773251515123,
          "Shap Attributions": -0.3981578052043915
         },
         {
          "Path Attributions": 0.46319762391435054,
          "Shap Attributions": 0.43493443727493286
         },
         {
          "Path Attributions": -1.307891231145506,
          "Shap Attributions": -1.1864272356033325
         },
         {
          "Path Attributions": -0.21987530379218284,
          "Shap Attributions": -0.259473592042923
         },
         {
          "Path Attributions": 1.214895164201797,
          "Shap Attributions": 1.2976690530776978
         },
         {
          "Path Attributions": -0.8129956598288859,
          "Shap Attributions": -0.7704397439956665
         },
         {
          "Path Attributions": -0.9117655760991414,
          "Shap Attributions": -0.8899886608123779
         },
         {
          "Path Attributions": -0.6026174726664378,
          "Shap Attributions": -0.7981125116348267
         },
         {
          "Path Attributions": -1.2953265036885317,
          "Shap Attributions": -1.2915040254592896
         },
         {
          "Path Attributions": 0.639108499091539,
          "Shap Attributions": 0.6451056599617004
         },
         {
          "Path Attributions": 0.4598509822787334,
          "Shap Attributions": 0.5255568027496338
         },
         {
          "Path Attributions": 0.29951807666747543,
          "Shap Attributions": 0.28865793347358704
         },
         {
          "Path Attributions": -0.24347133310144797,
          "Shap Attributions": -0.22954843938350677
         },
         {
          "Path Attributions": -0.447610901498321,
          "Shap Attributions": -0.6253042221069336
         },
         {
          "Path Attributions": -0.26183178093858367,
          "Shap Attributions": -0.24587342143058777
         },
         {
          "Path Attributions": -2.03786509587329,
          "Shap Attributions": -2.286867141723633
         },
         {
          "Path Attributions": -0.029487915606404312,
          "Shap Attributions": -0.009419252164661884
         },
         {
          "Path Attributions": -0.7142978461497521,
          "Shap Attributions": -0.7785855531692505
         },
         {
          "Path Attributions": -0.8908583072196681,
          "Shap Attributions": -0.7919003367424011
         },
         {
          "Path Attributions": -0.5124341429673974,
          "Shap Attributions": -0.44372227787971497
         },
         {
          "Path Attributions": -0.352554622236845,
          "Shap Attributions": -0.4662656784057617
         },
         {
          "Path Attributions": -0.239707280180349,
          "Shap Attributions": -0.22285670042037964
         },
         {
          "Path Attributions": -0.7147777668254716,
          "Shap Attributions": -0.9529498815536499
         },
         {
          "Path Attributions": 0.7263379810449948,
          "Shap Attributions": 0.8104403018951416
         },
         {
          "Path Attributions": 0.42491079445336016,
          "Shap Attributions": 0.3495139479637146
         },
         {
          "Path Attributions": -0.23599139235000025,
          "Shap Attributions": -0.23940446972846985
         },
         {
          "Path Attributions": -0.4303816924139168,
          "Shap Attributions": -0.4313420057296753
         },
         {
          "Path Attributions": -2.2892852447349883,
          "Shap Attributions": -2.146881341934204
         },
         {
          "Path Attributions": -1.9494799728898855,
          "Shap Attributions": -1.724755048751831
         },
         {
          "Path Attributions": -0.08380418249500408,
          "Shap Attributions": -0.10663656890392303
         },
         {
          "Path Attributions": 2.9108916384664494,
          "Shap Attributions": 2.7845535278320312
         },
         {
          "Path Attributions": -0.8433273675541176,
          "Shap Attributions": -0.8795468211174011
         },
         {
          "Path Attributions": -1.325497276863548,
          "Shap Attributions": -1.3154914379119873
         },
         {
          "Path Attributions": -0.9255929790275619,
          "Shap Attributions": -0.8123835921287537
         },
         {
          "Path Attributions": 0.1386408019794391,
          "Shap Attributions": 0.10720709711313248
         },
         {
          "Path Attributions": -3.706518738990325,
          "Shap Attributions": -3.6494007110595703
         },
         {
          "Path Attributions": 1.4264421501964133,
          "Shap Attributions": 1.3250735998153687
         },
         {
          "Path Attributions": -0.05812820139842797,
          "Shap Attributions": -0.07275409996509552
         },
         {
          "Path Attributions": 0.31498699911939265,
          "Shap Attributions": 0.1812170296907425
         },
         {
          "Path Attributions": -0.3521701136072912,
          "Shap Attributions": -0.3951435983181
         },
         {
          "Path Attributions": 1.6514738187824267,
          "Shap Attributions": 1.4690206050872803
         },
         {
          "Path Attributions": 10.546612522475662,
          "Shap Attributions": 10.066344261169434
         },
         {
          "Path Attributions": -0.24758440354348793,
          "Shap Attributions": -0.38623011112213135
         },
         {
          "Path Attributions": 0.3168208954078566,
          "Shap Attributions": 0.4786774516105652
         },
         {
          "Path Attributions": -1.5244190854130506,
          "Shap Attributions": -1.5879675149917603
         },
         {
          "Path Attributions": 0.5595828038237374,
          "Shap Attributions": 0.37314000725746155
         },
         {
          "Path Attributions": 0.08141965303767434,
          "Shap Attributions": -0.00928888563066721
         },
         {
          "Path Attributions": 0.5931281158955416,
          "Shap Attributions": 0.5659360885620117
         },
         {
          "Path Attributions": 5.461462519707562,
          "Shap Attributions": 5.17372989654541
         },
         {
          "Path Attributions": -3.537634677312562,
          "Shap Attributions": -3.522972822189331
         },
         {
          "Path Attributions": -0.0006957340490805147,
          "Shap Attributions": 0.06858780980110168
         },
         {
          "Path Attributions": 0.3175144338993011,
          "Shap Attributions": 0.45633164048194885
         },
         {
          "Path Attributions": -0.8212469932526552,
          "Shap Attributions": -0.9648153781890869
         },
         {
          "Path Attributions": -1.7576675784957123,
          "Shap Attributions": -1.917942762374878
         },
         {
          "Path Attributions": -1.9568922724611555,
          "Shap Attributions": -2.0320374965667725
         },
         {
          "Path Attributions": 0.6862934670202075,
          "Shap Attributions": 0.7868759632110596
         },
         {
          "Path Attributions": 2.0853226922807604,
          "Shap Attributions": 2.1687519550323486
         },
         {
          "Path Attributions": 3.6009522940912464,
          "Shap Attributions": 3.807891845703125
         },
         {
          "Path Attributions": 2.0089304170340974,
          "Shap Attributions": 2.2399725914001465
         },
         {
          "Path Attributions": 0.11329522137765564,
          "Shap Attributions": 0.13980120420455933
         },
         {
          "Path Attributions": -1.629793139848601,
          "Shap Attributions": -1.6290730237960815
         },
         {
          "Path Attributions": -2.084753424449226,
          "Shap Attributions": -2.526998996734619
         },
         {
          "Path Attributions": 1.0707470017828455,
          "Shap Attributions": 0.8651724457740784
         },
         {
          "Path Attributions": -0.8246994158741545,
          "Shap Attributions": -0.7947332859039307
         },
         {
          "Path Attributions": 0.04991633724137052,
          "Shap Attributions": 0.009421794675290585
         },
         {
          "Path Attributions": -0.46787148785002625,
          "Shap Attributions": -0.45152729749679565
         },
         {
          "Path Attributions": 3.587746554039474,
          "Shap Attributions": 3.3256006240844727
         },
         {
          "Path Attributions": -2.3990728763265605,
          "Shap Attributions": -2.334615468978882
         },
         {
          "Path Attributions": -0.49782405690991355,
          "Shap Attributions": -0.5265987515449524
         },
         {
          "Path Attributions": -3.2929248682733077,
          "Shap Attributions": -3.1085774898529053
         },
         {
          "Path Attributions": -0.8105780535364613,
          "Shap Attributions": -0.8125559687614441
         },
         {
          "Path Attributions": -0.6938073166001602,
          "Shap Attributions": -0.76823890209198
         },
         {
          "Path Attributions": -0.7951534254401589,
          "Shap Attributions": -0.7652605772018433
         },
         {
          "Path Attributions": 0.29238488447398847,
          "Shap Attributions": 0.24139651656150818
         },
         {
          "Path Attributions": 1.2829393365681319,
          "Shap Attributions": 1.3303474187850952
         },
         {
          "Path Attributions": 1.229991446638041,
          "Shap Attributions": 1.2744989395141602
         },
         {
          "Path Attributions": 0.19822495355271427,
          "Shap Attributions": 0.16328895092010498
         },
         {
          "Path Attributions": -0.3589692362792403,
          "Shap Attributions": -0.3841004967689514
         },
         {
          "Path Attributions": -0.4069135945005293,
          "Shap Attributions": -0.27067112922668457
         },
         {
          "Path Attributions": 4.147365018426409,
          "Shap Attributions": 4.0266828536987305
         },
         {
          "Path Attributions": -0.5621574934199551,
          "Shap Attributions": -0.8379576206207275
         },
         {
          "Path Attributions": 0.6501621300697792,
          "Shap Attributions": 0.5648746490478516
         },
         {
          "Path Attributions": -2.3219638465135612,
          "Shap Attributions": -2.2153379917144775
         },
         {
          "Path Attributions": -0.7087256103202052,
          "Shap Attributions": -0.7715541124343872
         },
         {
          "Path Attributions": -0.3217175260245052,
          "Shap Attributions": -0.40676936507225037
         },
         {
          "Path Attributions": -0.9127194502435859,
          "Shap Attributions": -0.9239060878753662
         },
         {
          "Path Attributions": 0.15881526524347672,
          "Shap Attributions": 0.14841574430465698
         },
         {
          "Path Attributions": 2.968445591614778,
          "Shap Attributions": 2.872251272201538
         },
         {
          "Path Attributions": 1.1628983667500525,
          "Shap Attributions": 1.2722171545028687
         },
         {
          "Path Attributions": 0.4431034462099992,
          "Shap Attributions": 0.40273839235305786
         },
         {
          "Path Attributions": 0.8568946835592951,
          "Shap Attributions": 0.9254566431045532
         },
         {
          "Path Attributions": -0.1476561928258079,
          "Shap Attributions": -0.3645518124103546
         },
         {
          "Path Attributions": 2.1818930576026623,
          "Shap Attributions": 2.238823175430298
         },
         {
          "Path Attributions": -1.8855382578596955,
          "Shap Attributions": -2.0953047275543213
         },
         {
          "Path Attributions": 0.23107520592288913,
          "Shap Attributions": 0.16626182198524475
         },
         {
          "Path Attributions": -2.6267894030970713,
          "Shap Attributions": -2.732726812362671
         },
         {
          "Path Attributions": -0.44869869448730987,
          "Shap Attributions": -0.375064879655838
         },
         {
          "Path Attributions": -1.1858162014793252,
          "Shap Attributions": -1.1101130247116089
         },
         {
          "Path Attributions": 0.37847445894426274,
          "Shap Attributions": 0.2949255108833313
         },
         {
          "Path Attributions": -0.29723865950448697,
          "Shap Attributions": -0.3195967376232147
         },
         {
          "Path Attributions": 1.0341301702771264,
          "Shap Attributions": 1.1062893867492676
         },
         {
          "Path Attributions": -1.4026129160337342,
          "Shap Attributions": -1.3330955505371094
         },
         {
          "Path Attributions": -0.001538139099306123,
          "Shap Attributions": 0.031751882284879684
         },
         {
          "Path Attributions": 0.19807309622736033,
          "Shap Attributions": 0.2645012438297272
         },
         {
          "Path Attributions": -0.7853730388075789,
          "Shap Attributions": -0.9154365062713623
         },
         {
          "Path Attributions": -1.2811895100299049,
          "Shap Attributions": -1.2729260921478271
         },
         {
          "Path Attributions": -1.7561765565892542,
          "Shap Attributions": -1.9931660890579224
         },
         {
          "Path Attributions": 0.009413006494639716,
          "Shap Attributions": 0.09761116653680801
         },
         {
          "Path Attributions": 0.005187241812779234,
          "Shap Attributions": -0.0003168208641000092
         },
         {
          "Path Attributions": 3.785870779608932,
          "Shap Attributions": 3.875877857208252
         },
         {
          "Path Attributions": 1.670974116667282,
          "Shap Attributions": 1.79352605342865
         },
         {
          "Path Attributions": -0.3180725023644723,
          "Shap Attributions": -0.3831579089164734
         },
         {
          "Path Attributions": 0.2810343022771295,
          "Shap Attributions": 0.31839919090270996
         },
         {
          "Path Attributions": -2.9939860795765876,
          "Shap Attributions": -3.118696689605713
         },
         {
          "Path Attributions": -0.6364621664163977,
          "Shap Attributions": -0.6427150368690491
         },
         {
          "Path Attributions": -0.1763907199535123,
          "Shap Attributions": -0.18147605657577515
         },
         {
          "Path Attributions": 0.38536395828185466,
          "Shap Attributions": 0.33118122816085815
         },
         {
          "Path Attributions": 11.934820923546635,
          "Shap Attributions": 11.921268463134766
         },
         {
          "Path Attributions": -4.122993498771842,
          "Shap Attributions": -4.131044387817383
         },
         {
          "Path Attributions": -1.3052929538323972,
          "Shap Attributions": -1.3887534141540527
         },
         {
          "Path Attributions": 0.11544337393656501,
          "Shap Attributions": 0.11923848092556
         },
         {
          "Path Attributions": 0.9224670550158797,
          "Shap Attributions": 0.908018946647644
         },
         {
          "Path Attributions": 4.591905260016215,
          "Shap Attributions": 4.620484352111816
         },
         {
          "Path Attributions": 2.598426156308906,
          "Shap Attributions": 2.580493211746216
         },
         {
          "Path Attributions": 0.6398289389411312,
          "Shap Attributions": 0.7050639986991882
         },
         {
          "Path Attributions": 0.5492512018004782,
          "Shap Attributions": 0.4959222674369812
         },
         {
          "Path Attributions": 1.1455099983182055,
          "Shap Attributions": 0.8715872764587402
         },
         {
          "Path Attributions": -3.8989889026303612,
          "Shap Attributions": -3.696451425552368
         },
         {
          "Path Attributions": -0.026528827837771888,
          "Shap Attributions": 0.0965111255645752
         },
         {
          "Path Attributions": 0.010560036523661552,
          "Shap Attributions": 0.08404766768217087
         },
         {
          "Path Attributions": -0.8206393430855081,
          "Shap Attributions": -0.8025704026222229
         },
         {
          "Path Attributions": -1.963783190939265,
          "Shap Attributions": -1.8186038732528687
         },
         {
          "Path Attributions": -0.676305389373529,
          "Shap Attributions": -0.2033093422651291
         },
         {
          "Path Attributions": 0.7809648991032317,
          "Shap Attributions": 0.8267361521720886
         },
         {
          "Path Attributions": 1.5006289729785873,
          "Shap Attributions": 1.4619801044464111
         },
         {
          "Path Attributions": 1.3186348420128424,
          "Shap Attributions": 1.1980265378952026
         },
         {
          "Path Attributions": 0.5922618225083839,
          "Shap Attributions": 0.6305176615715027
         },
         {
          "Path Attributions": -0.12260741357276612,
          "Shap Attributions": 0.04178129881620407
         },
         {
          "Path Attributions": -0.4082173844765668,
          "Shap Attributions": -0.40590229630470276
         },
         {
          "Path Attributions": -7.402082152282652,
          "Shap Attributions": -7.370588779449463
         },
         {
          "Path Attributions": -3.327267943081429,
          "Shap Attributions": -3.2428905963897705
         },
         {
          "Path Attributions": -0.06970999467536558,
          "Shap Attributions": -0.0419098362326622
         },
         {
          "Path Attributions": -0.18731202139213207,
          "Shap Attributions": -0.15199923515319824
         },
         {
          "Path Attributions": -0.7900049551196995,
          "Shap Attributions": -0.8228292465209961
         },
         {
          "Path Attributions": -1.293487749709548,
          "Shap Attributions": -1.2870798110961914
         },
         {
          "Path Attributions": -1.8744745694411902,
          "Shap Attributions": -1.9305540323257446
         },
         {
          "Path Attributions": -0.8533044466079706,
          "Shap Attributions": -0.8586665391921997
         },
         {
          "Path Attributions": 2.373584729806724,
          "Shap Attributions": 2.3856773376464844
         },
         {
          "Path Attributions": 1.9725708556004613,
          "Shap Attributions": 2.1586196422576904
         },
         {
          "Path Attributions": 0.7025571216711131,
          "Shap Attributions": 0.9092661738395691
         },
         {
          "Path Attributions": -0.3569619986741905,
          "Shap Attributions": -0.2390144020318985
         },
         {
          "Path Attributions": -1.814956956286217,
          "Shap Attributions": -1.6284337043762207
         },
         {
          "Path Attributions": -2.4532192265219965,
          "Shap Attributions": -2.5572242736816406
         },
         {
          "Path Attributions": 1.12238045054558,
          "Shap Attributions": 1.1604121923446655
         },
         {
          "Path Attributions": 0.4033783348775049,
          "Shap Attributions": 0.588290274143219
         },
         {
          "Path Attributions": 0.4019408648336979,
          "Shap Attributions": 0.3189900517463684
         },
         {
          "Path Attributions": -0.4245750058250067,
          "Shap Attributions": -0.3846984803676605
         },
         {
          "Path Attributions": 0.7662991439701072,
          "Shap Attributions": 0.8607460856437683
         },
         {
          "Path Attributions": -2.477624731008007,
          "Shap Attributions": -2.4030022621154785
         },
         {
          "Path Attributions": -0.4752136977491335,
          "Shap Attributions": -0.45213478803634644
         },
         {
          "Path Attributions": 0.21305799213206203,
          "Shap Attributions": 0.2913982570171356
         },
         {
          "Path Attributions": -0.4855148857732016,
          "Shap Attributions": -0.5652252435684204
         },
         {
          "Path Attributions": 0.17767252332594136,
          "Shap Attributions": 0.1302812099456787
         },
         {
          "Path Attributions": -0.8365551161796773,
          "Shap Attributions": -0.9927690625190735
         },
         {
          "Path Attributions": -0.16554574222721177,
          "Shap Attributions": -0.1671312302350998
         },
         {
          "Path Attributions": 0.10209203559063097,
          "Shap Attributions": 0.09443771839141846
         },
         {
          "Path Attributions": 0.7833470523119729,
          "Shap Attributions": 0.8280749320983887
         },
         {
          "Path Attributions": -0.8812920703744616,
          "Shap Attributions": -0.8788355588912964
         },
         {
          "Path Attributions": -0.12451633013428415,
          "Shap Attributions": -0.14708217978477478
         },
         {
          "Path Attributions": -0.44883279894927,
          "Shap Attributions": -0.4883733093738556
         },
         {
          "Path Attributions": 2.950506478366092,
          "Shap Attributions": 2.9675562381744385
         },
         {
          "Path Attributions": -3.0568916330320404,
          "Shap Attributions": -2.921278238296509
         },
         {
          "Path Attributions": -0.4850075930457236,
          "Shap Attributions": -0.5157354474067688
         },
         {
          "Path Attributions": -2.685364850380262,
          "Shap Attributions": -2.56825852394104
         },
         {
          "Path Attributions": -0.6822840108445098,
          "Shap Attributions": -0.702678382396698
         },
         {
          "Path Attributions": -0.7276750546214221,
          "Shap Attributions": -0.6776690483093262
         },
         {
          "Path Attributions": -0.9057812549064497,
          "Shap Attributions": -0.9330381155014038
         },
         {
          "Path Attributions": -0.045504406816231385,
          "Shap Attributions": -0.038465406745672226
         },
         {
          "Path Attributions": -2.931738374660098,
          "Shap Attributions": -2.703117609024048
         },
         {
          "Path Attributions": 0.9340645186801784,
          "Shap Attributions": 0.9501404762268066
         },
         {
          "Path Attributions": -1.1128586063090602,
          "Shap Attributions": -1.0762337446212769
         },
         {
          "Path Attributions": -0.04570961159034638,
          "Shap Attributions": -0.10722285509109497
         },
         {
          "Path Attributions": -0.3301819858298,
          "Shap Attributions": -0.49926385283470154
         },
         {
          "Path Attributions": 4.930612560711692,
          "Shap Attributions": 4.825839042663574
         },
         {
          "Path Attributions": -3.12447574698858,
          "Shap Attributions": -2.969924211502075
         },
         {
          "Path Attributions": 0.609830746571829,
          "Shap Attributions": 0.5506178736686707
         },
         {
          "Path Attributions": -3.8181153078725885,
          "Shap Attributions": -3.84183406829834
         },
         {
          "Path Attributions": -0.516912284070238,
          "Shap Attributions": -0.607048511505127
         },
         {
          "Path Attributions": -0.375168757569466,
          "Shap Attributions": -0.4670855700969696
         },
         {
          "Path Attributions": 0.14795001760204557,
          "Shap Attributions": 0.0014728980604559183
         },
         {
          "Path Attributions": 0.34728409871889243,
          "Shap Attributions": 0.2610946297645569
         },
         {
          "Path Attributions": 0.5206341624335457,
          "Shap Attributions": 0.5958806872367859
         },
         {
          "Path Attributions": -1.4022512417722992,
          "Shap Attributions": -1.4538894891738892
         },
         {
          "Path Attributions": 0.064907073297918,
          "Shap Attributions": 0.06627613306045532
         },
         {
          "Path Attributions": 0.1020615208523042,
          "Shap Attributions": 0.15822137892246246
         },
         {
          "Path Attributions": -0.8993167317010622,
          "Shap Attributions": -0.8151305913925171
         },
         {
          "Path Attributions": 0.028583881663474767,
          "Shap Attributions": 0.017053989693522453
         },
         {
          "Path Attributions": -1.7001425354544175,
          "Shap Attributions": -1.6457873582839966
         },
         {
          "Path Attributions": -0.833042168620015,
          "Shap Attributions": -0.8470624685287476
         },
         {
          "Path Attributions": 0.21620937486373212,
          "Shap Attributions": 0.15278330445289612
         },
         {
          "Path Attributions": 3.5192316683245517,
          "Shap Attributions": 3.938847303390503
         },
         {
          "Path Attributions": 1.5418980304517602,
          "Shap Attributions": 1.9761364459991455
         },
         {
          "Path Attributions": -0.5230227732259344,
          "Shap Attributions": -0.4419592320919037
         },
         {
          "Path Attributions": 0.5549122500648409,
          "Shap Attributions": 0.5374491214752197
         },
         {
          "Path Attributions": 1.5196447360354364,
          "Shap Attributions": 1.3533613681793213
         },
         {
          "Path Attributions": 0.6678613352467575,
          "Shap Attributions": 0.6415765285491943
         },
         {
          "Path Attributions": -0.17092556806712597,
          "Shap Attributions": -0.13197992742061615
         },
         {
          "Path Attributions": -0.2680194142096022,
          "Shap Attributions": -0.25255268812179565
         },
         {
          "Path Attributions": 6.849246520310559,
          "Shap Attributions": 6.278938293457031
         },
         {
          "Path Attributions": 0.8221566144474912,
          "Shap Attributions": 0.6752205491065979
         },
         {
          "Path Attributions": 1.6059641470099983,
          "Shap Attributions": 1.2167627811431885
         },
         {
          "Path Attributions": -0.3223986789146092,
          "Shap Attributions": -0.33922430872917175
         },
         {
          "Path Attributions": 0.2770687139217834,
          "Shap Attributions": 0.46464717388153076
         },
         {
          "Path Attributions": -1.1038299739147983,
          "Shap Attributions": -0.9970960021018982
         },
         {
          "Path Attributions": -1.1530077974513409,
          "Shap Attributions": -1.0705472230911255
         },
         {
          "Path Attributions": -0.7769580480885845,
          "Shap Attributions": -0.7616532444953918
         },
         {
          "Path Attributions": 0.3619801365117026,
          "Shap Attributions": 0.36834269762039185
         },
         {
          "Path Attributions": 2.0075880216369377,
          "Shap Attributions": 1.7451300621032715
         },
         {
          "Path Attributions": 1.115160888254305,
          "Shap Attributions": 1.06598961353302
         },
         {
          "Path Attributions": -0.13536943023755527,
          "Shap Attributions": -0.07706321030855179
         },
         {
          "Path Attributions": 0.1334603310560764,
          "Shap Attributions": 0.1539798229932785
         },
         {
          "Path Attributions": -0.5411085466213444,
          "Shap Attributions": -0.4908667802810669
         },
         {
          "Path Attributions": 4.333018956941315,
          "Shap Attributions": 4.399612903594971
         },
         {
          "Path Attributions": 1.4420720320316878,
          "Shap Attributions": 1.5760080814361572
         },
         {
          "Path Attributions": -0.5272436595390367,
          "Shap Attributions": -0.4108280837535858
         },
         {
          "Path Attributions": -4.576179805721322,
          "Shap Attributions": -4.348609447479248
         },
         {
          "Path Attributions": -1.045735288906694,
          "Shap Attributions": -0.9409382939338684
         },
         {
          "Path Attributions": 0.03763592158014973,
          "Shap Attributions": 0.1312117576599121
         },
         {
          "Path Attributions": -0.3561583422345025,
          "Shap Attributions": -0.2995586097240448
         },
         {
          "Path Attributions": 0.3006911254026045,
          "Shap Attributions": 0.3285275399684906
         },
         {
          "Path Attributions": 4.262855514412381,
          "Shap Attributions": 4.2630228996276855
         },
         {
          "Path Attributions": -2.6646263346718713,
          "Shap Attributions": -2.578841209411621
         },
         {
          "Path Attributions": -0.09779366050636834,
          "Shap Attributions": -0.0832476019859314
         },
         {
          "Path Attributions": -0.23576225234092227,
          "Shap Attributions": -0.34352537989616394
         },
         {
          "Path Attributions": -0.5407791125785905,
          "Shap Attributions": -0.7077935338020325
         },
         {
          "Path Attributions": -3.6873652913272035,
          "Shap Attributions": -3.645611047744751
         },
         {
          "Path Attributions": -1.5776377208484116,
          "Shap Attributions": -1.430134654045105
         },
         {
          "Path Attributions": 0.9819219740439528,
          "Shap Attributions": 0.7581831216812134
         },
         {
          "Path Attributions": 2.3206370434692682,
          "Shap Attributions": 2.2109100818634033
         },
         {
          "Path Attributions": 1.505407008919388,
          "Shap Attributions": 1.2964622974395752
         },
         {
          "Path Attributions": 0.1445457103983266,
          "Shap Attributions": -0.010033562779426575
         },
         {
          "Path Attributions": -0.7003137189867722,
          "Shap Attributions": -0.650240957736969
         },
         {
          "Path Attributions": -0.4381597149561988,
          "Shap Attributions": -0.5380038619041443
         },
         {
          "Path Attributions": -6.742087082499862,
          "Shap Attributions": -6.531614780426025
         },
         {
          "Path Attributions": 1.1334942733615636,
          "Shap Attributions": 1.0933455228805542
         },
         {
          "Path Attributions": -0.3983286674286639,
          "Shap Attributions": -0.3870719075202942
         },
         {
          "Path Attributions": 0.1811862608327472,
          "Shap Attributions": 0.13139204680919647
         },
         {
          "Path Attributions": -0.37008408762968137,
          "Shap Attributions": -0.45236337184906006
         },
         {
          "Path Attributions": 4.042923833352477,
          "Shap Attributions": 4.033612251281738
         },
         {
          "Path Attributions": -3.1139192332987506,
          "Shap Attributions": -2.807015895843506
         },
         {
          "Path Attributions": 0.09136120646430858,
          "Shap Attributions": 0.010159928351640701
         },
         {
          "Path Attributions": -2.879960351704717,
          "Shap Attributions": -2.98227858543396
         },
         {
          "Path Attributions": -0.4285717882713129,
          "Shap Attributions": -0.6691118478775024
         },
         {
          "Path Attributions": -0.584771229097713,
          "Shap Attributions": -0.7078826427459717
         },
         {
          "Path Attributions": -0.8242040006381047,
          "Shap Attributions": -0.902732253074646
         },
         {
          "Path Attributions": 0.3811158603691564,
          "Shap Attributions": 0.36829492449760437
         },
         {
          "Path Attributions": 1.5604655864833523,
          "Shap Attributions": 1.8602018356323242
         },
         {
          "Path Attributions": 1.1628281770265756,
          "Shap Attributions": 1.2623515129089355
         },
         {
          "Path Attributions": 0.39475337107043645,
          "Shap Attributions": 0.23397059738636017
         },
         {
          "Path Attributions": -0.4037918432282098,
          "Shap Attributions": -0.3727315068244934
         },
         {
          "Path Attributions": -0.31866851212092134,
          "Shap Attributions": -0.4255940318107605
         },
         {
          "Path Attributions": -0.4261228932150942,
          "Shap Attributions": -0.4117134213447571
         },
         {
          "Path Attributions": -1.8942800939350604,
          "Shap Attributions": -2.222966194152832
         },
         {
          "Path Attributions": -0.6230662080280149,
          "Shap Attributions": -0.6362347602844238
         },
         {
          "Path Attributions": 1.1470284333776486,
          "Shap Attributions": 1.0150107145309448
         },
         {
          "Path Attributions": -1.1000548165338095,
          "Shap Attributions": -0.9990835785865784
         },
         {
          "Path Attributions": -1.2517016769339246,
          "Shap Attributions": -1.1942533254623413
         },
         {
          "Path Attributions": -0.4723418661220248,
          "Shap Attributions": -0.5298184752464294
         },
         {
          "Path Attributions": 0.17865753506080048,
          "Shap Attributions": 0.2057032734155655
         },
         {
          "Path Attributions": -0.24672427117957962,
          "Shap Attributions": -0.3567301034927368
         },
         {
          "Path Attributions": -3.097274497570929,
          "Shap Attributions": -3.200174331665039
         },
         {
          "Path Attributions": -0.08017361529105788,
          "Shap Attributions": -0.08146465569734573
         },
         {
          "Path Attributions": -0.20745351921569488,
          "Shap Attributions": -0.1358446180820465
         },
         {
          "Path Attributions": -0.62135105196463,
          "Shap Attributions": -0.7296481132507324
         },
         {
          "Path Attributions": -1.3354915842118278,
          "Shap Attributions": -1.5883331298828125
         },
         {
          "Path Attributions": 0.2515389428564492,
          "Shap Attributions": 0.27118244767189026
         },
         {
          "Path Attributions": 0.9458274690994649,
          "Shap Attributions": 1.1225420236587524
         },
         {
          "Path Attributions": 2.18389308699986,
          "Shap Attributions": 2.3581860065460205
         },
         {
          "Path Attributions": 2.6489012652630293,
          "Shap Attributions": 2.9205994606018066
         },
         {
          "Path Attributions": 0.1675902438850173,
          "Shap Attributions": 0.38231828808784485
         },
         {
          "Path Attributions": -1.0846541549662072,
          "Shap Attributions": -0.9427258372306824
         },
         {
          "Path Attributions": -1.1668778367096946,
          "Shap Attributions": -0.9811501502990723
         },
         {
          "Path Attributions": -5.3826105733555405,
          "Shap Attributions": -5.608342170715332
         },
         {
          "Path Attributions": 0.8447281707356933,
          "Shap Attributions": 0.9278575778007507
         },
         {
          "Path Attributions": -0.07885521993096087,
          "Shap Attributions": -0.06645652651786804
         },
         {
          "Path Attributions": -0.22015837161581644,
          "Shap Attributions": -0.1869269460439682
         },
         {
          "Path Attributions": 6.463943442967067,
          "Shap Attributions": 6.206133842468262
         },
         {
          "Path Attributions": 2.487908204645078,
          "Shap Attributions": 2.5342791080474854
         },
         {
          "Path Attributions": 1.6519825558055017,
          "Shap Attributions": 1.7215873003005981
         },
         {
          "Path Attributions": -0.3384901439641253,
          "Shap Attributions": -0.3039919137954712
         },
         {
          "Path Attributions": -1.6501853343560344,
          "Shap Attributions": -1.7119029760360718
         },
         {
          "Path Attributions": -2.0805122104487017,
          "Shap Attributions": -2.048312187194824
         },
         {
          "Path Attributions": -1.2288655521239333,
          "Shap Attributions": -1.1227383613586426
         },
         {
          "Path Attributions": -0.861069434647699,
          "Shap Attributions": -0.8196561336517334
         },
         {
          "Path Attributions": 0.49824608980161983,
          "Shap Attributions": 0.5962598323822021
         },
         {
          "Path Attributions": 7.03892636299675,
          "Shap Attributions": 6.861355781555176
         },
         {
          "Path Attributions": 1.192555101811262,
          "Shap Attributions": 1.1610462665557861
         },
         {
          "Path Attributions": 0.16860138214513737,
          "Shap Attributions": 0.1817212849855423
         },
         {
          "Path Attributions": -0.3475286057542173,
          "Shap Attributions": -0.3395104706287384
         },
         {
          "Path Attributions": -0.33715342042168267,
          "Shap Attributions": -0.3715151250362396
         },
         {
          "Path Attributions": 3.9132638901502714,
          "Shap Attributions": 3.856872320175171
         },
         {
          "Path Attributions": -1.7125739535036626,
          "Shap Attributions": -1.7097053527832031
         },
         {
          "Path Attributions": 0.6832527165847896,
          "Shap Attributions": 0.8867668509483337
         },
         {
          "Path Attributions": -2.241688814696277,
          "Shap Attributions": -2.1838085651397705
         },
         {
          "Path Attributions": -0.4906161910690705,
          "Shap Attributions": -0.3570232689380646
         },
         {
          "Path Attributions": -0.24493622475193716,
          "Shap Attributions": -0.11894134432077408
         },
         {
          "Path Attributions": -0.8889960312193191,
          "Shap Attributions": -1.062800645828247
         },
         {
          "Path Attributions": -0.05328569774061119,
          "Shap Attributions": -0.015170279890298843
         },
         {
          "Path Attributions": 2.266411453285798,
          "Shap Attributions": 2.0938608646392822
         },
         {
          "Path Attributions": -3.809906146662101,
          "Shap Attributions": -4.0525054931640625
         },
         {
          "Path Attributions": -0.10259128987519855,
          "Shap Attributions": -0.13037756085395813
         },
         {
          "Path Attributions": 0.16271573859770316,
          "Shap Attributions": 0.030863016843795776
         },
         {
          "Path Attributions": -0.897115243878166,
          "Shap Attributions": -0.7844160199165344
         },
         {
          "Path Attributions": -1.1485068338221083,
          "Shap Attributions": -1.1668883562088013
         },
         {
          "Path Attributions": -1.9950858487691208,
          "Shap Attributions": -2.1460230350494385
         },
         {
          "Path Attributions": -1.1744922523515242,
          "Shap Attributions": -1.229606032371521
         },
         {
          "Path Attributions": 0.8678550183416261,
          "Shap Attributions": 0.8652655482292175
         },
         {
          "Path Attributions": 3.4117941697293603,
          "Shap Attributions": 3.194478750228882
         },
         {
          "Path Attributions": 2.1072631331346843,
          "Shap Attributions": 1.7802608013153076
         },
         {
          "Path Attributions": 0.05588798326609277,
          "Shap Attributions": -0.1809520125389099
         },
         {
          "Path Attributions": 0.4506602495467756,
          "Shap Attributions": 0.3841065466403961
         },
         {
          "Path Attributions": -2.926595679899542,
          "Shap Attributions": -2.7542362213134766
         },
         {
          "Path Attributions": -4.879173134483287,
          "Shap Attributions": -5.087393760681152
         },
         {
          "Path Attributions": -0.02863328779119348,
          "Shap Attributions": -0.1455417424440384
         },
         {
          "Path Attributions": -0.632479933152028,
          "Shap Attributions": -0.6412910223007202
         },
         {
          "Path Attributions": -0.6823427950102131,
          "Shap Attributions": -0.8152629137039185
         },
         {
          "Path Attributions": -2.174202495914046,
          "Shap Attributions": -2.3616943359375
         },
         {
          "Path Attributions": 0.7796004925365956,
          "Shap Attributions": 0.21613091230392456
         },
         {
          "Path Attributions": -0.28958362649844255,
          "Shap Attributions": -0.3277043104171753
         },
         {
          "Path Attributions": 1.967169609524127,
          "Shap Attributions": 1.9649755954742432
         },
         {
          "Path Attributions": -0.7634103097203484,
          "Shap Attributions": -0.672447681427002
         },
         {
          "Path Attributions": -0.7565704197947475,
          "Shap Attributions": -0.7642216682434082
         },
         {
          "Path Attributions": 0.0032142942415859556,
          "Shap Attributions": -0.16212770342826843
         },
         {
          "Path Attributions": -0.09167870646437287,
          "Shap Attributions": -0.10093313455581665
         },
         {
          "Path Attributions": -5.975118536798417,
          "Shap Attributions": -6.354469299316406
         },
         {
          "Path Attributions": -0.1315690448894849,
          "Shap Attributions": -0.12083517014980316
         },
         {
          "Path Attributions": 0.48852360337756123,
          "Shap Attributions": 0.5461005568504333
         },
         {
          "Path Attributions": -0.5580919570393787,
          "Shap Attributions": -0.5381776690483093
         },
         {
          "Path Attributions": -0.11951528092995709,
          "Shap Attributions": -0.1874355673789978
         },
         {
          "Path Attributions": -4.116702988043047,
          "Shap Attributions": -4.196567535400391
         },
         {
          "Path Attributions": -2.511492311753705,
          "Shap Attributions": -2.408038854598999
         },
         {
          "Path Attributions": -0.6345705444754539,
          "Shap Attributions": -0.5919677019119263
         },
         {
          "Path Attributions": 3.1595301429041913,
          "Shap Attributions": 3.1377992630004883
         },
         {
          "Path Attributions": -0.39141253178823376,
          "Shap Attributions": -0.3638016879558563
         },
         {
          "Path Attributions": -0.9004604738140485,
          "Shap Attributions": -0.9144735932350159
         },
         {
          "Path Attributions": 1.3043207620546673,
          "Shap Attributions": 1.2734323740005493
         },
         {
          "Path Attributions": -0.47225556234732535,
          "Shap Attributions": -0.4210433065891266
         },
         {
          "Path Attributions": -3.0077672118111174,
          "Shap Attributions": -2.864755630493164
         },
         {
          "Path Attributions": 0.29197197757913523,
          "Shap Attributions": 0.24489425122737885
         },
         {
          "Path Attributions": 0.40641720157193817,
          "Shap Attributions": 0.4609353840351105
         },
         {
          "Path Attributions": -0.2014544640304514,
          "Shap Attributions": -0.22113075852394104
         },
         {
          "Path Attributions": -0.19525228944319953,
          "Shap Attributions": -0.06540432572364807
         },
         {
          "Path Attributions": -1.708659642147376,
          "Shap Attributions": -1.6981780529022217
         },
         {
          "Path Attributions": -2.6287359997004613,
          "Shap Attributions": -2.827807664871216
         },
         {
          "Path Attributions": -0.45436634834889056,
          "Shap Attributions": -0.45619916915893555
         },
         {
          "Path Attributions": 2.1027440604656182,
          "Shap Attributions": 2.0340664386749268
         },
         {
          "Path Attributions": -0.625442365511945,
          "Shap Attributions": -0.571654736995697
         },
         {
          "Path Attributions": -0.9924631200150993,
          "Shap Attributions": -0.9295852780342102
         },
         {
          "Path Attributions": 2.355327737756308,
          "Shap Attributions": 2.26845645904541
         },
         {
          "Path Attributions": -1.9800799420132442,
          "Shap Attributions": -1.97903311252594
         },
         {
          "Path Attributions": -0.45004726247355265,
          "Shap Attributions": -0.32706180214881897
         },
         {
          "Path Attributions": 0.8363976978660798,
          "Shap Attributions": 0.9602195620536804
         },
         {
          "Path Attributions": 0.07696092597910555,
          "Shap Attributions": 0.047591425478458405
         },
         {
          "Path Attributions": 2.4424124058856083,
          "Shap Attributions": 2.5131142139434814
         },
         {
          "Path Attributions": -0.7908101224770798,
          "Shap Attributions": -0.807708203792572
         },
         {
          "Path Attributions": -2.1194541709803656,
          "Shap Attributions": -1.763136863708496
         },
         {
          "Path Attributions": -2.2434455225198446,
          "Shap Attributions": -1.9521414041519165
         },
         {
          "Path Attributions": -0.11742641090336157,
          "Shap Attributions": -0.11749155074357986
         },
         {
          "Path Attributions": 2.055269833592664,
          "Shap Attributions": 1.8035374879837036
         },
         {
          "Path Attributions": -1.694626157552386,
          "Shap Attributions": -1.8710654973983765
         },
         {
          "Path Attributions": 0.7695263254509017,
          "Shap Attributions": 0.7515912055969238
         },
         {
          "Path Attributions": -0.6567860962973837,
          "Shap Attributions": -0.5559549331665039
         },
         {
          "Path Attributions": 0.2852787385654248,
          "Shap Attributions": 0.3539635241031647
         },
         {
          "Path Attributions": -1.326221708517789,
          "Shap Attributions": -1.0319292545318604
         },
         {
          "Path Attributions": 1.1522676232583904,
          "Shap Attributions": 1.0854332447052002
         },
         {
          "Path Attributions": -0.18075258212013123,
          "Shap Attributions": -0.28301674127578735
         },
         {
          "Path Attributions": 0.09412267843174538,
          "Shap Attributions": 0.26550397276878357
         },
         {
          "Path Attributions": -0.4052891721246242,
          "Shap Attributions": -0.4026325047016144
         },
         {
          "Path Attributions": 3.391153835958237,
          "Shap Attributions": 3.661665439605713
         },
         {
          "Path Attributions": 1.0726881459911501,
          "Shap Attributions": 1.4526753425598145
         },
         {
          "Path Attributions": -0.028974722379405123,
          "Shap Attributions": 0.12398184090852737
         },
         {
          "Path Attributions": -4.3160275375150094,
          "Shap Attributions": -4.392416954040527
         },
         {
          "Path Attributions": -1.2298713699927586,
          "Shap Attributions": -1.0708876848220825
         },
         {
          "Path Attributions": -0.3528063781770458,
          "Shap Attributions": -0.2100488841533661
         },
         {
          "Path Attributions": -0.25987727548554934,
          "Shap Attributions": -0.24395062029361725
         },
         {
          "Path Attributions": 0.3738868046860556,
          "Shap Attributions": 0.4678846299648285
         },
         {
          "Path Attributions": 3.474953232966198,
          "Shap Attributions": 3.4657514095306396
         },
         {
          "Path Attributions": 1.2485618606529398,
          "Shap Attributions": 1.452409267425537
         },
         {
          "Path Attributions": -0.5487032236569895,
          "Shap Attributions": -0.47949278354644775
         },
         {
          "Path Attributions": 0.6549465670953644,
          "Shap Attributions": 0.711016833782196
         },
         {
          "Path Attributions": -0.4825812313047874,
          "Shap Attributions": -0.3514570891857147
         },
         {
          "Path Attributions": 4.240434250113493,
          "Shap Attributions": 4.252293109893799
         },
         {
          "Path Attributions": 3.7516209258417805,
          "Shap Attributions": 3.6261236667633057
         },
         {
          "Path Attributions": -0.4528364394702337,
          "Shap Attributions": -0.4640011787414551
         },
         {
          "Path Attributions": -4.320528814055181,
          "Shap Attributions": -4.318752288818359
         },
         {
          "Path Attributions": -1.0450415472619516,
          "Shap Attributions": -0.9652311205863953
         },
         {
          "Path Attributions": 0.18553012829730545,
          "Shap Attributions": 0.37098684906959534
         },
         {
          "Path Attributions": -0.6032636186537901,
          "Shap Attributions": -0.5946921706199646
         },
         {
          "Path Attributions": 0.4270738309625979,
          "Shap Attributions": 0.44261616468429565
         },
         {
          "Path Attributions": 2.0733861896146775,
          "Shap Attributions": 2.1964035034179688
         },
         {
          "Path Attributions": 1.2840861259440068,
          "Shap Attributions": 1.1162166595458984
         },
         {
          "Path Attributions": 0.281708571041294,
          "Shap Attributions": 0.21741074323654175
         },
         {
          "Path Attributions": 0.6916192438615116,
          "Shap Attributions": 0.6523471474647522
         },
         {
          "Path Attributions": -0.26146355942994526,
          "Shap Attributions": -0.39106711745262146
         },
         {
          "Path Attributions": 2.835505170482478,
          "Shap Attributions": 2.8240222930908203
         },
         {
          "Path Attributions": -0.15735809489658262,
          "Shap Attributions": -0.10525315999984741
         },
         {
          "Path Attributions": -0.3545035365010702,
          "Shap Attributions": -0.4497075378894806
         },
         {
          "Path Attributions": -0.1131547609205637,
          "Shap Attributions": -0.16565890610218048
         },
         {
          "Path Attributions": -0.6935764984200444,
          "Shap Attributions": -0.7030584812164307
         },
         {
          "Path Attributions": 0.1213155983369075,
          "Shap Attributions": 0.08920248597860336
         },
         {
          "Path Attributions": -0.42043953131781375,
          "Shap Attributions": -0.4407205581665039
         },
         {
          "Path Attributions": -0.5356504470887431,
          "Shap Attributions": -0.5393674373626709
         },
         {
          "Path Attributions": 2.718775098806797,
          "Shap Attributions": 2.4922540187835693
         },
         {
          "Path Attributions": -2.7269195029711586,
          "Shap Attributions": -2.6123204231262207
         },
         {
          "Path Attributions": -0.02772374385249743,
          "Shap Attributions": 0.0221101101487875
         },
         {
          "Path Attributions": 0.22694993356027696,
          "Shap Attributions": 0.28197020292282104
         },
         {
          "Path Attributions": -1.157409169282761,
          "Shap Attributions": -1.0266451835632324
         },
         {
          "Path Attributions": -3.8678489992988894,
          "Shap Attributions": -3.836487054824829
         },
         {
          "Path Attributions": -1.6425331892439108,
          "Shap Attributions": -1.6274522542953491
         },
         {
          "Path Attributions": 1.1021082955838577,
          "Shap Attributions": 1.1597603559494019
         },
         {
          "Path Attributions": 1.570941722744612,
          "Shap Attributions": 1.4962269067764282
         },
         {
          "Path Attributions": 3.7349771852272355,
          "Shap Attributions": 3.648766279220581
         },
         {
          "Path Attributions": 1.5323863766642383,
          "Shap Attributions": 1.6062003374099731
         },
         {
          "Path Attributions": -0.35436630041712236,
          "Shap Attributions": -0.29490986466407776
         },
         {
          "Path Attributions": 0.4149687632088487,
          "Shap Attributions": 0.33868879079818726
         },
         {
          "Path Attributions": -6.066485506041191,
          "Shap Attributions": -5.80187463760376
         },
         {
          "Path Attributions": 1.075935276040225,
          "Shap Attributions": 1.2468289136886597
         },
         {
          "Path Attributions": -0.14568411803093895,
          "Shap Attributions": -0.16380709409713745
         },
         {
          "Path Attributions": -0.06323542531080509,
          "Shap Attributions": -0.12244422733783722
         },
         {
          "Path Attributions": -0.3250670886516386,
          "Shap Attributions": -0.29668354988098145
         },
         {
          "Path Attributions": 1.0449278778386968,
          "Shap Attributions": 1.1575584411621094
         },
         {
          "Path Attributions": 9.593746156876925,
          "Shap Attributions": 9.41434097290039
         },
         {
          "Path Attributions": 0.49524616311207587,
          "Shap Attributions": 0.39841169118881226
         },
         {
          "Path Attributions": 0.21377136374095404,
          "Shap Attributions": 0.17237485945224762
         },
         {
          "Path Attributions": -0.8058975246332348,
          "Shap Attributions": -0.8691021203994751
         },
         {
          "Path Attributions": -0.27668660902023606,
          "Shap Attributions": -0.28036218881607056
         },
         {
          "Path Attributions": 0.3606097158933663,
          "Shap Attributions": 0.24117828905582428
         },
         {
          "Path Attributions": 0.2028441203860644,
          "Shap Attributions": 0.17402639985084534
         },
         {
          "Path Attributions": 5.834970304393751,
          "Shap Attributions": 5.921034812927246
         },
         {
          "Path Attributions": 1.2056759917419784,
          "Shap Attributions": 1.0309555530548096
         },
         {
          "Path Attributions": 0.2309229663626977,
          "Shap Attributions": 0.24446572363376617
         },
         {
          "Path Attributions": 0.6536460538676736,
          "Shap Attributions": 0.7092034816741943
         },
         {
          "Path Attributions": -0.4087403435236528,
          "Shap Attributions": -0.226530060172081
         },
         {
          "Path Attributions": 1.2137851377763296,
          "Shap Attributions": 1.1922796964645386
         },
         {
          "Path Attributions": -0.5143309638708334,
          "Shap Attributions": -0.3529526889324188
         },
         {
          "Path Attributions": -0.22653560055929106,
          "Shap Attributions": -0.32055026292800903
         },
         {
          "Path Attributions": 0.8424600448402344,
          "Shap Attributions": 0.9151038527488708
         },
         {
          "Path Attributions": -1.2039409713063554,
          "Shap Attributions": -0.9926751852035522
         },
         {
          "Path Attributions": 0.45176660647922645,
          "Shap Attributions": 0.6280884742736816
         },
         {
          "Path Attributions": -0.36921194461742574,
          "Shap Attributions": -0.4060443937778473
         },
         {
          "Path Attributions": 0.33647259579914857,
          "Shap Attributions": 0.28454190492630005
         },
         {
          "Path Attributions": 3.8156272617078164,
          "Shap Attributions": 3.7254395484924316
         },
         {
          "Path Attributions": 1.1705356255650616,
          "Shap Attributions": 1.3435672521591187
         },
         {
          "Path Attributions": 0.5330580385420125,
          "Shap Attributions": 0.5068548321723938
         },
         {
          "Path Attributions": 1.1936899838672292,
          "Shap Attributions": 1.1760623455047607
         },
         {
          "Path Attributions": -0.12822086086734402,
          "Shap Attributions": -0.19238200783729553
         },
         {
          "Path Attributions": 1.1670537565086518,
          "Shap Attributions": 1.1608240604400635
         },
         {
          "Path Attributions": -1.79681299789478,
          "Shap Attributions": -1.8114309310913086
         },
         {
          "Path Attributions": -0.5331294207816664,
          "Shap Attributions": -0.49257197976112366
         },
         {
          "Path Attributions": 0.33761992242417527,
          "Shap Attributions": 0.3779977560043335
         },
         {
          "Path Attributions": 0.02833390619130089,
          "Shap Attributions": 0.1464596688747406
         },
         {
          "Path Attributions": 1.7864094583158108,
          "Shap Attributions": 1.8344179391860962
         },
         {
          "Path Attributions": -0.2697646387165661,
          "Shap Attributions": -0.39360636472702026
         },
         {
          "Path Attributions": 0.03273205279195441,
          "Shap Attributions": 0.01532719749957323
         },
         {
          "Path Attributions": -0.6729616242205307,
          "Shap Attributions": -0.6571518778800964
         },
         {
          "Path Attributions": 1.3057904033141954,
          "Shap Attributions": 1.1014043092727661
         },
         {
          "Path Attributions": -0.9163739333965325,
          "Shap Attributions": -0.9683539271354675
         },
         {
          "Path Attributions": 0.737960512909971,
          "Shap Attributions": 0.7972256541252136
         },
         {
          "Path Attributions": -0.45410192913248676,
          "Shap Attributions": -0.43240684270858765
         },
         {
          "Path Attributions": 2.229488721541865,
          "Shap Attributions": 1.9439791440963745
         },
         {
          "Path Attributions": 0.4804259750053325,
          "Shap Attributions": 0.584755003452301
         },
         {
          "Path Attributions": -0.3632211891393973,
          "Shap Attributions": -0.31220924854278564
         },
         {
          "Path Attributions": -0.07702593139668902,
          "Shap Attributions": 0.19409343600273132
         },
         {
          "Path Attributions": -1.2242101313590905,
          "Shap Attributions": -1.0229641199111938
         },
         {
          "Path Attributions": 0.2246707308488596,
          "Shap Attributions": 0.3863408863544464
         },
         {
          "Path Attributions": -0.6670187589665332,
          "Shap Attributions": -0.5971729159355164
         },
         {
          "Path Attributions": 0.4625037426138743,
          "Shap Attributions": 0.3373020887374878
         },
         {
          "Path Attributions": 1.6567509616902256,
          "Shap Attributions": 1.6389744281768799
         },
         {
          "Path Attributions": 1.0990168361278578,
          "Shap Attributions": 1.210120439529419
         },
         {
          "Path Attributions": 0.5015624645479818,
          "Shap Attributions": 0.5542949438095093
         },
         {
          "Path Attributions": -0.3143603876174382,
          "Shap Attributions": -0.23722749948501587
         },
         {
          "Path Attributions": -0.13975972317797714,
          "Shap Attributions": -0.3025788962841034
         },
         {
          "Path Attributions": -0.36811287337155446,
          "Shap Attributions": -0.31545934081077576
         },
         {
          "Path Attributions": -2.7082203928749595,
          "Shap Attributions": -2.608208656311035
         },
         {
          "Path Attributions": -0.598741279969611,
          "Shap Attributions": -0.534598171710968
         },
         {
          "Path Attributions": -0.5633499387501089,
          "Shap Attributions": -0.6442568898200989
         },
         {
          "Path Attributions": -0.09336201838459215,
          "Shap Attributions": -0.06442417949438095
         },
         {
          "Path Attributions": 0.03605966041366744,
          "Shap Attributions": 0.11714862287044525
         },
         {
          "Path Attributions": -0.7482226726497874,
          "Shap Attributions": -0.8300739526748657
         },
         {
          "Path Attributions": 0.24268212930293828,
          "Shap Attributions": 0.2543955147266388
         },
         {
          "Path Attributions": -1.8333695018023761,
          "Shap Attributions": -1.7532955408096313
         },
         {
          "Path Attributions": -1.3839746894475775,
          "Shap Attributions": -1.3301796913146973
         },
         {
          "Path Attributions": 0.07499580857118568,
          "Shap Attributions": 0.07448060065507889
         },
         {
          "Path Attributions": 0.30438412504519846,
          "Shap Attributions": 0.2908856272697449
         },
         {
          "Path Attributions": -1.0640797751873008,
          "Shap Attributions": -0.8469297289848328
         },
         {
          "Path Attributions": -4.201471835165833,
          "Shap Attributions": -4.1832661628723145
         },
         {
          "Path Attributions": -1.0879539393886966,
          "Shap Attributions": -0.9311783313751221
         },
         {
          "Path Attributions": 0.8144802914069801,
          "Shap Attributions": 0.7640261054039001
         },
         {
          "Path Attributions": 1.1259386297821756,
          "Shap Attributions": 0.9540001153945923
         },
         {
          "Path Attributions": 3.970708634782683,
          "Shap Attributions": 4.020190715789795
         },
         {
          "Path Attributions": 1.708972490347522,
          "Shap Attributions": 1.723344326019287
         },
         {
          "Path Attributions": -0.40368718083854566,
          "Shap Attributions": -0.40824243426322937
         },
         {
          "Path Attributions": 0.4743577576861073,
          "Shap Attributions": 0.5248003602027893
         },
         {
          "Path Attributions": 1.910267040767705,
          "Shap Attributions": 1.9649173021316528
         },
         {
          "Path Attributions": 1.1626705954140446,
          "Shap Attributions": 1.1655166149139404
         },
         {
          "Path Attributions": 0.34267788375142644,
          "Shap Attributions": 0.4284021258354187
         },
         {
          "Path Attributions": -0.2970084124125086,
          "Shap Attributions": -0.3204585313796997
         },
         {
          "Path Attributions": -0.16381607386779773,
          "Shap Attributions": -0.22846059501171112
         },
         {
          "Path Attributions": 1.4017316014622427,
          "Shap Attributions": 1.313825249671936
         },
         {
          "Path Attributions": -1.7657265744551027,
          "Shap Attributions": -1.591310739517212
         },
         {
          "Path Attributions": -0.047481760425694755,
          "Shap Attributions": 0.042796097695827484
         },
         {
          "Path Attributions": -0.689110328573922,
          "Shap Attributions": -0.726588785648346
         },
         {
          "Path Attributions": -0.4569867104236642,
          "Shap Attributions": -0.2991671562194824
         },
         {
          "Path Attributions": 0.24775804921496405,
          "Shap Attributions": 0.41323575377464294
         },
         {
          "Path Attributions": -0.7379469020440157,
          "Shap Attributions": -0.6507889032363892
         },
         {
          "Path Attributions": 0.3174322264301422,
          "Shap Attributions": 0.324079304933548
         },
         {
          "Path Attributions": 1.0599262498560504,
          "Shap Attributions": 1.2001484632492065
         },
         {
          "Path Attributions": 1.1183826801265457,
          "Shap Attributions": 1.1639642715454102
         },
         {
          "Path Attributions": 0.5860151465083039,
          "Shap Attributions": 0.5161489248275757
         },
         {
          "Path Attributions": 0.17523840154658524,
          "Shap Attributions": 0.1391058713197708
         },
         {
          "Path Attributions": -0.44497366666795585,
          "Shap Attributions": -0.494873970746994
         },
         {
          "Path Attributions": 4.592467963224938,
          "Shap Attributions": 4.4131999015808105
         },
         {
          "Path Attributions": 6.117503796280718,
          "Shap Attributions": 6.125326633453369
         },
         {
          "Path Attributions": 0.3570980477895253,
          "Shap Attributions": 0.2854522168636322
         },
         {
          "Path Attributions": -5.322764898327024,
          "Shap Attributions": -5.261466026306152
         },
         {
          "Path Attributions": -1.285697021740381,
          "Shap Attributions": -1.2038379907608032
         },
         {
          "Path Attributions": -0.12519115894327157,
          "Shap Attributions": -0.10941483825445175
         },
         {
          "Path Attributions": -0.4116635544882405,
          "Shap Attributions": -0.3944302797317505
         },
         {
          "Path Attributions": 0.6662348005219826,
          "Shap Attributions": 0.5903176069259644
         },
         {
          "Path Attributions": 4.720000863447901,
          "Shap Attributions": 4.4866814613342285
         },
         {
          "Path Attributions": 1.250665368358455,
          "Shap Attributions": 1.093917727470398
         },
         {
          "Path Attributions": 0.4254085574106899,
          "Shap Attributions": 0.36456793546676636
         },
         {
          "Path Attributions": -0.8415094100410991,
          "Shap Attributions": -0.8396519422531128
         },
         {
          "Path Attributions": -0.13076609600847702,
          "Shap Attributions": -0.33013102412223816
         },
         {
          "Path Attributions": 2.9296997968722738,
          "Shap Attributions": 2.7539408206939697
         },
         {
          "Path Attributions": -2.9629005021945307,
          "Shap Attributions": -3.072564125061035
         },
         {
          "Path Attributions": -0.4209051974088164,
          "Shap Attributions": -0.46488308906555176
         },
         {
          "Path Attributions": -2.8548760919458283,
          "Shap Attributions": -2.798105001449585
         },
         {
          "Path Attributions": -0.1965041947599461,
          "Shap Attributions": -0.32839611172676086
         },
         {
          "Path Attributions": 0.3020561269467506,
          "Shap Attributions": 0.14389656484127045
         },
         {
          "Path Attributions": 1.2080874103988177,
          "Shap Attributions": 1.006479263305664
         },
         {
          "Path Attributions": 0.2793544485311425,
          "Shap Attributions": 0.2015938013792038
         },
         {
          "Path Attributions": -1.8142850096303633,
          "Shap Attributions": -1.8403599262237549
         },
         {
          "Path Attributions": -2.867043066012133,
          "Shap Attributions": -3.0835728645324707
         },
         {
          "Path Attributions": 0.08659902606589229,
          "Shap Attributions": 0.0214499831199646
         },
         {
          "Path Attributions": 0.004496672900348326,
          "Shap Attributions": -0.001203281688503921
         },
         {
          "Path Attributions": -0.6966671432839783,
          "Shap Attributions": -0.6623559594154358
         },
         {
          "Path Attributions": -2.9209455554392565,
          "Shap Attributions": -3.22007155418396
         },
         {
          "Path Attributions": 0.30559241344022137,
          "Shap Attributions": -0.10996579378843307
         },
         {
          "Path Attributions": 0.5941185081204922,
          "Shap Attributions": 0.5890372395515442
         },
         {
          "Path Attributions": 1.9015351427565228,
          "Shap Attributions": 1.9850279092788696
         },
         {
          "Path Attributions": 0.9814292619056318,
          "Shap Attributions": 1.111870288848877
         },
         {
          "Path Attributions": 0.3561632825499592,
          "Shap Attributions": 0.3467656970024109
         },
         {
          "Path Attributions": -0.12942168042293217,
          "Shap Attributions": -0.22968906164169312
         },
         {
          "Path Attributions": 0.07052785505451303,
          "Shap Attributions": 0.09366751462221146
         },
         {
          "Path Attributions": -7.88456681822109,
          "Shap Attributions": -8.185009002685547
         },
         {
          "Path Attributions": 0.5309646278802354,
          "Shap Attributions": 0.5479409694671631
         },
         {
          "Path Attributions": 0.3951745822362134,
          "Shap Attributions": 0.3589600920677185
         },
         {
          "Path Attributions": -0.10849363141408011,
          "Shap Attributions": -0.1672532558441162
         },
         {
          "Path Attributions": -0.4333089168748462,
          "Shap Attributions": -0.3436119854450226
         },
         {
          "Path Attributions": -0.3130087062056351,
          "Shap Attributions": -0.2866901755332947
         },
         {
          "Path Attributions": -2.138780577323413,
          "Shap Attributions": -2.2622997760772705
         },
         {
          "Path Attributions": -0.4866194917974842,
          "Shap Attributions": -0.40526628494262695
         },
         {
          "Path Attributions": -0.5586079622197233,
          "Shap Attributions": -0.588345468044281
         },
         {
          "Path Attributions": -0.27101070824108053,
          "Shap Attributions": -0.4818430244922638
         },
         {
          "Path Attributions": -0.1971645966100605,
          "Shap Attributions": -0.3811214566230774
         },
         {
          "Path Attributions": -0.5625548338863668,
          "Shap Attributions": -0.6717233061790466
         },
         {
          "Path Attributions": -0.07628567732301904,
          "Shap Attributions": -0.048511285334825516
         },
         {
          "Path Attributions": -3.264915846622615,
          "Shap Attributions": -3.2672641277313232
         },
         {
          "Path Attributions": 1.4282961379430965,
          "Shap Attributions": 1.2841098308563232
         },
         {
          "Path Attributions": -0.46463867845420515,
          "Shap Attributions": -0.5482714772224426
         },
         {
          "Path Attributions": 0.1258288809482464,
          "Shap Attributions": 0.08717767149209976
         },
         {
          "Path Attributions": -0.3034103903174051,
          "Shap Attributions": -0.41361182928085327
         },
         {
          "Path Attributions": 3.383462485487362,
          "Shap Attributions": 3.3802566528320312
         },
         {
          "Path Attributions": 5.705770845266837,
          "Shap Attributions": 6.047531604766846
         },
         {
          "Path Attributions": 0.226075745523143,
          "Shap Attributions": 0.12146288901567459
         },
         {
          "Path Attributions": -1.2953919203173294,
          "Shap Attributions": -1.199927806854248
         },
         {
          "Path Attributions": -1.1446071955125177,
          "Shap Attributions": -1.24172043800354
         },
         {
          "Path Attributions": -0.5661180057560867,
          "Shap Attributions": -0.6126896142959595
         },
         {
          "Path Attributions": 2.002221380292814,
          "Shap Attributions": 1.9702438116073608
         },
         {
          "Path Attributions": 0.7383385290950305,
          "Shap Attributions": 0.8146438598632812
         },
         {
          "Path Attributions": 4.451721572488201,
          "Shap Attributions": 4.781747341156006
         },
         {
          "Path Attributions": 1.2323299499812512,
          "Shap Attributions": 1.1923000812530518
         },
         {
          "Path Attributions": 0.2854905693873145,
          "Shap Attributions": 0.22754070162773132
         },
         {
          "Path Attributions": 0.21620889939704394,
          "Shap Attributions": 0.183632954955101
         },
         {
          "Path Attributions": -0.38190327322099865,
          "Shap Attributions": -0.5432717204093933
         },
         {
          "Path Attributions": 2.8944304891280543,
          "Shap Attributions": 2.8891854286193848
         },
         {
          "Path Attributions": 0.49216877662962877,
          "Shap Attributions": 0.13096417486667633
         },
         {
          "Path Attributions": -0.3574174836411609,
          "Shap Attributions": -0.39149007201194763
         },
         {
          "Path Attributions": -1.1880166615600125,
          "Shap Attributions": -1.1593612432479858
         },
         {
          "Path Attributions": -0.9531341145245361,
          "Shap Attributions": -0.9509477019309998
         },
         {
          "Path Attributions": 0.2453079656775002,
          "Shap Attributions": 0.17667266726493835
         },
         {
          "Path Attributions": -0.6448702952014762,
          "Shap Attributions": -0.6354305744171143
         },
         {
          "Path Attributions": 0.406214222076131,
          "Shap Attributions": 0.29172036051750183
         },
         {
          "Path Attributions": 3.0862062938327255,
          "Shap Attributions": 3.1233503818511963
         },
         {
          "Path Attributions": -4.149652870635202,
          "Shap Attributions": -4.106926441192627
         },
         {
          "Path Attributions": -0.14781517261058008,
          "Shap Attributions": -0.1739473044872284
         },
         {
          "Path Attributions": 0.16875325573165054,
          "Shap Attributions": 0.25469958782196045
         },
         {
          "Path Attributions": -1.0093245700791822,
          "Shap Attributions": -1.1492332220077515
         },
         {
          "Path Attributions": -3.44838020571375,
          "Shap Attributions": -3.271740198135376
         },
         {
          "Path Attributions": -1.5342677194851808,
          "Shap Attributions": -1.3552753925323486
         },
         {
          "Path Attributions": 0.8730940966282751,
          "Shap Attributions": 1.0298153162002563
         },
         {
          "Path Attributions": 2.696487963654731,
          "Shap Attributions": 2.737917184829712
         },
         {
          "Path Attributions": 3.432138796698574,
          "Shap Attributions": 3.5697782039642334
         },
         {
          "Path Attributions": 1.0510773690214013,
          "Shap Attributions": 1.2591239213943481
         },
         {
          "Path Attributions": -0.6466699711573325,
          "Shap Attributions": -0.5198445320129395
         },
         {
          "Path Attributions": 0.2470610686737549,
          "Shap Attributions": 0.27319034934043884
         },
         {
          "Path Attributions": -7.459248914684942,
          "Shap Attributions": -7.580458164215088
         },
         {
          "Path Attributions": 1.2090825032611903,
          "Shap Attributions": 1.2707633972167969
         },
         {
          "Path Attributions": -0.504030880807973,
          "Shap Attributions": -0.5184294581413269
         },
         {
          "Path Attributions": 0.16480290103968231,
          "Shap Attributions": 0.1624992936849594
         },
         {
          "Path Attributions": -0.17190075473283298,
          "Shap Attributions": -0.090018130838871
         },
         {
          "Path Attributions": -0.7441823642436532,
          "Shap Attributions": -0.636029839515686
         },
         {
          "Path Attributions": 15.445348527888251,
          "Shap Attributions": 15.330399513244629
         },
         {
          "Path Attributions": -0.3804001974194773,
          "Shap Attributions": -0.4711260497570038
         },
         {
          "Path Attributions": 1.6970971578227267,
          "Shap Attributions": 1.6696999073028564
         },
         {
          "Path Attributions": -0.9952749464359367,
          "Shap Attributions": -1.0136406421661377
         },
         {
          "Path Attributions": 0.2333498508866494,
          "Shap Attributions": 0.23447272181510925
         },
         {
          "Path Attributions": 6.136641633059742,
          "Shap Attributions": 6.072277545928955
         },
         {
          "Path Attributions": 0.31483998925550716,
          "Shap Attributions": 0.3863081932067871
         },
         {
          "Path Attributions": 2.9698461598761474,
          "Shap Attributions": 3.174924612045288
         },
         {
          "Path Attributions": 0.9472280676474,
          "Shap Attributions": 0.9737380146980286
         },
         {
          "Path Attributions": -0.36597986438174474,
          "Shap Attributions": -0.3797313868999481
         },
         {
          "Path Attributions": -0.28612881072906976,
          "Shap Attributions": -0.2610408365726471
         },
         {
          "Path Attributions": 6.256345539824264,
          "Shap Attributions": 6.771934986114502
         },
         {
          "Path Attributions": 2.6162821595670684,
          "Shap Attributions": 2.589674234390259
         },
         {
          "Path Attributions": 1.0767963397042486,
          "Shap Attributions": 1.0530887842178345
         },
         {
          "Path Attributions": -0.5489143770443662,
          "Shap Attributions": -0.5191229581832886
         },
         {
          "Path Attributions": -0.8345801443314921,
          "Shap Attributions": -0.7692422866821289
         },
         {
          "Path Attributions": -2.202579942860754,
          "Shap Attributions": -2.2246549129486084
         },
         {
          "Path Attributions": -1.2103249446972963,
          "Shap Attributions": -1.2049953937530518
         },
         {
          "Path Attributions": -0.8320090331650426,
          "Shap Attributions": -0.8006091713905334
         },
         {
          "Path Attributions": 0.6866621994428934,
          "Shap Attributions": 0.7096132636070251
         },
         {
          "Path Attributions": 7.960234854885293,
          "Shap Attributions": 8.012799263000488
         },
         {
          "Path Attributions": 1.5029939355926372,
          "Shap Attributions": 1.4331517219543457
         },
         {
          "Path Attributions": 0.4188100508083733,
          "Shap Attributions": 0.3353033661842346
         },
         {
          "Path Attributions": -0.09415651087348062,
          "Shap Attributions": -0.14842796325683594
         },
         {
          "Path Attributions": -0.17065277118053623,
          "Shap Attributions": -0.31484588980674744
         },
         {
          "Path Attributions": 2.2256398930296624,
          "Shap Attributions": 2.29475998878479
         },
         {
          "Path Attributions": -0.6976855947045235,
          "Shap Attributions": -0.975307285785675
         },
         {
          "Path Attributions": -0.4904968863153284,
          "Shap Attributions": -0.5369693040847778
         },
         {
          "Path Attributions": -1.7459729208515375,
          "Shap Attributions": -1.7581043243408203
         },
         {
          "Path Attributions": -0.7065747138725724,
          "Shap Attributions": -0.7888373732566833
         },
         {
          "Path Attributions": 0.4901645804109953,
          "Shap Attributions": 0.39769405126571655
         },
         {
          "Path Attributions": -0.21539385136556322,
          "Shap Attributions": -0.25893446803092957
         },
         {
          "Path Attributions": 0.43745452239797084,
          "Shap Attributions": 0.40629449486732483
         },
         {
          "Path Attributions": 1.452391810046012,
          "Shap Attributions": 1.410487174987793
         },
         {
          "Path Attributions": -1.080194837157865,
          "Shap Attributions": -1.075360894203186
         },
         {
          "Path Attributions": -0.08988501278918858,
          "Shap Attributions": -0.03912172093987465
         },
         {
          "Path Attributions": -0.06751102434690623,
          "Shap Attributions": -0.07473700493574142
         },
         {
          "Path Attributions": -1.0146998411095967,
          "Shap Attributions": -0.8432444334030151
         },
         {
          "Path Attributions": -2.4015971359681374,
          "Shap Attributions": -2.319861650466919
         },
         {
          "Path Attributions": 1.3212656099877174,
          "Shap Attributions": 1.4185669422149658
         },
         {
          "Path Attributions": -0.6765952551688502,
          "Shap Attributions": -0.6884635090827942
         },
         {
          "Path Attributions": 1.7217741564055407,
          "Shap Attributions": 1.6610430479049683
         },
         {
          "Path Attributions": 3.4841515884299796,
          "Shap Attributions": 3.2822868824005127
         },
         {
          "Path Attributions": 0.8018643565213434,
          "Shap Attributions": 0.6992636919021606
         },
         {
          "Path Attributions": -1.0408453273360425,
          "Shap Attributions": -1.023350477218628
         },
         {
          "Path Attributions": -0.04035070781948225,
          "Shap Attributions": -0.07185021042823792
         },
         {
          "Path Attributions": 0.5872350448497415,
          "Shap Attributions": 0.557020366191864
         },
         {
          "Path Attributions": -2.4223319784184443,
          "Shap Attributions": -2.3390378952026367
         },
         {
          "Path Attributions": 0.026556265949135426,
          "Shap Attributions": 0.02709369547665119
         },
         {
          "Path Attributions": 0.2338391107941256,
          "Shap Attributions": 0.20779089629650116
         },
         {
          "Path Attributions": -0.9385803050923532,
          "Shap Attributions": -1.0186784267425537
         },
         {
          "Path Attributions": -3.4822429229499967,
          "Shap Attributions": -3.552093267440796
         },
         {
          "Path Attributions": -1.1323347160670372,
          "Shap Attributions": -1.1168537139892578
         },
         {
          "Path Attributions": 1.1288396874563287,
          "Shap Attributions": 1.1512211561203003
         },
         {
          "Path Attributions": 2.515409555455129,
          "Shap Attributions": 2.4043307304382324
         },
         {
          "Path Attributions": 3.712443167778039,
          "Shap Attributions": 3.6361117362976074
         },
         {
          "Path Attributions": 1.4950416294605997,
          "Shap Attributions": 1.3861396312713623
         },
         {
          "Path Attributions": -0.46729042937045717,
          "Shap Attributions": -0.5396324396133423
         },
         {
          "Path Attributions": 0.26912070183018577,
          "Shap Attributions": 0.3189200460910797
         },
         {
          "Path Attributions": -4.702466069240807,
          "Shap Attributions": -4.752660751342773
         },
         {
          "Path Attributions": -4.513844361499532,
          "Shap Attributions": -4.430430889129639
         },
         {
          "Path Attributions": -0.16189898816124584,
          "Shap Attributions": -0.13666190207004547
         },
         {
          "Path Attributions": 0.049668360712489715,
          "Shap Attributions": -0.024722091853618622
         },
         {
          "Path Attributions": -0.944947665702271,
          "Shap Attributions": -0.8319887518882751
         },
         {
          "Path Attributions": -1.8960656379768006,
          "Shap Attributions": -1.6011236906051636
         },
         {
          "Path Attributions": 0.1271050685256771,
          "Shap Attributions": 0.03113873489201069
         },
         {
          "Path Attributions": 1.2072205781615513,
          "Shap Attributions": 1.160644769668579
         },
         {
          "Path Attributions": 3.057235988510565,
          "Shap Attributions": 2.8865230083465576
         },
         {
          "Path Attributions": 3.359689799743897,
          "Shap Attributions": 3.1987500190734863
         },
         {
          "Path Attributions": 0.4744060292019154,
          "Shap Attributions": 0.38379430770874023
         },
         {
          "Path Attributions": -1.031809718270158,
          "Shap Attributions": -0.9986292123794556
         },
         {
          "Path Attributions": -1.689598541220658,
          "Shap Attributions": -1.7124255895614624
         },
         {
          "Path Attributions": -6.020058859059321,
          "Shap Attributions": -6.018838405609131
         },
         {
          "Path Attributions": 1.025230298941334,
          "Shap Attributions": 1.1622430086135864
         },
         {
          "Path Attributions": 0.4362557351269865,
          "Shap Attributions": 0.4794362485408783
         },
         {
          "Path Attributions": -0.36047656666580025,
          "Shap Attributions": -0.3685992360115051
         },
         {
          "Path Attributions": -0.4331436982821175,
          "Shap Attributions": -0.30474889278411865
         },
         {
          "Path Attributions": -1.1629388767555264,
          "Shap Attributions": -1.1262805461883545
         },
         {
          "Path Attributions": -2.339232637238768,
          "Shap Attributions": -2.167067766189575
         },
         {
          "Path Attributions": -0.7018709476875912,
          "Shap Attributions": -0.62717205286026
         },
         {
          "Path Attributions": 1.7725332978748987,
          "Shap Attributions": 1.7021889686584473
         },
         {
          "Path Attributions": -0.8973526508910374,
          "Shap Attributions": -0.8100882172584534
         },
         {
          "Path Attributions": -1.0069425215717243,
          "Shap Attributions": -0.995693027973175
         },
         {
          "Path Attributions": -1.054605007091032,
          "Shap Attributions": -1.011947751045227
         },
         {
          "Path Attributions": 0.2490016170681637,
          "Shap Attributions": 0.22865237295627594
         },
         {
          "Path Attributions": -0.688397095325271,
          "Shap Attributions": -0.5196153521537781
         },
         {
          "Path Attributions": 1.1513745903190349,
          "Shap Attributions": 1.2114120721817017
         },
         {
          "Path Attributions": 0.20156526519328016,
          "Shap Attributions": 0.32228031754493713
         },
         {
          "Path Attributions": -0.13266016552493817,
          "Shap Attributions": -0.10752138495445251
         },
         {
          "Path Attributions": -0.4594996226712905,
          "Shap Attributions": -0.41452670097351074
         },
         {
          "Path Attributions": 1.369640525409109,
          "Shap Attributions": 1.4189084768295288
         },
         {
          "Path Attributions": -1.3879009687215071,
          "Shap Attributions": -1.1776362657546997
         },
         {
          "Path Attributions": -0.48829091639307554,
          "Shap Attributions": -0.4900906980037689
         },
         {
          "Path Attributions": -1.403926575470467,
          "Shap Attributions": -1.3947300910949707
         },
         {
          "Path Attributions": -1.0038233044694582,
          "Shap Attributions": -1.0554779767990112
         },
         {
          "Path Attributions": -0.3673433925766261,
          "Shap Attributions": -0.3097286522388458
         },
         {
          "Path Attributions": -1.1368634478995432,
          "Shap Attributions": -1.006888508796692
         },
         {
          "Path Attributions": 0.40433706961658267,
          "Shap Attributions": 0.46143290400505066
         },
         {
          "Path Attributions": 3.0229695186529093,
          "Shap Attributions": 3.292264223098755
         },
         {
          "Path Attributions": 0.9733855559367627,
          "Shap Attributions": 1.0446122884750366
         },
         {
          "Path Attributions": -0.92250569143095,
          "Shap Attributions": -0.9407296776771545
         },
         {
          "Path Attributions": -0.23060234195279744,
          "Shap Attributions": -0.24047984182834625
         },
         {
          "Path Attributions": -0.547108328501687,
          "Shap Attributions": -0.42820602655410767
         },
         {
          "Path Attributions": 4.975242657779812,
          "Shap Attributions": 5.00399923324585
         },
         {
          "Path Attributions": -2.4905692886617525,
          "Shap Attributions": -2.314436197280884
         },
         {
          "Path Attributions": -0.2579186529037296,
          "Shap Attributions": -0.2291964590549469
         },
         {
          "Path Attributions": -3.84457165418118,
          "Shap Attributions": -3.938354730606079
         },
         {
          "Path Attributions": -1.0738752795679407,
          "Shap Attributions": -1.083364725112915
         },
         {
          "Path Attributions": -0.5951056081681896,
          "Shap Attributions": -0.6157634854316711
         },
         {
          "Path Attributions": -0.1348856843467846,
          "Shap Attributions": -0.10264907777309418
         },
         {
          "Path Attributions": 0.31866693828258796,
          "Shap Attributions": 0.2104155272245407
         },
         {
          "Path Attributions": 2.6808019960330394,
          "Shap Attributions": 2.6757700443267822
         },
         {
          "Path Attributions": -2.120692494958123,
          "Shap Attributions": -2.0560145378112793
         },
         {
          "Path Attributions": -0.03412613007252786,
          "Shap Attributions": -0.1345762461423874
         },
         {
          "Path Attributions": 0.1570651221209804,
          "Shap Attributions": 0.031171554699540138
         },
         {
          "Path Attributions": -0.8879571140456495,
          "Shap Attributions": -0.9361226558685303
         },
         {
          "Path Attributions": -3.9753337784142486,
          "Shap Attributions": -3.92972469329834
         },
         {
          "Path Attributions": -1.3137323100102907,
          "Shap Attributions": -1.2286262512207031
         },
         {
          "Path Attributions": 1.2603488032954213,
          "Shap Attributions": 1.0317530632019043
         },
         {
          "Path Attributions": 1.7540161406042873,
          "Shap Attributions": 1.7125134468078613
         },
         {
          "Path Attributions": 3.4074503620079706,
          "Shap Attributions": 3.0533647537231445
         },
         {
          "Path Attributions": 1.573796735062591,
          "Shap Attributions": 1.2130939960479736
         },
         {
          "Path Attributions": -0.45517783695531305,
          "Shap Attributions": -0.5355691909790039
         },
         {
          "Path Attributions": -1.2160164963215903,
          "Shap Attributions": -1.2052394151687622
         },
         {
          "Path Attributions": -6.67023759074814,
          "Shap Attributions": -6.369755744934082
         },
         {
          "Path Attributions": 1.0571734429835202,
          "Shap Attributions": 1.1874654293060303
         },
         {
          "Path Attributions": -1.3969450978827618,
          "Shap Attributions": -1.3277502059936523
         },
         {
          "Path Attributions": -0.13336499411531666,
          "Shap Attributions": -0.082142174243927
         },
         {
          "Path Attributions": -0.6312050800420624,
          "Shap Attributions": -0.4144144654273987
         },
         {
          "Path Attributions": 4.730112255127246,
          "Shap Attributions": 4.809933662414551
         },
         {
          "Path Attributions": -1.9617535557224248,
          "Shap Attributions": -2.2417519092559814
         },
         {
          "Path Attributions": -0.27525450357274595,
          "Shap Attributions": -0.17132137715816498
         },
         {
          "Path Attributions": -3.5420311931715944,
          "Shap Attributions": -3.7022767066955566
         },
         {
          "Path Attributions": -1.0143304531453683,
          "Shap Attributions": -0.9282128214836121
         },
         {
          "Path Attributions": -0.5140496782729599,
          "Shap Attributions": -0.42795655131340027
         },
         {
          "Path Attributions": 0.03200874166307461,
          "Shap Attributions": 0.008970328606665134
         },
         {
          "Path Attributions": 0.47620745676500226,
          "Shap Attributions": 0.5189791917800903
         },
         {
          "Path Attributions": 2.6582921248139884,
          "Shap Attributions": 2.6418638229370117
         },
         {
          "Path Attributions": 0.6828814755637144,
          "Shap Attributions": 0.6389405131340027
         },
         {
          "Path Attributions": 0.22193630889725244,
          "Shap Attributions": 0.20324662327766418
         },
         {
          "Path Attributions": 0.5552076018519406,
          "Shap Attributions": 0.48758038878440857
         },
         {
          "Path Attributions": -0.6170517573636483,
          "Shap Attributions": -0.697861909866333
         },
         {
          "Path Attributions": -1.4957502098279047,
          "Shap Attributions": -1.630226492881775
         },
         {
          "Path Attributions": 0.0738641668434107,
          "Shap Attributions": -0.20180879533290863
         },
         {
          "Path Attributions": 0.01813744895061614,
          "Shap Attributions": -0.013073510490357876
         },
         {
          "Path Attributions": 1.7346117486223676,
          "Shap Attributions": 1.781144618988037
         },
         {
          "Path Attributions": -0.519021699677456,
          "Shap Attributions": -0.48038771748542786
         },
         {
          "Path Attributions": -1.0883877310143606,
          "Shap Attributions": -1.1790320873260498
         },
         {
          "Path Attributions": -0.35892397325673925,
          "Shap Attributions": -0.5411227345466614
         },
         {
          "Path Attributions": -0.6023942917466023,
          "Shap Attributions": -0.5890076756477356
         },
         {
          "Path Attributions": -5.549073580656184,
          "Shap Attributions": -5.847695350646973
         },
         {
          "Path Attributions": -5.5671148264712125,
          "Shap Attributions": -5.470966815948486
         },
         {
          "Path Attributions": -0.28365371109264226,
          "Shap Attributions": -0.25681746006011963
         },
         {
          "Path Attributions": -0.08885030467599479,
          "Shap Attributions": 0.025641612708568573
         },
         {
          "Path Attributions": -0.9946415705820535,
          "Shap Attributions": -0.9338431358337402
         },
         {
          "Path Attributions": -2.6173515886623036,
          "Shap Attributions": -2.5435948371887207
         },
         {
          "Path Attributions": -1.6358151825939446,
          "Shap Attributions": -1.8097820281982422
         },
         {
          "Path Attributions": 0.2917998547243301,
          "Shap Attributions": 0.4013137221336365
         },
         {
          "Path Attributions": 2.3051610422428257,
          "Shap Attributions": 2.304325580596924
         },
         {
          "Path Attributions": 1.6758046034351124,
          "Shap Attributions": 1.9638868570327759
         },
         {
          "Path Attributions": -0.2497018034734982,
          "Shap Attributions": -0.13084296882152557
         },
         {
          "Path Attributions": -0.43112140392343307,
          "Shap Attributions": -0.4626269042491913
         },
         {
          "Path Attributions": 0.09560847039795514,
          "Shap Attributions": 0.10296207666397095
         },
         {
          "Path Attributions": -8.146050269469336,
          "Shap Attributions": -8.415109634399414
         },
         {
          "Path Attributions": -0.35991679357775924,
          "Shap Attributions": -0.408061683177948
         },
         {
          "Path Attributions": -0.13751094840732925,
          "Shap Attributions": -0.1745542734861374
         },
         {
          "Path Attributions": 0.3233063907941821,
          "Shap Attributions": 0.37294676899909973
         },
         {
          "Path Attributions": 11.728665723821173,
          "Shap Attributions": 11.896647453308105
         },
         {
          "Path Attributions": -4.074819674396854,
          "Shap Attributions": -4.135575294494629
         },
         {
          "Path Attributions": -0.9441503735900334,
          "Shap Attributions": -1.0187784433364868
         },
         {
          "Path Attributions": 0.3766105877369819,
          "Shap Attributions": 0.424412339925766
         },
         {
          "Path Attributions": 1.1474831911553809,
          "Shap Attributions": 1.280540943145752
         },
         {
          "Path Attributions": 4.666496471620472,
          "Shap Attributions": 5.106839656829834
         },
         {
          "Path Attributions": 2.4726435302082277,
          "Shap Attributions": 2.7605321407318115
         },
         {
          "Path Attributions": 0.5505488981517598,
          "Shap Attributions": 0.6171116232872009
         },
         {
          "Path Attributions": 0.4098807507924242,
          "Shap Attributions": 0.31847530603408813
         },
         {
          "Path Attributions": -0.8707023294454469,
          "Shap Attributions": -1.297818660736084
         },
         {
          "Path Attributions": 1.342315142685866,
          "Shap Attributions": 1.035210132598877
         },
         {
          "Path Attributions": -0.5592603300426074,
          "Shap Attributions": -0.6340416669845581
         },
         {
          "Path Attributions": 0.04289300231225834,
          "Shap Attributions": -0.027154799550771713
         },
         {
          "Path Attributions": -0.4386568989603596,
          "Shap Attributions": -0.7284413576126099
         },
         {
          "Path Attributions": 3.881789706631929,
          "Shap Attributions": 3.6880946159362793
         },
         {
          "Path Attributions": 2.688327219946793,
          "Shap Attributions": 2.4656782150268555
         },
         {
          "Path Attributions": -0.30289045072178533,
          "Shap Attributions": -0.232757106423378
         },
         {
          "Path Attributions": -4.568448273627883,
          "Shap Attributions": -4.752741813659668
         },
         {
          "Path Attributions": -1.018071483200731,
          "Shap Attributions": -0.8632020354270935
         },
         {
          "Path Attributions": -0.773681060127401,
          "Shap Attributions": -0.7159121036529541
         },
         {
          "Path Attributions": -0.8047559344397355,
          "Shap Attributions": -0.816747784614563
         },
         {
          "Path Attributions": 0.3964990862619259,
          "Shap Attributions": 0.27789774537086487
         },
         {
          "Path Attributions": 5.906656045266837,
          "Shap Attributions": 5.7082743644714355
         },
         {
          "Path Attributions": -0.7428094025964016,
          "Shap Attributions": -0.5472301840782166
         },
         {
          "Path Attributions": 0.17347385670024057,
          "Shap Attributions": 0.08624965697526932
         },
         {
          "Path Attributions": 0.20697861994274694,
          "Shap Attributions": 0.23307983577251434
         },
         {
          "Path Attributions": -0.8122086948150832,
          "Shap Attributions": -0.9190475940704346
         },
         {
          "Path Attributions": 0.003123506488158594,
          "Shap Attributions": 0.1293613165616989
         },
         {
          "Path Attributions": -1.4011604753849023,
          "Shap Attributions": -1.6799718141555786
         },
         {
          "Path Attributions": 0.7901300439930073,
          "Shap Attributions": 0.7392041087150574
         },
         {
          "Path Attributions": 0.6610326112850792,
          "Shap Attributions": 0.48593345284461975
         },
         {
          "Path Attributions": 4.073987036253483,
          "Shap Attributions": 3.8551392555236816
         },
         {
          "Path Attributions": 1.6461715837198094,
          "Shap Attributions": 1.5143612623214722
         },
         {
          "Path Attributions": -0.4451215030953288,
          "Shap Attributions": -0.45744773745536804
         },
         {
          "Path Attributions": 0.372023150984834,
          "Shap Attributions": 0.46159034967422485
         },
         {
          "Path Attributions": -0.6886622703041815,
          "Shap Attributions": -0.36918771266937256
         },
         {
          "Path Attributions": 0.7642791865139302,
          "Shap Attributions": 0.7591468095779419
         },
         {
          "Path Attributions": 0.16313838455240975,
          "Shap Attributions": 0.18985310196876526
         },
         {
          "Path Attributions": 1.1708509711377215,
          "Shap Attributions": 1.179911732673645
         },
         {
          "Path Attributions": -0.29949459939825573,
          "Shap Attributions": -0.6616384387016296
         },
         {
          "Path Attributions": -1.5744436666303119,
          "Shap Attributions": -1.5702039003372192
         },
         {
          "Path Attributions": -1.0388425560187438,
          "Shap Attributions": -0.9732761979103088
         },
         {
          "Path Attributions": 0.3759769218834418,
          "Shap Attributions": 0.4682142436504364
         },
         {
          "Path Attributions": 2.0857970191498123,
          "Shap Attributions": 1.9726594686508179
         },
         {
          "Path Attributions": -0.9044253831824424,
          "Shap Attributions": -0.9068283438682556
         },
         {
          "Path Attributions": -0.971830805535004,
          "Shap Attributions": -0.926166832447052
         },
         {
          "Path Attributions": -0.6119224934660218,
          "Shap Attributions": -0.4932255148887634
         },
         {
          "Path Attributions": -0.5433956269523275,
          "Shap Attributions": -0.5085830092430115
         },
         {
          "Path Attributions": -5.503647352844936,
          "Shap Attributions": -5.5904364585876465
         },
         {
          "Path Attributions": 1.1685616543973727,
          "Shap Attributions": 1.2417278289794922
         },
         {
          "Path Attributions": -1.0888973558515003,
          "Shap Attributions": -1.1237742900848389
         },
         {
          "Path Attributions": 0.03153107827060742,
          "Shap Attributions": 0.004670470487326384
         },
         {
          "Path Attributions": -0.4808453078239034,
          "Shap Attributions": -0.2584107220172882
         },
         {
          "Path Attributions": 3.181544343935363,
          "Shap Attributions": 3.348090410232544
         },
         {
          "Path Attributions": 0.05317395103349996,
          "Shap Attributions": -0.08802588284015656
         },
         {
          "Path Attributions": 0.9190547341788704,
          "Shap Attributions": 0.7900421023368835
         },
         {
          "Path Attributions": -2.5133071176442505,
          "Shap Attributions": -2.6938605308532715
         },
         {
          "Path Attributions": -0.9011943469114535,
          "Shap Attributions": -0.9451767802238464
         },
         {
          "Path Attributions": -0.46473428197700645,
          "Shap Attributions": -0.4846382141113281
         },
         {
          "Path Attributions": 1.0256363145430563,
          "Shap Attributions": 0.9655585885047913
         },
         {
          "Path Attributions": 0.2065386210915153,
          "Shap Attributions": 0.19929750263690948
         },
         {
          "Path Attributions": 1.5356513465907085,
          "Shap Attributions": 1.4673820734024048
         },
         {
          "Path Attributions": 1.2315967852654908,
          "Shap Attributions": 1.2864770889282227
         },
         {
          "Path Attributions": -0.5217004575544505,
          "Shap Attributions": -0.45209214091300964
         },
         {
          "Path Attributions": -0.18274275719658398,
          "Shap Attributions": -0.0910784974694252
         },
         {
          "Path Attributions": -0.3088646370040337,
          "Shap Attributions": -0.17848749458789825
         },
         {
          "Path Attributions": 0.3926937859275712,
          "Shap Attributions": 0.41022446751594543
         },
         {
          "Path Attributions": -2.335260364083352,
          "Shap Attributions": -2.2751121520996094
         },
         {
          "Path Attributions": -0.5767057939210741,
          "Shap Attributions": -0.5607686638832092
         },
         {
          "Path Attributions": -2.8439795986174516,
          "Shap Attributions": -2.8551132678985596
         },
         {
          "Path Attributions": -0.5348118196400452,
          "Shap Attributions": -0.32027095556259155
         },
         {
          "Path Attributions": -0.13532837461397146,
          "Shap Attributions": 0.07309629023075104
         },
         {
          "Path Attributions": 1.7527533283092516,
          "Shap Attributions": 1.9075120687484741
         },
         {
          "Path Attributions": 0.25718739422901116,
          "Shap Attributions": 0.2481980323791504
         },
         {
          "Path Attributions": -0.8559689132179974,
          "Shap Attributions": -0.7414543032646179
         },
         {
          "Path Attributions": 1.0536330168742842,
          "Shap Attributions": 1.157603144645691
         },
         {
          "Path Attributions": -0.4331864658777986,
          "Shap Attributions": -0.47005006670951843
         },
         {
          "Path Attributions": 0.06199715583410641,
          "Shap Attributions": 0.07566326856613159
         },
         {
          "Path Attributions": -0.35593064394949786,
          "Shap Attributions": -0.34761688113212585
         },
         {
          "Path Attributions": 4.054221266281143,
          "Shap Attributions": 4.169872283935547
         },
         {
          "Path Attributions": -2.7964596680496157,
          "Shap Attributions": -3.112483024597168
         },
         {
          "Path Attributions": -0.35180093312629174,
          "Shap Attributions": -0.3329003155231476
         },
         {
          "Path Attributions": -3.0233134288338004,
          "Shap Attributions": -2.9939866065979004
         },
         {
          "Path Attributions": -0.7763257363810614,
          "Shap Attributions": -0.6369198560714722
         },
         {
          "Path Attributions": -0.7322911879814983,
          "Shap Attributions": -0.6739572286605835
         },
         {
          "Path Attributions": -0.9061075698353517,
          "Shap Attributions": -0.8436996936798096
         },
         {
          "Path Attributions": 0.30467951795503095,
          "Shap Attributions": 0.2957940697669983
         },
         {
          "Path Attributions": 1.430576465082562,
          "Shap Attributions": 1.5168390274047852
         },
         {
          "Path Attributions": 1.0861140905562077,
          "Shap Attributions": 1.2325688600540161
         },
         {
          "Path Attributions": 0.3227741823454365,
          "Shap Attributions": 0.2172456830739975
         },
         {
          "Path Attributions": -0.3656528505051044,
          "Shap Attributions": -0.2888738811016083
         },
         {
          "Path Attributions": -0.30194662848137943,
          "Shap Attributions": -0.11303077638149261
         },
         {
          "Path Attributions": 1.185307315519786,
          "Shap Attributions": 1.2300704717636108
         },
         {
          "Path Attributions": -1.0472897692658771,
          "Shap Attributions": -1.0917285680770874
         },
         {
          "Path Attributions": 0.39117041035739253,
          "Shap Attributions": 0.4831509590148926
         },
         {
          "Path Attributions": -0.6495130201307153,
          "Shap Attributions": -0.6896719932556152
         },
         {
          "Path Attributions": -0.47274391612328903,
          "Shap Attributions": -0.22519797086715698
         },
         {
          "Path Attributions": 0.21628795276125576,
          "Shap Attributions": 0.4259330928325653
         },
         {
          "Path Attributions": -0.7064920462535821,
          "Shap Attributions": -0.676593005657196
         },
         {
          "Path Attributions": 0.08359078100234539,
          "Shap Attributions": 0.09819566458463669
         },
         {
          "Path Attributions": 0.9880993117288019,
          "Shap Attributions": 1.042014479637146
         },
         {
          "Path Attributions": 1.2277407363789081,
          "Shap Attributions": 1.3181477785110474
         },
         {
          "Path Attributions": -0.71016779218738,
          "Shap Attributions": -0.7321106195449829
         },
         {
          "Path Attributions": 0.30765951681380227,
          "Shap Attributions": 0.44124776124954224
         },
         {
          "Path Attributions": -0.2628977710444577,
          "Shap Attributions": -0.2916855812072754
         },
         {
          "Path Attributions": 2.5775722168033752,
          "Shap Attributions": 2.7824950218200684
         },
         {
          "Path Attributions": 3.446258350853493,
          "Shap Attributions": 3.478475570678711
         },
         {
          "Path Attributions": 0.2591786493425541,
          "Shap Attributions": 0.3915158808231354
         },
         {
          "Path Attributions": -2.2777301628280484,
          "Shap Attributions": -2.3953304290771484
         },
         {
          "Path Attributions": -0.9362150965530571,
          "Shap Attributions": -0.8606018424034119
         },
         {
          "Path Attributions": 0.32363372059155726,
          "Shap Attributions": 0.49873316287994385
         },
         {
          "Path Attributions": 2.620670993332577,
          "Shap Attributions": 2.677206039428711
         },
         {
          "Path Attributions": 0.5211829778421456,
          "Shap Attributions": 0.6632106900215149
         },
         {
          "Path Attributions": 4.425339072780048,
          "Shap Attributions": 4.195759296417236
         },
         {
          "Path Attributions": -3.501559954521922,
          "Shap Attributions": -3.598646640777588
         },
         {
          "Path Attributions": 0.11428120083034841,
          "Shap Attributions": 0.11942269653081894
         },
         {
          "Path Attributions": -0.3109620484231683,
          "Shap Attributions": -0.33642879128456116
         },
         {
          "Path Attributions": -0.7045811080003037,
          "Shap Attributions": -0.7288532257080078
         },
         {
          "Path Attributions": -2.7554174889952288,
          "Shap Attributions": -2.907362699508667
         },
         {
          "Path Attributions": 1.107611625720318,
          "Shap Attributions": 0.6831305623054504
         },
         {
          "Path Attributions": 0.47362375715657723,
          "Shap Attributions": 0.4225056767463684
         },
         {
          "Path Attributions": 1.937503325625184,
          "Shap Attributions": 2.005324602127075
         },
         {
          "Path Attributions": -0.09163446041516538,
          "Shap Attributions": -0.12954919040203094
         },
         {
          "Path Attributions": -0.2814590559972304,
          "Shap Attributions": -0.369562566280365
         },
         {
          "Path Attributions": -0.12045617145732686,
          "Shap Attributions": -0.23189949989318848
         },
         {
          "Path Attributions": -0.21320827062090306,
          "Shap Attributions": -0.2353282868862152
         },
         {
          "Path Attributions": -6.838230859292081,
          "Shap Attributions": -7.3435540199279785
         },
         {
          "Path Attributions": 1.0411036685647745,
          "Shap Attributions": 1.1462054252624512
         },
         {
          "Path Attributions": 0.4861828128814199,
          "Shap Attributions": 0.5477942824363708
         },
         {
          "Path Attributions": 0.1732872594629278,
          "Shap Attributions": 0.12235204130411148
         },
         {
          "Path Attributions": -0.3468201370489647,
          "Shap Attributions": -0.1751486361026764
         },
         {
          "Path Attributions": 0.8004652012548199,
          "Shap Attributions": 0.7591261267662048
         },
         {
          "Path Attributions": -2.4409097396063757,
          "Shap Attributions": -2.4040157794952393
         },
         {
          "Path Attributions": -0.5770295399604839,
          "Shap Attributions": -0.6097748279571533
         },
         {
          "Path Attributions": -0.2893474612281984,
          "Shap Attributions": -0.24806609749794006
         },
         {
          "Path Attributions": -0.9149700093910003,
          "Shap Attributions": -0.9835320115089417
         },
         {
          "Path Attributions": -0.27275843709987063,
          "Shap Attributions": -0.2801513671875
         },
         {
          "Path Attributions": -0.1916355243302754,
          "Shap Attributions": -0.27680453658103943
         },
         {
          "Path Attributions": -0.08687929929200079,
          "Shap Attributions": -0.09633395075798035
         },
         {
          "Path Attributions": -0.1682811400467602,
          "Shap Attributions": 0.1150921955704689
         },
         {
          "Path Attributions": 1.2365086760978814,
          "Shap Attributions": 0.990207314491272
         },
         {
          "Path Attributions": -0.6600386670304249,
          "Shap Attributions": -0.6854262351989746
         },
         {
          "Path Attributions": 0.1349782881133482,
          "Shap Attributions": 0.157605841755867
         },
         {
          "Path Attributions": -0.09982663694700877,
          "Shap Attributions": -0.07214249670505524
         },
         {
          "Path Attributions": -2.421094159713492,
          "Shap Attributions": -2.3232836723327637
         },
         {
          "Path Attributions": 7.911544638118345,
          "Shap Attributions": 8.005833625793457
         },
         {
          "Path Attributions": -0.664819765988414,
          "Shap Attributions": -0.6638545393943787
         },
         {
          "Path Attributions": 2.2352441903211036,
          "Shap Attributions": 2.217534065246582
         },
         {
          "Path Attributions": -1.103133226494608,
          "Shap Attributions": -0.9019651412963867
         },
         {
          "Path Attributions": 0.07976286760768386,
          "Shap Attributions": 0.22171525657176971
         },
         {
          "Path Attributions": 5.647614183690198,
          "Shap Attributions": 5.70271110534668
         },
         {
          "Path Attributions": 0.3096801122013581,
          "Shap Attributions": 0.3100132644176483
         },
         {
          "Path Attributions": 3.2884273176266614,
          "Shap Attributions": 3.0309598445892334
         },
         {
          "Path Attributions": 0.8766468280561316,
          "Shap Attributions": 0.9478344321250916
         },
         {
          "Path Attributions": -0.8699466188458015,
          "Shap Attributions": -0.8259389400482178
         },
         {
          "Path Attributions": -0.3266370058742032,
          "Shap Attributions": -0.38903534412384033
         },
         {
          "Path Attributions": -0.48422025367439797,
          "Shap Attributions": -0.41184332966804504
         },
         {
          "Path Attributions": 3.0753315396406733,
          "Shap Attributions": 3.2183170318603516
         },
         {
          "Path Attributions": -3.0707685291356976,
          "Shap Attributions": -3.2165331840515137
         },
         {
          "Path Attributions": -0.3668623445540562,
          "Shap Attributions": -0.32751166820526123
         },
         {
          "Path Attributions": -2.447976645084749,
          "Shap Attributions": -2.4172677993774414
         },
         {
          "Path Attributions": -0.8288028863398226,
          "Shap Attributions": -1.0104559659957886
         },
         {
          "Path Attributions": -0.8785486537894994,
          "Shap Attributions": -0.9549598097801208
         },
         {
          "Path Attributions": -0.7958306563592481,
          "Shap Attributions": -0.8252326846122742
         },
         {
          "Path Attributions": -0.3084922162302116,
          "Shap Attributions": -0.19620047509670258
         },
         {
          "Path Attributions": -0.5677596735279065,
          "Shap Attributions": -0.6380904316902161
         },
         {
          "Path Attributions": -3.0330415891651032,
          "Shap Attributions": -3.0266027450561523
         },
         {
          "Path Attributions": 0.04534767584389609,
          "Shap Attributions": -0.03613870218396187
         },
         {
          "Path Attributions": 0.049326960976080865,
          "Shap Attributions": 0.07123366743326187
         },
         {
          "Path Attributions": -1.0781998364800458,
          "Shap Attributions": -0.8302576541900635
         },
         {
          "Path Attributions": -3.828245835363487,
          "Shap Attributions": -3.9687023162841797
         },
         {
          "Path Attributions": -1.274832723179167,
          "Shap Attributions": -0.9907361268997192
         },
         {
          "Path Attributions": 1.0960234228099073,
          "Shap Attributions": 1.0895142555236816
         },
         {
          "Path Attributions": 1.9489285061026147,
          "Shap Attributions": 2.0470998287200928
         },
         {
          "Path Attributions": 3.507492129742854,
          "Shap Attributions": 3.370218515396118
         },
         {
          "Path Attributions": 1.1214492019760856,
          "Shap Attributions": 1.0111675262451172
         },
         {
          "Path Attributions": -0.7006315563289596,
          "Shap Attributions": -0.6123306751251221
         },
         {
          "Path Attributions": 0.1054891316500538,
          "Shap Attributions": 0.15735705196857452
         },
         {
          "Path Attributions": -6.426611270125113,
          "Shap Attributions": -6.316054821014404
         },
         {
          "Path Attributions": 1.097159530481391,
          "Shap Attributions": 1.0285544395446777
         },
         {
          "Path Attributions": 0.502225813536504,
          "Shap Attributions": 0.4702589511871338
         },
         {
          "Path Attributions": -0.32681007796761286,
          "Shap Attributions": -0.3058873414993286
         },
         {
          "Path Attributions": -0.3043197752958029,
          "Shap Attributions": -0.29291850328445435
         },
         {
          "Path Attributions": -0.3265525652707792,
          "Shap Attributions": -0.3672325611114502
         },
         {
          "Path Attributions": -2.7237256990923773,
          "Shap Attributions": -2.642319679260254
         },
         {
          "Path Attributions": -0.6221501513021795,
          "Shap Attributions": -0.5757429003715515
         },
         {
          "Path Attributions": -0.6051817256320924,
          "Shap Attributions": -0.5641028881072998
         },
         {
          "Path Attributions": -0.6659755416491733,
          "Shap Attributions": -0.6002455353736877
         },
         {
          "Path Attributions": -0.31738212074575284,
          "Shap Attributions": -0.3197590708732605
         },
         {
          "Path Attributions": -0.79591627537731,
          "Shap Attributions": -0.7660592198371887
         },
         {
          "Path Attributions": 0.20918126517424343,
          "Shap Attributions": 0.20627504587173462
         },
         {
          "Path Attributions": 0.13250741105163227,
          "Shap Attributions": -0.10567092150449753
         },
         {
          "Path Attributions": 1.0535243735563395,
          "Shap Attributions": 1.1381897926330566
         },
         {
          "Path Attributions": -0.3991107691292736,
          "Shap Attributions": -0.45223015546798706
         },
         {
          "Path Attributions": -0.1630425428879345,
          "Shap Attributions": -0.1777837574481964
         },
         {
          "Path Attributions": -0.18004225175755675,
          "Shap Attributions": -0.10760869085788727
         },
         {
          "Path Attributions": 0.20306518191609696,
          "Shap Attributions": 0.30754417181015015
         },
         {
          "Path Attributions": -1.9127091305681392,
          "Shap Attributions": -1.6669321060180664
         },
         {
          "Path Attributions": -0.7193174689265377,
          "Shap Attributions": -0.7214211225509644
         },
         {
          "Path Attributions": -2.351953753114028,
          "Shap Attributions": -2.3382034301757812
         },
         {
          "Path Attributions": -0.4265529854159365,
          "Shap Attributions": -0.5166506767272949
         },
         {
          "Path Attributions": 0.03642249632855386,
          "Shap Attributions": 0.09137402474880219
         },
         {
          "Path Attributions": 2.131783973378952,
          "Shap Attributions": 2.1161770820617676
         },
         {
          "Path Attributions": 0.19429662459310398,
          "Shap Attributions": 0.16283845901489258
         },
         {
          "Path Attributions": -2.5687600992321324,
          "Shap Attributions": -2.3453495502471924
         },
         {
          "Path Attributions": -4.283729938282636,
          "Shap Attributions": -4.40976619720459
         },
         {
          "Path Attributions": -0.055242772435682784,
          "Shap Attributions": -0.024975929409265518
         },
         {
          "Path Attributions": 0.43055626033970723,
          "Shap Attributions": 0.44066140055656433
         },
         {
          "Path Attributions": -0.9420193241782405,
          "Shap Attributions": -0.9047273397445679
         },
         {
          "Path Attributions": -1.9267548608744258,
          "Shap Attributions": -1.9655619859695435
         },
         {
          "Path Attributions": -1.616312197124608,
          "Shap Attributions": -1.598904013633728
         },
         {
          "Path Attributions": 0.558955831049491,
          "Shap Attributions": 0.6763550043106079
         },
         {
          "Path Attributions": 2.0720565010853322,
          "Shap Attributions": 2.1746745109558105
         },
         {
          "Path Attributions": 4.013234952158647,
          "Shap Attributions": 3.9467074871063232
         },
         {
          "Path Attributions": 1.931236956824848,
          "Shap Attributions": 1.982883095741272
         },
         {
          "Path Attributions": -0.22589711513961822,
          "Shap Attributions": -0.2516257166862488
         },
         {
          "Path Attributions": 0.13140105458998702,
          "Shap Attributions": 0.13464955985546112
         },
         {
          "Path Attributions": -0.5545783998159874,
          "Shap Attributions": -1.1847037076950073
         },
         {
          "Path Attributions": 0.7473967859095909,
          "Shap Attributions": 0.6228183507919312
         },
         {
          "Path Attributions": 0.06815060633660822,
          "Shap Attributions": 0.11630117148160934
         },
         {
          "Path Attributions": -0.6291483865491472,
          "Shap Attributions": -0.635316014289856
         },
         {
          "Path Attributions": 6.538324225227817,
          "Shap Attributions": 6.200720310211182
         },
         {
          "Path Attributions": -0.5193578328793289,
          "Shap Attributions": -0.4748624563217163
         },
         {
          "Path Attributions": -2.4463412475444897,
          "Shap Attributions": -2.154737949371338
         },
         {
          "Path Attributions": -0.04064421120091637,
          "Shap Attributions": -0.058904845267534256
         },
         {
          "Path Attributions": 0.7220119943747703,
          "Shap Attributions": 0.6042965054512024
         },
         {
          "Path Attributions": -1.5647642233784165,
          "Shap Attributions": -1.3459129333496094
         },
         {
          "Path Attributions": -0.9356350972535212,
          "Shap Attributions": -0.8068875670433044
         },
         {
          "Path Attributions": -1.0997866248669632,
          "Shap Attributions": -1.0296003818511963
         },
         {
          "Path Attributions": 0.3000258514704087,
          "Shap Attributions": 0.28874653577804565
         },
         {
          "Path Attributions": -3.8707875756644694,
          "Shap Attributions": -3.629342794418335
         },
         {
          "Path Attributions": 1.0988932168188623,
          "Shap Attributions": 1.1700565814971924
         },
         {
          "Path Attributions": 0.2419484279226742,
          "Shap Attributions": 0.24787190556526184
         },
         {
          "Path Attributions": -0.5469833551994409,
          "Shap Attributions": -0.47821879386901855
         },
         {
          "Path Attributions": -0.28772155292882773,
          "Shap Attributions": -0.33447447419166565
         },
         {
          "Path Attributions": -0.9922145459819852,
          "Shap Attributions": -0.9437938928604126
         },
         {
          "Path Attributions": -0.697167295715427,
          "Shap Attributions": -0.6273295283317566
         },
         {
          "Path Attributions": -0.6201468987676763,
          "Shap Attributions": -0.615471601486206
         },
         {
          "Path Attributions": 1.4190043883708938,
          "Shap Attributions": 1.436794638633728
         },
         {
          "Path Attributions": -0.7088834547186158,
          "Shap Attributions": -0.5945705771446228
         },
         {
          "Path Attributions": 0.07000872645536362,
          "Shap Attributions": 0.2514975368976593
         },
         {
          "Path Attributions": -1.090234575682348,
          "Shap Attributions": -1.0876240730285645
         },
         {
          "Path Attributions": 0.25276060873665057,
          "Shap Attributions": 0.20451965928077698
         },
         {
          "Path Attributions": 0.9390765321957579,
          "Shap Attributions": 1.0309088230133057
         },
         {
          "Path Attributions": -1.5478742045087073,
          "Shap Attributions": -1.58487868309021
         },
         {
          "Path Attributions": 0.040445062912698886,
          "Shap Attributions": 0.042844463139772415
         },
         {
          "Path Attributions": 0.07204462179514243,
          "Shap Attributions": 0.07705021649599075
         },
         {
          "Path Attributions": -0.6362222750481704,
          "Shap Attributions": -0.6763558983802795
         },
         {
          "Path Attributions": 0.06676923250664606,
          "Shap Attributions": -0.012053915299475193
         },
         {
          "Path Attributions": 1.8848302476364855,
          "Shap Attributions": 2.0792384147644043
         },
         {
          "Path Attributions": -0.15326319290465082,
          "Shap Attributions": -0.16999925673007965
         },
         {
          "Path Attributions": 0.3153025252908026,
          "Shap Attributions": 0.43281421065330505
         },
         {
          "Path Attributions": 3.581129591045185,
          "Shap Attributions": 3.6052889823913574
         },
         {
          "Path Attributions": 1.0860561372782307,
          "Shap Attributions": 1.1071746349334717
         },
         {
          "Path Attributions": -0.9461105872225736,
          "Shap Attributions": -1.027948021888733
         },
         {
          "Path Attributions": 0.4218983325548355,
          "Shap Attributions": 0.45886602997779846
         },
         {
          "Path Attributions": 5.635675253880974,
          "Shap Attributions": 5.949370384216309
         },
         {
          "Path Attributions": 0.9537535619749298,
          "Shap Attributions": 1.252277135848999
         },
         {
          "Path Attributions": 0.524629084966493,
          "Shap Attributions": 0.4976586103439331
         },
         {
          "Path Attributions": 0.1053431832827866,
          "Shap Attributions": 0.17944344878196716
         },
         {
          "Path Attributions": 0.030866168107339918,
          "Shap Attributions": -0.09394990652799606
         },
         {
          "Path Attributions": 2.3760365758745285,
          "Shap Attributions": 2.3563284873962402
         },
         {
          "Path Attributions": -2.172752769477941,
          "Shap Attributions": -2.150200128555298
         },
         {
          "Path Attributions": -0.5777491704237259,
          "Shap Attributions": -0.6105425357818604
         },
         {
          "Path Attributions": -2.3212916529940535,
          "Shap Attributions": -2.385348320007324
         },
         {
          "Path Attributions": -0.03774332074408821,
          "Shap Attributions": 0.1759929656982422
         },
         {
          "Path Attributions": 0.9808279425588458,
          "Shap Attributions": 1.2036259174346924
         },
         {
          "Path Attributions": -0.32298204557772253,
          "Shap Attributions": -0.2874523401260376
         },
         {
          "Path Attributions": 0.003882594812754162,
          "Shap Attributions": 0.015001966618001461
         },
         {
          "Path Attributions": -2.547203198071537,
          "Shap Attributions": -2.685612678527832
         },
         {
          "Path Attributions": 0.9024904281196027,
          "Shap Attributions": 0.9753605127334595
         },
         {
          "Path Attributions": -1.2801674350538,
          "Shap Attributions": -1.306087851524353
         },
         {
          "Path Attributions": -0.20100861909540965,
          "Shap Attributions": -0.15891382098197937
         },
         {
          "Path Attributions": -0.6923211875805642,
          "Shap Attributions": -0.575981616973877
         },
         {
          "Path Attributions": 3.9500209487586067,
          "Shap Attributions": 4.048778533935547
         },
         {
          "Path Attributions": -2.899139657125038,
          "Shap Attributions": -2.895611047744751
         },
         {
          "Path Attributions": -0.6157618714884525,
          "Shap Attributions": -0.6367698907852173
         },
         {
          "Path Attributions": -2.318448248013748,
          "Shap Attributions": -2.4295895099639893
         },
         {
          "Path Attributions": -0.986930347408506,
          "Shap Attributions": -1.108959674835205
         },
         {
          "Path Attributions": -1.0136311971014098,
          "Shap Attributions": -1.1148250102996826
         },
         {
          "Path Attributions": -0.7806600570898935,
          "Shap Attributions": -0.8341780304908752
         },
         {
          "Path Attributions": 0.4579381314609305,
          "Shap Attributions": 0.39170151948928833
         },
         {
          "Path Attributions": 2.424922104102388,
          "Shap Attributions": 2.428955316543579
         },
         {
          "Path Attributions": 1.136094324215258,
          "Shap Attributions": 1.1302183866500854
         },
         {
          "Path Attributions": -0.8896978753183148,
          "Shap Attributions": -0.982456624507904
         },
         {
          "Path Attributions": 0.14086481951378976,
          "Shap Attributions": 0.18977612257003784
         },
         {
          "Path Attributions": -0.2996378144083154,
          "Shap Attributions": -0.2809598743915558
         },
         {
          "Path Attributions": 3.749437762623648,
          "Shap Attributions": 3.6734206676483154
         },
         {
          "Path Attributions": 2.4118694627354866,
          "Shap Attributions": 2.392765522003174
         },
         {
          "Path Attributions": -0.29076374653244463,
          "Shap Attributions": -0.2160520851612091
         },
         {
          "Path Attributions": -2.7450635445914413,
          "Shap Attributions": -2.9402506351470947
         },
         {
          "Path Attributions": -0.9211307453583376,
          "Shap Attributions": -0.8068792819976807
         },
         {
          "Path Attributions": -0.16030412529043975,
          "Shap Attributions": -0.08294418454170227
         },
         {
          "Path Attributions": 0.568487870293336,
          "Shap Attributions": 0.4800172746181488
         },
         {
          "Path Attributions": 0.36635434490933866,
          "Shap Attributions": 0.22909563779830933
         },
         {
          "Path Attributions": -0.3889203879567947,
          "Shap Attributions": -0.2785007953643799
         },
         {
          "Path Attributions": 1.2275582628231654,
          "Shap Attributions": 1.0648764371871948
         },
         {
          "Path Attributions": -0.23569487379420231,
          "Shap Attributions": -0.307856947183609
         },
         {
          "Path Attributions": 0.09328169409919321,
          "Shap Attributions": 0.09330984205007553
         },
         {
          "Path Attributions": -0.3769727662882485,
          "Shap Attributions": -0.39615562558174133
         },
         {
          "Path Attributions": 3.676244972678456,
          "Shap Attributions": 3.4049973487854004
         },
         {
          "Path Attributions": 14.917245396882672,
          "Shap Attributions": 14.733840942382812
         },
         {
          "Path Attributions": 0.524067083583313,
          "Shap Attributions": 0.6004638075828552
         },
         {
          "Path Attributions": -5.9400849325271405,
          "Shap Attributions": -5.674374580383301
         },
         {
          "Path Attributions": -0.992353287401457,
          "Shap Attributions": -0.927241325378418
         },
         {
          "Path Attributions": -0.4457505847197572,
          "Shap Attributions": -0.4550732374191284
         },
         {
          "Path Attributions": -0.8531552441959638,
          "Shap Attributions": -0.7703760862350464
         },
         {
          "Path Attributions": 0.7242277623429374,
          "Shap Attributions": 0.6810860633850098
         },
         {
          "Path Attributions": 6.020751130557249,
          "Shap Attributions": 5.924181938171387
         },
         {
          "Path Attributions": 1.3586275867894357,
          "Shap Attributions": 1.2853279113769531
         },
         {
          "Path Attributions": -0.7692571180942758,
          "Shap Attributions": -0.7321178913116455
         },
         {
          "Path Attributions": 0.43363295661890566,
          "Shap Attributions": 0.5215837359428406
         },
         {
          "Path Attributions": -0.04051229408649032,
          "Shap Attributions": -0.14826415479183197
         },
         {
          "Path Attributions": 2.8064027418224256,
          "Shap Attributions": 2.6238856315612793
         },
         {
          "Path Attributions": 2.27492256325205,
          "Shap Attributions": 2.324479579925537
         },
         {
          "Path Attributions": 0.5963882541656723,
          "Shap Attributions": 0.6895039677619934
         },
         {
          "Path Attributions": -0.9976126950687028,
          "Shap Attributions": -0.7032895684242249
         },
         {
          "Path Attributions": -1.0832084154461405,
          "Shap Attributions": -0.8573853373527527
         },
         {
          "Path Attributions": 0.4129703672307814,
          "Shap Attributions": 0.6226891279220581
         },
         {
          "Path Attributions": 2.7487927456893737,
          "Shap Attributions": 2.817051887512207
         },
         {
          "Path Attributions": 0.7248780193658235,
          "Shap Attributions": 0.5394206047058105
         },
         {
          "Path Attributions": 4.38545039325779,
          "Shap Attributions": 4.033139705657959
         },
         {
          "Path Attributions": 0.12499240958044143,
          "Shap Attributions": 0.437446653842926
         },
         {
          "Path Attributions": 0.5125341025026999,
          "Shap Attributions": 0.5707124471664429
         },
         {
          "Path Attributions": -0.34505059986431663,
          "Shap Attributions": -0.347242534160614
         },
         {
          "Path Attributions": -0.2017432430476603,
          "Shap Attributions": -0.30174005031585693
         },
         {
          "Path Attributions": -4.6389309066284685,
          "Shap Attributions": -4.617537498474121
         },
         {
          "Path Attributions": -1.90208179179869,
          "Shap Attributions": -2.0195870399475098
         },
         {
          "Path Attributions": -0.32831305270747874,
          "Shap Attributions": -0.28678178787231445
         },
         {
          "Path Attributions": 3.7988974021936746,
          "Shap Attributions": 3.5304975509643555
         },
         {
          "Path Attributions": -0.6353619690746272,
          "Shap Attributions": -0.7631922960281372
         },
         {
          "Path Attributions": -0.9840357839448667,
          "Shap Attributions": -0.8849933743476868
         },
         {
          "Path Attributions": 1.9673651539325412,
          "Shap Attributions": 1.6068909168243408
         },
         {
          "Path Attributions": -0.22196380853655082,
          "Shap Attributions": -0.12511274218559265
         },
         {
          "Path Attributions": -1.6096110560986616,
          "Shap Attributions": -1.3611726760864258
         },
         {
          "Path Attributions": 0.9688616604687968,
          "Shap Attributions": 0.9069265127182007
         },
         {
          "Path Attributions": -0.75613849154714,
          "Shap Attributions": -0.7422323226928711
         },
         {
          "Path Attributions": 0.10513744622523831,
          "Shap Attributions": 0.18509051203727722
         },
         {
          "Path Attributions": -0.08422542104308704,
          "Shap Attributions": -0.09612493216991425
         },
         {
          "Path Attributions": -2.3873785994137067,
          "Shap Attributions": -2.3569223880767822
         },
         {
          "Path Attributions": 6.20058954046662,
          "Shap Attributions": 6.219473361968994
         },
         {
          "Path Attributions": -0.5894811477345265,
          "Shap Attributions": -0.5714369416236877
         },
         {
          "Path Attributions": 2.615645666253594,
          "Shap Attributions": 2.642289876937866
         },
         {
          "Path Attributions": -1.023361462132406,
          "Shap Attributions": -0.9727857708930969
         },
         {
          "Path Attributions": 0.07277566064380209,
          "Shap Attributions": 0.15496201813220978
         },
         {
          "Path Attributions": 5.3535222770359985,
          "Shap Attributions": 5.693302631378174
         },
         {
          "Path Attributions": 0.08446928961352014,
          "Shap Attributions": 0.11921572685241699
         },
         {
          "Path Attributions": 2.703792097034976,
          "Shap Attributions": 2.831808567047119
         },
         {
          "Path Attributions": -0.27644204836840425,
          "Shap Attributions": -0.41290268301963806
         },
         {
          "Path Attributions": -0.1547957000783945,
          "Shap Attributions": -0.15128375589847565
         },
         {
          "Path Attributions": -0.18927092148268437,
          "Shap Attributions": -0.23794402182102203
         },
         {
          "Path Attributions": 8.885877455905707,
          "Shap Attributions": 8.456088066101074
         },
         {
          "Path Attributions": -4.524382511102747,
          "Shap Attributions": -4.712038516998291
         },
         {
          "Path Attributions": 11.298352959279395,
          "Shap Attributions": 11.602118492126465
         },
         {
          "Path Attributions": -0.060540635142379076,
          "Shap Attributions": 0.03509778901934624
         },
         {
          "Path Attributions": 2.530229417856129,
          "Shap Attributions": 2.7800896167755127
         },
         {
          "Path Attributions": 4.887732391189009,
          "Shap Attributions": 4.922873020172119
         },
         {
          "Path Attributions": 1.0021869376033656,
          "Shap Attributions": 0.913665771484375
         },
         {
          "Path Attributions": -0.47168868766738326,
          "Shap Attributions": -0.4468822181224823
         },
         {
          "Path Attributions": -0.3500228269871526,
          "Shap Attributions": -0.3916318714618683
         },
         {
          "Path Attributions": 7.51449727999882,
          "Shap Attributions": 7.083139419555664
         },
         {
          "Path Attributions": 1.3069079851990923,
          "Shap Attributions": 1.284358024597168
         },
         {
          "Path Attributions": 0.09903641448330452,
          "Shap Attributions": 0.0791635662317276
         },
         {
          "Path Attributions": -0.38797638931938255,
          "Shap Attributions": -0.37462177872657776
         },
         {
          "Path Attributions": -0.3410834257245034,
          "Shap Attributions": -0.42579421401023865
         },
         {
          "Path Attributions": 3.1013060303352007,
          "Shap Attributions": 3.0932328701019287
         },
         {
          "Path Attributions": -1.384728948984517,
          "Shap Attributions": -1.3917919397354126
         },
         {
          "Path Attributions": 0.688455462469502,
          "Shap Attributions": 0.5843695998191833
         },
         {
          "Path Attributions": -1.1196147539213235,
          "Shap Attributions": -1.0813920497894287
         },
         {
          "Path Attributions": -0.9098901039287457,
          "Shap Attributions": -0.9809802174568176
         },
         {
          "Path Attributions": -0.8679841284287003,
          "Shap Attributions": -0.9199859499931335
         },
         {
          "Path Attributions": -0.7440720499228796,
          "Shap Attributions": -0.8929038643836975
         },
         {
          "Path Attributions": 0.6649287019631994,
          "Shap Attributions": 0.5474943518638611
         },
         {
          "Path Attributions": 3.5629562157045873,
          "Shap Attributions": 3.424992084503174
         },
         {
          "Path Attributions": 0.42333096065300374,
          "Shap Attributions": 0.2915426194667816
         },
         {
          "Path Attributions": -0.07097761784801816,
          "Shap Attributions": -0.08894062787294388
         },
         {
          "Path Attributions": 0.12448279931927242,
          "Shap Attributions": 0.16084150969982147
         },
         {
          "Path Attributions": 4.197694709730023,
          "Shap Attributions": 4.305752277374268
         },
         {
          "Path Attributions": -1.7895569173415207,
          "Shap Attributions": -1.8399590253829956
         },
         {
          "Path Attributions": 9.13749111142619,
          "Shap Attributions": 9.008197784423828
         },
         {
          "Path Attributions": 0.002434117224623085,
          "Shap Attributions": 0.05639692768454552
         },
         {
          "Path Attributions": 2.226456975230783,
          "Shap Attributions": 2.3787879943847656
         },
         {
          "Path Attributions": -2.05648286668644,
          "Shap Attributions": -2.1134896278381348
         },
         {
          "Path Attributions": -0.8377155364122733,
          "Shap Attributions": -0.8761534690856934
         },
         {
          "Path Attributions": 0.6442784168643311,
          "Shap Attributions": 0.6205826997756958
         },
         {
          "Path Attributions": 0.3934481234643495,
          "Shap Attributions": 0.37618812918663025
         },
         {
          "Path Attributions": 10.042145905010669,
          "Shap Attributions": 10.077476501464844
         },
         {
          "Path Attributions": 0.801921127015184,
          "Shap Attributions": 0.7885578274726868
         },
         {
          "Path Attributions": -0.13230804885060118,
          "Shap Attributions": -0.08344187587499619
         },
         {
          "Path Attributions": -0.290702719201175,
          "Shap Attributions": -0.300236314535141
         },
         {
          "Path Attributions": 6.6219506992634765,
          "Shap Attributions": 6.537115097045898
         },
         {
          "Path Attributions": 0.6063576064255937,
          "Shap Attributions": 0.7742269039154053
         },
         {
          "Path Attributions": 1.9998452276929368,
          "Shap Attributions": 2.001629114151001
         },
         {
          "Path Attributions": -0.1067859058362609,
          "Shap Attributions": -0.03495960682630539
         },
         {
          "Path Attributions": 1.177894421221809,
          "Shap Attributions": 1.024139404296875
         },
         {
          "Path Attributions": -1.0536252011805558,
          "Shap Attributions": -1.1207865476608276
         },
         {
          "Path Attributions": -1.081733886288673,
          "Shap Attributions": -1.1149072647094727
         },
         {
          "Path Attributions": -0.6845345352159472,
          "Shap Attributions": -0.7241114974021912
         },
         {
          "Path Attributions": 0.4206816472158934,
          "Shap Attributions": 0.395011305809021
         },
         {
          "Path Attributions": 1.9936630227078076,
          "Shap Attributions": 1.8046923875808716
         },
         {
          "Path Attributions": -0.1952996649024351,
          "Shap Attributions": -0.17797347903251648
         },
         {
          "Path Attributions": 0.41014362404937127,
          "Shap Attributions": 0.49372851848602295
         },
         {
          "Path Attributions": -0.024077152060932503,
          "Shap Attributions": 0.01055050827562809
         },
         {
          "Path Attributions": -0.05996462016055753,
          "Shap Attributions": -0.21766258776187897
         },
         {
          "Path Attributions": -1.7367131476924356,
          "Shap Attributions": -1.7724725008010864
         },
         {
          "Path Attributions": -2.3876547714283864,
          "Shap Attributions": -2.2275030612945557
         },
         {
          "Path Attributions": 0.00864552095088507,
          "Shap Attributions": 0.038696832954883575
         },
         {
          "Path Attributions": 2.4319109805507653,
          "Shap Attributions": 2.615081548690796
         },
         {
          "Path Attributions": -0.8072606231347631,
          "Shap Attributions": -0.8108094334602356
         },
         {
          "Path Attributions": -0.9448383252600225,
          "Shap Attributions": -0.914620578289032
         },
         {
          "Path Attributions": 2.352479787552097,
          "Shap Attributions": 2.3140058517456055
         },
         {
          "Path Attributions": -2.1130239323160476,
          "Shap Attributions": -2.1175131797790527
         },
         {
          "Path Attributions": 1.123498782273693,
          "Shap Attributions": 0.9768843054771423
         }
        ]
       },
       "encoding": {
        "x": {
         "field": "Shap Attributions",
         "type": "quantitative"
        },
        "y": {
         "field": "Path Attributions",
         "type": "quantitative"
        }
       },
       "mark": {
        "filled": true,
        "type": "point"
       }
      },
      "image/png": "[encoded data removed]",
      "text/plain": [
       "<VegaLite 3 object>\n",
       "\n",
       "If you see this message, it means the renderer has not been properly enabled\n",
       "for the frontend that you are using. For more information, see\n",
       "https://altair-viz.github.io/user_guide/troubleshooting.html\n"
      ]
     },
     "execution_count": 80,
     "metadata": {},
     "output_type": "execute_result"
    }
   ],
   "source": [
    "completeness_df = pd.DataFrame({\n",
    "    'Shap Attributions': eg_from_shap[0].flatten(),\n",
    "    'Path Attributions': eg_from_path.flatten()\n",
    "})\n",
    "alt.Chart(completeness_df).mark_point(filled=True).encode(\n",
    "    alt.X('Shap Attributions:Q'),\n",
    "    alt.Y('Path Attributions:Q')\n",
    ")"
   ]
  }
 ],
 "metadata": {
  "kernelspec": {
   "display_name": "Python 3",
   "language": "python",
   "name": "python3"
  },
  "language_info": {
   "codemirror_mode": {
    "name": "ipython",
    "version": 3
   },
   "file_extension": ".py",
   "mimetype": "text/x-python",
   "name": "python",
   "nbconvert_exporter": "python",
   "pygments_lexer": "ipython3",
   "version": "3.7.4"
  }
 },
 "nbformat": 4,
 "nbformat_minor": 4
}
