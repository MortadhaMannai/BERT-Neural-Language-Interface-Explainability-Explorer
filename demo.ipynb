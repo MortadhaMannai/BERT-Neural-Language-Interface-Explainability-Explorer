{
 "cells": [
  {
   "cell_type": "code",
   "execution_count": 1,
   "metadata": {},
   "outputs": [],
   "source": [
    "import torch\n",
    "from transformers import BertTokenizer, BertForSequenceClassification\n",
    "from explainer import Archipelago\n",
    "from application_utils.text_utils import *\n",
    "from application_utils.text_utils_torch import BertWrapperTorch\n",
    "from viz.text import viz_text\n",
    "\n",
    "%load_ext autoreload\n",
    "%autoreload 2\n",
    "%matplotlib inline"
   ]
  },
  {
   "cell_type": "markdown",
   "metadata": {},
   "source": [
    "## Get Model"
   ]
  },
  {
   "cell_type": "code",
   "execution_count": 2,
   "metadata": {},
   "outputs": [],
   "source": [
    "device = torch.device(\"cuda:1\")\n",
    "tokenizer = BertTokenizer.from_pretrained('textattack/bert-base-uncased-snli')\n",
    "model = BertForSequenceClassification.from_pretrained('textattack/bert-base-uncased-snli')\n",
    "model_wrapper = BertWrapperTorch(model, device)"
   ]
  },
  {
   "cell_type": "markdown",
   "metadata": {},
   "source": [
    "## Define Text"
   ]
  },
  {
   "cell_type": "code",
   "execution_count": 3,
   "metadata": {},
   "outputs": [],
   "source": [
    "premise = \"Your gift is appreciated by each and every student who will benefit from your generosity.\"\t\n",
    "hypothesis = \"Hundreds of students will benefit from your generosity.\"\n",
    "baseline_token = \"_\""
   ]
  },
  {
   "cell_type": "markdown",
   "metadata": {},
   "source": [
    "## Explain Prediction"
   ]
  },
  {
   "cell_type": "code",
   "execution_count": 7,
   "metadata": {},
   "outputs": [],
   "source": [
    "text_inputs, baseline_ids = get_input_baseline_ids(premise,\n",
    "                                                   baseline_token,\n",
    "                                                   tokenizer,\n",
    "                                                   text_pair=hypothesis)\n",
    "\n",
    "xf = TextXformer(text_inputs, baseline_ids)\n",
    "# [0: contradiction, 1: entailment, 2: neutral]\n",
    "apgo = Archipelago(model_wrapper, data_xformer=xf, output_indices=2, batch_size=20)"
   ]
  },
  {
   "cell_type": "code",
   "execution_count": 23,
   "metadata": {},
   "outputs": [],
   "source": [
    "explanation = apgo.explain(top_k=10)"
   ]
  },
  {
   "cell_type": "markdown",
   "metadata": {},
   "source": [
    "### Show Explanation"
   ]
  },
  {
   "cell_type": "code",
   "execution_count": 24,
   "metadata": {},
   "outputs": [
    {
     "data": {
      "image/png": "[encoded data removed]",
      "text/plain": [
       "<Figure size 921.6x123.429 with 1 Axes>"
      ]
     },
     "metadata": {
      "needs_background": "light"
     },
     "output_type": "display_data"
    }
   ],
   "source": [
    "tokens = get_token_list(text_inputs['input_ids'], tokenizer)\n",
    "explanation, tokens = process_stop_words(explanation, tokens)\n",
    "fig = viz_text(explanation, tokens)"
   ]
  },
  {
   "cell_type": "code",
   "execution_count": 25,
   "metadata": {},
   "outputs": [
    {
     "data": {
      "text/plain": [
       "{'your': -0.036783516,\n",
       " 'gift,student,benefit,generosity,hundreds,students,benefit,generosity': 3.6915984,\n",
       " 'is': 0.0,\n",
       " 'appreciated': 0.82391727,\n",
       " 'by': 0.0,\n",
       " 'each': 0.07975155,\n",
       " 'and': 0.0,\n",
       " 'every': 0.2851814,\n",
       " 'who': 0.32123256,\n",
       " 'will': 0.0,\n",
       " 'from': 0.0,\n",
       " '.': -0.40235835,\n",
       " '[SEP]': 0.0,\n",
       " 'of': 0.0}"
      ]
     },
     "execution_count": 25,
     "metadata": {},
     "output_type": "execute_result"
    }
   ],
   "source": [
    "text_exp = {}\n",
    "for k, v in explanation.items():\n",
    "    text_exp[','.join([tokens[i-1] for i in k])] = v\n",
    "\n",
    "text_exp\n"
   ]
  },
  {
   "cell_type": "code",
   "execution_count": null,
   "metadata": {},
   "outputs": [],
   "source": []
  }
 ],
 "metadata": {
  "interpreter": {
   "hash": "7c2746b4c817b2e7822e65c51ec19822c8b0676bc7037025bbef03eb15b20d6a"
  },
  "kernelspec": {
   "display_name": "Python 3.8.10 64-bit ('synch': conda)",
   "name": "python3"
  },
  "language_info": {
   "codemirror_mode": {
    "name": "ipython",
    "version": 3
   },
   "file_extension": ".py",
   "mimetype": "text/x-python",
   "name": "python",
   "nbconvert_exporter": "python",
   "pygments_lexer": "ipython3",
   "version": "3.8.10"
  }
 },
 "nbformat": 4,
 "nbformat_minor": 4
}
