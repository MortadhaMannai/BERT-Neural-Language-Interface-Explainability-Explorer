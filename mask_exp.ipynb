{
 "cells": [
  {
   "cell_type": "code",
   "execution_count": 5,
   "metadata": {},
   "outputs": [],
   "source": [
    "import sys\n",
    "\n",
    "sys.path.insert(0, '/data/schoiaj/repos/nli_explain')\n",
    "\n",
    "import torch\n",
    "from explainers.mask_explain.mask_explainer import MaskExplainer\n",
    "\n",
    "%load_ext autoreload\n",
    "%autoreload 2"
   ]
  },
  {
   "cell_type": "code",
   "execution_count": 121,
   "metadata": {},
   "outputs": [],
   "source": [
    "device = torch.device('cuda:2')\n",
    "explainer = MaskExplainer('bert-base', device=device, baseline_token='attention+[MASK]')"
   ]
  },
  {
   "cell_type": "code",
   "execution_count": 129,
   "metadata": {},
   "outputs": [],
   "source": [
    "# neutral example\n",
    "premise = \"Your gift is appreciated by each and every student who will benefit from your generosity.\"\t\n",
    "hypothesis = \"Hundreds of students will benefit from your generosity.\"\n",
    "\n",
    "# contradiction example\n",
    "# premise = 'A man inspects the uniform of a figure in some East Asian country.'\n",
    "# hypothesis = 'The man is sleeping'\n",
    "\n",
    "# entailment example\n",
    "premise = 'Two women are embracing while holding to go packages.'\n",
    "hypothesis = 'Two woman are holding packages.'"
   ]
  },
  {
   "cell_type": "code",
   "execution_count": 141,
   "metadata": {},
   "outputs": [
    {
     "name": "stdout",
     "output_type": "stream",
     "text": [
      "['[CLS]', 'two', 'women', 'are', 'embracing', 'while', 'holding', 'to', 'go', 'packages', '.', '[SEP]', 'two', 'woman', 'are', 'holding', 'packages', '.', '[SEP]']\n",
      "entailment \n",
      "\n",
      "trial 1:\n",
      "(2, women, 4, embracing, 9, packages, 15, holding, 17, .), (2, women, 6, holding, 9, packages, 15, holding, 17, .), (1, two, 2, women, 9, packages, 16, packages, 17, .), (2, women, 6, holding, 9, packages, 16, packages, 17, .), (2, women, 4, embracing, 9, packages, 16, packages, 17, .), (1, two, 2, women, 4, embracing, 9, packages, 15, holding), (2, women, 4, embracing, 9, packages, 14, are, 15, holding), (2, women, 4, embracing, 9, packages, 15, holding, 16, packages), (2, women, 4, embracing, 7, to, 9, packages, 15, holding), (2, women, 4, embracing, 8, go, 9, packages, 15, holding)\n",
      "\n",
      "trial 2:\n",
      "(2, women, 4, embracing, 9, packages, 15, holding, 17, .), (2, women, 6, holding, 9, packages, 15, holding, 17, .), (1, two, 2, women, 9, packages, 16, packages, 17, .), (1, two, 2, women, 4, embracing, 9, packages, 15, holding), (2, women, 4, embracing, 9, packages, 14, are, 15, holding), (2, women, 4, embracing, 9, packages, 16, packages, 17, .), (2, women, 6, holding, 9, packages, 16, packages, 17, .), (2, women, 4, embracing, 9, packages, 15, holding, 16, packages), (1, two, 2, women, 6, holding, 9, packages, 15, holding), (2, women, 9, packages, 15, holding, 16, packages, 17, .)\n",
      "\n",
      "trial 3:\n",
      "(2, women, 4, embracing, 9, packages, 15, holding, 17, .), (2, women, 6, holding, 9, packages, 15, holding, 17, .), (1, two, 2, women, 9, packages, 16, packages, 17, .), (1, two, 2, women, 4, embracing, 9, packages, 15, holding), (2, women, 4, embracing, 9, packages, 14, are, 15, holding), (2, women, 6, holding, 9, packages, 16, packages, 17, .), (2, women, 4, embracing, 9, packages, 15, holding, 16, packages), (2, women, 4, embracing, 9, packages, 16, packages, 17, .), (1, two, 2, women, 6, holding, 9, packages, 15, holding), (2, women, 4, embracing, 7, to, 9, packages, 15, holding)\n",
      "\n",
      "trial 4:\n",
      "(2, women, 4, embracing, 9, packages, 15, holding, 17, .), (2, women, 6, holding, 9, packages, 15, holding, 17, .), (1, two, 2, women, 9, packages, 16, packages, 17, .), (2, women, 4, embracing, 9, packages, 16, packages, 17, .), (2, women, 4, embracing, 9, packages, 14, are, 15, holding), (1, two, 2, women, 4, embracing, 9, packages, 15, holding), (2, women, 6, holding, 9, packages, 16, packages, 17, .), (1, two, 2, women, 6, holding, 9, packages, 15, holding), (2, women, 4, embracing, 9, packages, 13, woman, 15, holding), (2, women, 4, embracing, 9, packages, 15, holding, 16, packages)\n",
      "\n",
      "trial 5:\n",
      "(2, women, 4, embracing, 9, packages, 15, holding, 17, .), (2, women, 6, holding, 9, packages, 15, holding, 17, .), (1, two, 2, women, 9, packages, 16, packages, 17, .), (2, women, 4, embracing, 9, packages, 14, are, 15, holding), (1, two, 2, women, 4, embracing, 9, packages, 15, holding), (2, women, 4, embracing, 9, packages, 16, packages, 17, .), (2, women, 6, holding, 9, packages, 16, packages, 17, .), (2, women, 4, embracing, 9, packages, 10, ., 15, holding), (2, women, 4, embracing, 9, packages, 15, holding, 16, packages), (1, two, 2, women, 6, holding, 9, packages, 15, holding)\n",
      "\n"
     ]
    }
   ],
   "source": [
    "\n",
    "for i in range(5):\n",
    "    explanations, tokens, pred = explainer.explain(premise, hypothesis, batch_size=256, \n",
    "                                                   interaction_order=5,\n",
    "                                                   mask_p=0.5, mask_n=10000, inverse_mask=False)\n",
    "    if i == 0:\n",
    "        print(tokens)\n",
    "        print(explainer.get_label_map(inv=True)[pred], \"\\n\")\n",
    "    print(f\"trial {i + 1}:\")\n",
    "    sorted_exp = sorted(explanations.items(), key=lambda x: x[1], reverse=True)\n",
    "    print(', '.join(['(' + ', '.join([str(tok_id) + \", \" + tokens[tok_id] for tok_id in idx]) + ')' for idx, _ in sorted_exp[:10]]))\n",
    "    print()"
   ]
  },
  {
   "cell_type": "code",
   "execution_count": null,
   "metadata": {},
   "outputs": [],
   "source": []
  }
 ],
 "metadata": {
  "interpreter": {
   "hash": "7c2746b4c817b2e7822e65c51ec19822c8b0676bc7037025bbef03eb15b20d6a"
  },
  "kernelspec": {
   "display_name": "Python 3.8.10 ('synch')",
   "language": "python",
   "name": "python3"
  },
  "language_info": {
   "codemirror_mode": {
    "name": "ipython",
    "version": 3
   },
   "file_extension": ".py",
   "mimetype": "text/x-python",
   "name": "python",
   "nbconvert_exporter": "python",
   "pygments_lexer": "ipython3",
   "version": "3.8.10"
  },
  "orig_nbformat": 4
 },
 "nbformat": 4,
 "nbformat_minor": 2
}
