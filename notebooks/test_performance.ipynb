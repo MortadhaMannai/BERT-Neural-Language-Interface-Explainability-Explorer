{
 "cells": [
  {
   "cell_type": "code",
   "execution_count": 1,
   "metadata": {},
   "outputs": [],
   "source": [
    "from transformers import AutoTokenizer, AutoModelForSequenceClassification\n",
    "  \n",
    "tokenizer = AutoTokenizer.from_pretrained(\"textattack/bert-base-uncased-snli\")\n",
    "\n",
    "# [0 - contradiction 1 - entailment 2 - neutral]\n",
    "model = AutoModelForSequenceClassification.from_pretrained(\"textattack/bert-base-uncased-snli\")"
   ]
  },
  {
   "cell_type": "code",
   "execution_count": 4,
   "metadata": {},
   "outputs": [],
   "source": [
    "import argparse\n",
    "\n",
    "parser = argparse.ArgumentParser()\n",
    "parser.add_argument('--epochs', type=int, default=5, required=False)\n",
    "parser.add_argument('--batch_size', type=int, default=32, required=False)\n",
    "parser.add_argument('--eval_batch_size', type=int, default=64, required=False)\n",
    "parser.add_argument('--lr', type=float, default=5e-5, required=False)\n",
    "parser.add_argument('--model_name',\n",
    "                    type=str,\n",
    "                    default='bert-base-uncased',\n",
    "                    required=False)\n",
    "parser.add_argument('--max_length', type=int, default=64, required=False)\n",
    "parser.add_argument('--data_root',\n",
    "                    type=str,\n",
    "                    default='../data/e-SNLI/dataset',\n",
    "                    required=False)\n",
    "args = parser.parse_args(args=[])"
   ]
  },
  {
   "cell_type": "code",
   "execution_count": 5,
   "metadata": {},
   "outputs": [],
   "source": [
    "from automatic_eval.dataloader import get_dataloaders\n",
    "\n",
    "train, val, test = get_dataloaders(tokenizer, args)"
   ]
  },
  {
   "cell_type": "code",
   "execution_count": 7,
   "metadata": {},
   "outputs": [],
   "source": [
    "import torch\n",
    "\n",
    "device = torch.device('cuda:3')\n",
    "model = model.to(device)"
   ]
  },
  {
   "cell_type": "code",
   "execution_count": 16,
   "metadata": {},
   "outputs": [
    {
     "data": {
      "application/vnd.jupyter.widget-view+json": {
       "model_id": "23b81a353b254244be8a046ddd107f70",
       "version_major": 2,
       "version_minor": 0
      },
      "text/plain": [
       "  0%|          | 0/154 [00:00<?, ?it/s]"
      ]
     },
     "metadata": {},
     "output_type": "display_data"
    },
    {
     "name": "stdout",
     "output_type": "stream",
     "text": [
      "               precision    recall  f1-score   support\n",
      "\n",
      "contradiction       0.93      0.94      0.93      3278\n",
      "   entailment       0.92      0.91      0.92      3329\n",
      "      neutral       0.88      0.88      0.88      3235\n",
      "\n",
      "     accuracy                           0.91      9842\n",
      "    macro avg       0.91      0.91      0.91      9842\n",
      " weighted avg       0.91      0.91      0.91      9842\n",
      "\n"
     ]
    }
   ],
   "source": [
    "from sklearn.metrics import classification_report\n",
    "from tqdm.notebook import tqdm\n",
    "all_pred = []\n",
    "all_gt = []\n",
    "\n",
    "model.eval()\n",
    "for batch in tqdm(val):\n",
    "    batch = {k: v.to(device) for k, v in batch.items()}\n",
    "    label = 2 - batch['label']\n",
    "    batch.pop('label')\n",
    "    logits = model(**batch).logits\n",
    "    pred = logits.max(-1)[1]\n",
    "\n",
    "    all_pred.append(pred)\n",
    "    all_gt.append(label)\n",
    "\n",
    "all_pred = torch.cat(all_pred, dim=0).cpu().numpy()\n",
    "all_gt = torch.cat(all_gt, dim=0).cpu().numpy()\n",
    "\n",
    "print(classification_report(all_gt, all_pred, target_names=['contradiction', 'entailment', 'neutral']))\n"
   ]
  },
  {
   "cell_type": "code",
   "execution_count": 17,
   "metadata": {},
   "outputs": [
    {
     "data": {
      "application/vnd.jupyter.widget-view+json": {
       "model_id": "b8884c3efa84469bb257c29d276eb08b",
       "version_major": 2,
       "version_minor": 0
      },
      "text/plain": [
       "  0%|          | 0/154 [00:00<?, ?it/s]"
      ]
     },
     "metadata": {},
     "output_type": "display_data"
    },
    {
     "name": "stdout",
     "output_type": "stream",
     "text": [
      "               precision    recall  f1-score   support\n",
      "\n",
      "contradiction       0.93      0.94      0.93      3237\n",
      "   entailment       0.92      0.90      0.91      3368\n",
      "      neutral       0.87      0.87      0.87      3219\n",
      "\n",
      "     accuracy                           0.90      9824\n",
      "    macro avg       0.90      0.90      0.90      9824\n",
      " weighted avg       0.90      0.90      0.90      9824\n",
      "\n"
     ]
    }
   ],
   "source": [
    "all_pred = []\n",
    "all_gt = []\n",
    "\n",
    "model.eval()\n",
    "for batch in tqdm(test):\n",
    "    batch = {k: v.to(device) for k, v in batch.items()}\n",
    "    label = 2 - batch['label']\n",
    "    batch.pop('label')\n",
    "    logits = model(**batch).logits\n",
    "    pred = logits.max(-1)[1]\n",
    "\n",
    "    all_pred.append(pred)\n",
    "    all_gt.append(label)\n",
    "\n",
    "all_pred = torch.cat(all_pred, dim=0).cpu().numpy()\n",
    "all_gt = torch.cat(all_gt, dim=0).cpu().numpy()\n",
    "\n",
    "print(classification_report(all_gt, all_pred, target_names=['contradiction', 'entailment', 'neutral']))"
   ]
  },
  {
   "cell_type": "code",
   "execution_count": null,
   "metadata": {},
   "outputs": [],
   "source": []
  }
 ],
 "metadata": {
  "interpreter": {
   "hash": "7c2746b4c817b2e7822e65c51ec19822c8b0676bc7037025bbef03eb15b20d6a"
  },
  "kernelspec": {
   "display_name": "Python 3.8.10 64-bit ('synch': conda)",
   "language": "python",
   "name": "python3"
  },
  "language_info": {
   "codemirror_mode": {
    "name": "ipython",
    "version": 3
   },
   "file_extension": ".py",
   "mimetype": "text/x-python",
   "name": "python",
   "nbconvert_exporter": "python",
   "pygments_lexer": "ipython3",
   "version": "3.8.10"
  },
  "orig_nbformat": 4
 },
 "nbformat": 4,
 "nbformat_minor": 2
}
